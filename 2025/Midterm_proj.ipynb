{
 "cells": [
  {
   "cell_type": "code",
   "execution_count": 3,
   "metadata": {},
   "outputs": [],
   "source": [
    "import numpy as np\n",
    "import pandas as pd\n",
    "import os\n",
    "from scipy.integrate import quad_vec\n",
    "CurrentPath = os.getcwd()\n",
    "sndata = pd.read_csv(CurrentPath + '/2025/parsonage.txt', sep = ' ', engine='python')\n"
   ]
  },
  {
   "cell_type": "markdown",
   "metadata": {},
   "source": [
    "1. Supernovae data:\n",
    "\n",
    "$$M_B ≈ M_V ≈ −19.30 ± 0.03 + 5 \\log(H_0/60) \\qquad \\text{Hillebrandt, W.; Niemeyer, J. C. (2000)}$$\n",
    "\n",
    "$$\\text{we will calculate} \\ \\log(d_L) \\text{ with distance modulus } m - M = 5\\log (d_L/10)$$\n",
    "-> fit the log(d_L) with cosmological parameters\n"
   ]
  },
  {
   "cell_type": "code",
   "execution_count": 2,
   "metadata": {},
   "outputs": [],
   "source": [
    "\n",
    "# observed data\n",
    "mb = sndata['mb'].values\n",
    "dmb = sndata['dmb'].values\n",
    "z = sndata['zcmb'].values\n",
    "H0 = 67.7 # km/s/Mpc Planck 2018\n",
    "# distance modulus\n",
    "absmb = -19.3 + 5*np.log10(H0/60) # H0 = 67.7 km/s/Mpc\n",
    "dabsmb = 0.03\n",
    "\n",
    "logdl_obs = (mb - absmb + 5)/5 \n",
    "dlogdl_obs = (dmb + dabsmb)/5"
   ]
  },
  {
   "cell_type": "code",
   "execution_count": null,
   "metadata": {},
   "outputs": [],
   "source": [
    "# calculated data via the model\n",
    "\n",
    "# model parameters\n",
    "# 1. Flat Lambda CDM\n",
    "def integrand_flat_LCDM(z, Omega_m):\n",
    "    Omega_L = 1 - Omega_m\n",
    "    H0 = 67.7 # km/s/Mpc\n",
    "    E = (1+z)**2*np.sqrt(Omega_m*(1+z) + Omega_L/(1+z)**2)\n",
    "    return 1/E\n",
    "\n",
    "def Flat_LCDM(z, Omega_m):\n",
    "    Omega_L = 1 - Omega_m\n",
    "    H0 = 67.7 # km/s/Mpc\n",
    "    dp = integrand_flat_LCDM(z, Omega_m)\n",
    "    return dl\n",
    "\n",
    "# 2. Curvature Lambda CDM\n",
    "\n",
    "\n",
    "# 3. "
   ]
  }
 ],
 "metadata": {
  "kernelspec": {
   "display_name": "Python [conda env:base] *",
   "language": "python",
   "name": "conda-base-py"
  },
  "language_info": {
   "codemirror_mode": {
    "name": "ipython",
    "version": 3
   },
   "file_extension": ".py",
   "mimetype": "text/x-python",
   "name": "python",
   "nbconvert_exporter": "python",
   "pygments_lexer": "ipython3",
   "version": "3.12.7"
  }
 },
 "nbformat": 4,
 "nbformat_minor": 2
}
