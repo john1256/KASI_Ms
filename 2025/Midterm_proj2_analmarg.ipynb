{
 "cells": [
  {
   "cell_type": "code",
   "execution_count": 2,
   "id": "964b3161",
   "metadata": {},
   "outputs": [],
   "source": [
    "import numpy as np\n",
    "import pandas as pd\n",
    "import os\n",
    "from scipy.integrate import quad_vec\n",
    "import matplotlib.pyplot as plt\n",
    "CurrentPath = os.getcwd()\n",
    "sndata = pd.read_csv(CurrentPath + '/2025/parsonage.txt', sep = ' ', engine='python')"
   ]
  },
  {
   "cell_type": "code",
   "execution_count": 3,
   "id": "f4cad0bd",
   "metadata": {},
   "outputs": [],
   "source": [
    "# observed data\n",
    "mb = sndata['mb'].values\n",
    "dmb = sndata['dmb'].values\n",
    "z = sndata['zcmb'].values"
   ]
  },
  {
   "cell_type": "code",
   "execution_count": 12,
   "id": "dc62689c",
   "metadata": {},
   "outputs": [
    {
     "data": {
      "text/plain": [
       "0.116"
      ]
     },
     "execution_count": 12,
     "metadata": {},
     "output_type": "execute_result"
    }
   ],
   "source": [
    "dmb[3]"
   ]
  },
  {
   "cell_type": "markdown",
   "id": "30edc20f",
   "metadata": {},
   "source": [
    "# 1. SN data"
   ]
  },
  {
   "cell_type": "markdown",
   "id": "610ff924",
   "metadata": {},
   "source": [
    "## 1-1. Flat LCDM"
   ]
  },
  {
   "cell_type": "code",
   "execution_count": 14,
   "id": "a0922882",
   "metadata": {},
   "outputs": [],
   "source": [
    "def E_inverse_flat(z, Omega_m): # return 1/E(z) = H0/H(z)\n",
    "    Omega_L = 1 - Omega_m\n",
    "    E = np.sqrt(Omega_m*(1+z)**3 + Omega_L)\n",
    "    return 1/E\n",
    "\n",
    "def Other_stuff_flat(z, parm):\n",
    "    H0, Omegam = parm\n",
    "    integral = np.array([quad_vec(E_inverse_flat, 0,zval, args=(Omegam))[0] for zval in z])\n",
    "    return integral\n",
    "\n",
    "def A(func,mb, dmb,z, parm):\n",
    "    ndata = mb.size\n",
    "    A = 1/ndata*np.sum(dmb**2)*np.sum((mb - func(z,parm))/(dmb**2))\n",
    "    return A\n",
    "\n",
    "from tqdm import tqdm\n",
    "\n",
    "# 1. make a code that accounts for a prior\n",
    "def ln_prior(min,max):\n",
    "    volume = np.prod(np.abs(min - max)) # volume of the prior\n",
    "    return np.log(1/volume)\n",
    "\n",
    "def Loglikelihood(func, parm,SNdata): # return Loglikelihood = -chisq, parm[0] = H0, parm[1] = Omegam, parm[2] = Omegalamb\n",
    "    mb = SNdata['mb'].values\n",
    "    dmb = SNdata['dmb'].values\n",
    "    z = SNdata['zcmb'].values\n",
    "    m_z = A(func, mb,dmb, z, parm) + func(z, parm) # m_z = A + integral\n",
    "    diff = (mb - m_z)**2\n",
    "    chisq = np.sum(diff/dmb**2)\n",
    "    return -chisq\n",
    "\n",
    "def ln_f(func, parm,SNdata, prior, lnprior): # return total Loglikelihood\n",
    "    bool = np.all((prior[0] <= parm) & (parm <= prior[1]))\n",
    "    if bool == True:\n",
    "        return lnprior + Loglikelihood(func, parm, SNdata) # param[0] = H0, param[1] = Omegam, param[2] = Omegalamb\n",
    "    else:\n",
    "        return -np.inf\n",
    "\n",
    "def Markov(func, paramk,paramkp1,SNdata, prior, lnprior):\n",
    "    minuschisqk = ln_f(func, paramk, SNdata, prior, lnprior)\n",
    "    minuschisqkp1 = ln_f(func, paramkp1, SNdata, prior, lnprior)\n",
    "    lnr = np.log(np.random.uniform(0.,1.))\n",
    "\n",
    "    if minuschisqkp1 - minuschisqk > lnr:\n",
    "#        print(f\"param0 = {paramk}, paramkp1 = {paramkp1}, \\n chisq0 = {minuschisqk}, chisqkp1 = {minuschisqkp1}, lnr = {lnr}, moved : True\")\n",
    "        return paramkp1, minuschisqkp1\n",
    "    else:\n",
    "#        print(f\"param0 = {paramk}, paramkp1 = {paramkp1}, \\n chisq0 = {minuschisqk}, chisqkp1 = {minuschisqkp1}, lnr = {lnr}, moved : False\")\n",
    "        return paramk, minuschisqk\n",
    "\n",
    "def MCMC(func, paraminit,SNdata, nstep,normal_vec,prior): # param0 = [H0, Omegam, Omegalamb]\n",
    "    lnprior = ln_prior(prior[0], prior[1]) # calculate the prior volume likelihood\n",
    "    param0 = paraminit\n",
    "    arr = np.zeros((len(param0) + 1,nstep))\n",
    "    stepsize = normal_vec\n",
    "    for k in tqdm(range(nstep)):\n",
    "        paramkp1 = np.array(param0 + np.random.normal(0,stepsize))\n",
    "        param0, loglikelihood = Markov(func, param0, paramkp1,SNdata, prior, lnprior) #loglikelihood = -chisq\n",
    "        col = np.hstack((param0, loglikelihood))\n",
    "        arr[:,k] = col\n",
    "    return arr"
   ]
  },
  {
   "cell_type": "code",
   "execution_count": 15,
   "id": "43092dd7",
   "metadata": {},
   "outputs": [],
   "source": [
    "Prior1 = np.array([[4.66594018,0], [36.39070654, 1]])"
   ]
  },
  {
   "cell_type": "code",
   "execution_count": 22,
   "id": "68cf5caa",
   "metadata": {},
   "outputs": [
    {
     "name": "stderr",
     "output_type": "stream",
     "text": [
      "100%|████████████████████████████████████████████████████████████████████████████████████████████████████████████████████████████████████████████████████████████| 1000/1000 [05:17<00:00,  3.15it/s]\n"
     ]
    }
   ],
   "source": [
    "normal_vec = np.array([2.16656036e-01, 8.47071452e-06])\n",
    "std = np.array([0.25058526, 0.001])\n",
    "paraminit = np.array([17.559485514552893, 1.5139296621150994e-08]) + np.random.normal(0,std)\n",
    "nstep = int(1000)\n",
    "MCMC_test = MCMC(Other_stuff_flat, paraminit, sndata, nstep, normal_vec, Prior1)"
   ]
  },
  {
   "cell_type": "code",
   "execution_count": 23,
   "id": "5f996fc8",
   "metadata": {},
   "outputs": [
    {
     "name": "stdout",
     "output_type": "stream",
     "text": [
      "accept_ratio = 0.91125\n",
      "Best_fit = Omega_m : 1.1298194635719206e-07, Hubble_constant : 9.60621861813521\n",
      "std = [7.09838952e-01 5.54561520e-04]\n"
     ]
    },
    {
     "data": {
      "text/plain": [
       "Text(0.5, 1.0, 'MCMC result for Flat LCDM')"
      ]
     },
     "execution_count": 23,
     "metadata": {},
     "output_type": "execute_result"
    },
    {
     "data": {
      "image/png": "[encoded data removed]",
      "text/plain": [
       "<Figure size 640x480 with 1 Axes>"
      ]
     },
     "metadata": {},
     "output_type": "display_data"
    }
   ],
   "source": [
    "MCMC_test = MCMC_test[:,200:]\n",
    "accept_ratio = np.unique(MCMC_test).shape[0] / (nstep-200)\n",
    "Best_fit = MCMC_test[:,np.argmax(MCMC_test[-1])]\n",
    "std = np.std(MCMC_test[0:2], axis=1)\n",
    "print(f'accept_ratio = {accept_ratio}')\n",
    "print(f'Best_fit = Omega_m : {Best_fit[1]}, Hubble_constant : {Best_fit[0]}')\n",
    "print(f'std = {std}')\n",
    "plt.scatter(MCMC_test[1], MCMC_test[0], s=2, alpha=0.5)\n",
    "plt.xlabel('Omega_m')\n",
    "plt.ylabel('Hubble constant (km/s/Mpc)')\n",
    "plt.title('MCMC result for Flat LCDM')"
   ]
  }
 ],
 "metadata": {
  "kernelspec": {
   "display_name": "Python [conda env:base] *",
   "language": "python",
   "name": "conda-base-py"
  },
  "language_info": {
   "codemirror_mode": {
    "name": "ipython",
    "version": 3
   },
   "file_extension": ".py",
   "mimetype": "text/x-python",
   "name": "python",
   "nbconvert_exporter": "python",
   "pygments_lexer": "ipython3",
   "version": "3.12.7"
  }
 },
 "nbformat": 4,
 "nbformat_minor": 5
}
