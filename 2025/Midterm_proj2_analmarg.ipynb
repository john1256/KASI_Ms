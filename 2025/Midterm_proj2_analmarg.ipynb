{
 "cells": [
  {
   "cell_type": "code",
   "execution_count": 2,
   "id": "964b3161",
   "metadata": {},
   "outputs": [],
   "source": [
    "import numpy as np\n",
    "import pandas as pd\n",
    "import os\n",
    "from scipy.integrate import quad_vec\n",
    "import matplotlib.pyplot as plt\n",
    "CurrentPath = os.getcwd()\n",
    "sndata = pd.read_csv(CurrentPath + '/2025/parsonage.txt', sep = ' ', engine='python')"
   ]
  },
  {
   "cell_type": "code",
   "execution_count": 3,
   "id": "f4cad0bd",
   "metadata": {},
   "outputs": [],
   "source": [
    "# observed data\n",
    "mb = sndata['mb'].values\n",
    "dmb = sndata['dmb'].values\n",
    "z = sndata['zcmb'].values"
   ]
  },
  {
   "cell_type": "code",
   "execution_count": 4,
   "id": "dc62689c",
   "metadata": {},
   "outputs": [
    {
     "data": {
      "text/plain": [
       "0.116"
      ]
     },
     "execution_count": 4,
     "metadata": {},
     "output_type": "execute_result"
    }
   ],
   "source": [
    "dmb[3]"
   ]
  },
  {
   "cell_type": "markdown",
   "id": "30edc20f",
   "metadata": {},
   "source": [
    "# 1. SN data"
   ]
  },
  {
   "cell_type": "code",
   "execution_count": 15,
   "id": "8b2bc52a",
   "metadata": {},
   "outputs": [
    {
     "data": {
      "text/plain": [
       "(100,)"
      ]
     },
     "execution_count": 15,
     "metadata": {},
     "output_type": "execute_result"
    }
   ],
   "source": [
    "grid.shape"
   ]
  },
  {
   "cell_type": "markdown",
   "id": "610ff924",
   "metadata": {},
   "source": [
    "## 1-1. Flat LCDM"
   ]
  },
  {
   "cell_type": "code",
   "execution_count": 100,
   "id": "a0922882",
   "metadata": {},
   "outputs": [],
   "source": [
    "from scipy.interpolate import interp1d\n",
    "\n",
    "def E_inverse_flat(z, Omega_m): # return 1/E(z) = H0/H(z)\n",
    "    Omega_L = 1 - Omega_m\n",
    "    E = np.sqrt(Omega_m*(1+z)**3 + Omega_L)\n",
    "    return 1/E\n",
    "\n",
    "\n",
    "def Other_stuff_flat(z, parm): # parm[0] = Omegam, parm[1] = Omegalamb\n",
    "    Omegam = parm[0]\n",
    "    grid = np.linspace(z.min(), z.max(), 300)\n",
    "    grid_dist = np.array([quad_vec(E_inverse_flat, 0,n, args=(Omegam))[0] for n in grid])\n",
    "    interp_func = interp1d(grid, grid_dist, kind='linear', fill_value='extrapolate')\n",
    "    integral = interp_func(z)\n",
    "    \n",
    "    return integral\n",
    "def B(func, parm,z):\n",
    "    \"\"\"\n",
    "    B(Omegam, Omegalamb) = 5*log10((1+z)*proper distance*H0/c)\n",
    "    m(z) = A + B(Omegam, Omegalamb)\n",
    "    input : \n",
    "        func : proper distance*H0/c (Other_stuff_flat or Other_stuff_curved)\n",
    "        parm : [Omegam, Omegalamb] \n",
    "        z : redshift\n",
    "    output :\n",
    "        Bval : B(Omegam, Omegalamb)\n",
    "    \"\"\"\n",
    "    Bval = 5*np.log10((1+z)*func(z, parm))\n",
    "    return Bval\n",
    "\n",
    "def A(func,mb, dmb,z, parm):\n",
    "    ndata = mb.size\n",
    "    A = 1/ndata*np.sum(dmb**2)*np.sum((mb - B(func,parm,z))/(dmb**2))\n",
    "    return A\n",
    "\n",
    "from tqdm import tqdm\n",
    "\n",
    "# 1. make a code that accounts for a prior\n",
    "def ln_prior(min,max):\n",
    "    volume = np.prod(np.abs(min - max)) # volume of the prior\n",
    "    return np.log(1/volume)\n",
    "\n",
    "def Loglikelihood(func, parm,SNdata): # return Loglikelihood = -chisq, parm[0] = H0, parm[1] = Omegam, parm[2] = Omegalamb\n",
    "    mb = SNdata['mb'].values\n",
    "    dmb = SNdata['dmb'].values\n",
    "    z = SNdata['zcmb'].values\n",
    "    m_z = A(func, mb,dmb, z, parm) + B(func, parm, z) # m_z = A + B(Omegam, Omegalamb)\n",
    "    diff = (mb - m_z)**2\n",
    "    chisq = np.sum(diff/dmb**2)\n",
    "    return -chisq\n",
    "\n",
    "def ln_f(func, parm,SNdata, prior, lnprior): # return total Loglikelihood\n",
    "    bool = np.all((prior[0] <= parm) & (parm <= prior[1]))\n",
    "    if bool == True:\n",
    "        return lnprior + Loglikelihood(func, parm, SNdata) # param[0] = H0, param[1] = Omegam, param[2] = Omegalamb\n",
    "    else:\n",
    "        return -np.inf\n",
    "\n",
    "def Markov(func, paramk,paramkp1,SNdata, prior, lnprior):\n",
    "    minuschisqk = ln_f(func, paramk, SNdata, prior, lnprior)\n",
    "    minuschisqkp1 = ln_f(func, paramkp1, SNdata, prior, lnprior)\n",
    "    lnr = np.log(np.random.uniform(0.,1.))\n",
    "\n",
    "    if minuschisqkp1 - minuschisqk > lnr:\n",
    "#        print(f\"param0 = {paramk}, paramkp1 = {paramkp1}, \\n chisq0 = {minuschisqk}, chisqkp1 = {minuschisqkp1}, lnr = {lnr}, moved : True\")\n",
    "        return paramkp1, minuschisqkp1\n",
    "    else:\n",
    "#        print(f\"param0 = {paramk}, paramkp1 = {paramkp1}, \\n chisq0 = {minuschisqk}, chisqkp1 = {minuschisqkp1}, lnr = {lnr}, moved : False\")\n",
    "        return paramk, minuschisqk\n",
    "\n",
    "def MCMC(func, paraminit,SNdata, nstep,normal_vec,prior): # param0 = [H0, Omegam, Omegalamb]\n",
    "    lnprior = ln_prior(prior[0], prior[1]) # calculate the prior volume likelihood\n",
    "    param0 = paraminit\n",
    "    arr = np.zeros((len(param0) + 1,nstep))\n",
    "    stepsize = normal_vec\n",
    "    for k in tqdm(range(nstep)):\n",
    "        paramkp1 = np.array(param0 + np.random.normal(0,stepsize))\n",
    "        param0, loglikelihood = Markov(func, param0, paramkp1,SNdata, prior, lnprior) #loglikelihood = -chisq\n",
    "        col = np.hstack((param0, loglikelihood))\n",
    "        arr[:,k] = col\n",
    "    return arr"
   ]
  },
  {
   "cell_type": "code",
   "execution_count": 97,
   "id": "43092dd7",
   "metadata": {},
   "outputs": [],
   "source": [
    "Prior1 = np.array([[0.],[1.]])"
   ]
  },
  {
   "cell_type": "code",
   "execution_count": 102,
   "id": "68cf5caa",
   "metadata": {},
   "outputs": [
    {
     "name": "stderr",
     "output_type": "stream",
     "text": [
      "100%|████████████████████████████████████████████████████████████████████████████████████████████████████████████████████████████████████████████████████████████| 2000/2000 [02:47<00:00, 11.91it/s]\n"
     ]
    }
   ],
   "source": [
    "normal_vec = np.array([0.00001])*0.05\n",
    "std = np.array([7.207595017419446e-06])\n",
    "paraminit = np.array([1.8121254406749585e-05]) + np.random.normal(0,std)\n",
    "nstep = int(2e3)\n",
    "MCMC_test = MCMC(Other_stuff_flat, paraminit, sndata, nstep, normal_vec, Prior1)"
   ]
  },
  {
   "cell_type": "code",
   "execution_count": 103,
   "id": "5f996fc8",
   "metadata": {},
   "outputs": [
    {
     "name": "stdout",
     "output_type": "stream",
     "text": [
      "accept_ratio = 0.0033333333333333335\n",
      "Best_fit = Omega_m : 9.873879441069234e-10\n",
      "std = 2.2682419669960102e-10\n"
     ]
    },
    {
     "data": {
      "text/plain": [
       "(array([1.797e+03, 2.000e+00, 0.000e+00, 0.000e+00, 0.000e+00, 0.000e+00,\n",
       "        0.000e+00, 0.000e+00, 0.000e+00, 0.000e+00, 0.000e+00, 0.000e+00,\n",
       "        0.000e+00, 0.000e+00, 0.000e+00, 0.000e+00, 0.000e+00, 0.000e+00,\n",
       "        0.000e+00, 0.000e+00, 0.000e+00, 0.000e+00, 0.000e+00, 0.000e+00,\n",
       "        0.000e+00, 0.000e+00, 0.000e+00, 0.000e+00, 0.000e+00, 0.000e+00,\n",
       "        0.000e+00, 0.000e+00, 0.000e+00, 0.000e+00, 0.000e+00, 0.000e+00,\n",
       "        0.000e+00, 0.000e+00, 0.000e+00, 0.000e+00, 0.000e+00, 0.000e+00,\n",
       "        0.000e+00, 0.000e+00, 0.000e+00, 0.000e+00, 0.000e+00, 0.000e+00,\n",
       "        0.000e+00, 1.000e+00]),\n",
       " array([9.87387944e-10, 1.17969840e-09, 1.37200886e-09, 1.56431932e-09,\n",
       "        1.75662978e-09, 1.94894024e-09, 2.14125070e-09, 2.33356116e-09,\n",
       "        2.52587162e-09, 2.71818208e-09, 2.91049254e-09, 3.10280300e-09,\n",
       "        3.29511346e-09, 3.48742392e-09, 3.67973438e-09, 3.87204483e-09,\n",
       "        4.06435529e-09, 4.25666575e-09, 4.44897621e-09, 4.64128667e-09,\n",
       "        4.83359713e-09, 5.02590759e-09, 5.21821805e-09, 5.41052851e-09,\n",
       "        5.60283897e-09, 5.79514943e-09, 5.98745989e-09, 6.17977035e-09,\n",
       "        6.37208081e-09, 6.56439127e-09, 6.75670172e-09, 6.94901218e-09,\n",
       "        7.14132264e-09, 7.33363310e-09, 7.52594356e-09, 7.71825402e-09,\n",
       "        7.91056448e-09, 8.10287494e-09, 8.29518540e-09, 8.48749586e-09,\n",
       "        8.67980632e-09, 8.87211678e-09, 9.06442724e-09, 9.25673770e-09,\n",
       "        9.44904816e-09, 9.64135862e-09, 9.83366907e-09, 1.00259795e-08,\n",
       "        1.02182900e-08, 1.04106005e-08, 1.06029109e-08]),\n",
       " <BarContainer object of 50 artists>)"
      ]
     },
     "execution_count": 103,
     "metadata": {},
     "output_type": "execute_result"
    },
    {
     "data": {
      "image/png": "[encoded data removed]",
      "text/plain": [
       "<Figure size 640x480 with 1 Axes>"
      ]
     },
     "metadata": {},
     "output_type": "display_data"
    }
   ],
   "source": [
    "\n",
    "MCMC_test = MCMC_test[:,200:]\n",
    "accept_ratio = np.unique(MCMC_test).shape[0] / (nstep-200)\n",
    "\n",
    "Best_fit = MCMC_test[:,np.argmax(MCMC_test[-1])]\n",
    "std = np.std(MCMC_test[0])\n",
    "print(f'accept_ratio = {accept_ratio}')\n",
    "print(f'Best_fit = Omega_m : {Best_fit[0]}')\n",
    "print(f'std = {std}')\n",
    "plt.hist(MCMC_test[0],bins=50,alpha=0.5, label='Omega_m')"
   ]
  },
  {
   "cell_type": "code",
   "execution_count": 98,
   "id": "e0862a59",
   "metadata": {},
   "outputs": [],
   "source": [
    "# test\n",
    "def Other_stuff_test(z, parm): # parm[0] = Omegam, parm[1] = Omegalamb\n",
    "    Omegam = parm[0]\n",
    "    grid_dist = np.array([quad_vec(E_inverse_flat, 0,n, args=(Omegam))[0] for n in z])\n",
    "    return grid_dist\n",
    "def Loglikelihood(func, parm,SNdata): # return Loglikelihood = -chisq, parm[0] = H0, parm[1] = Omegam, parm[2] = Omegalamb\n",
    "    mb = SNdata['mb'].values\n",
    "    dmb = SNdata['dmb'].values\n",
    "    z = SNdata['zcmb'].values\n",
    "    m_z = A(func, mb,dmb, z, parm) + B(func,parm, z) # m_z = A + integral\n",
    "    diff = (mb - m_z)**2\n",
    "    chisq = np.sum(diff/dmb**2)\n",
    "    return -chisq"
   ]
  },
  {
   "cell_type": "code",
   "execution_count": 101,
   "id": "113dcf7b",
   "metadata": {},
   "outputs": [
    {
     "name": "stdout",
     "output_type": "stream",
     "text": [
      "Error = 7.258364581630221e-07, Error2 = 1.785897351411649e-05, Error3 = 0.02222413765048259\n"
     ]
    }
   ],
   "source": [
    "parm = np.array([0.1])\n",
    "Error = np.abs(Other_stuff_flat(z, parm) - Other_stuff_test(z, parm)).mean()\n",
    "Error2 = np.abs(B(Other_stuff_flat, parm, z) - B(Other_stuff_test, parm, z)).mean()\n",
    "Error3 = np.abs(A(Other_stuff_flat, mb, dmb, z, parm) - A(Other_stuff_test, mb, dmb, z, parm)).mean()\n",
    "print(f'Error = {Error}, Error2 = {Error2}, Error3 = {Error3}')\n"
   ]
  },
  {
   "cell_type": "code",
   "execution_count": null,
   "id": "c12d797a",
   "metadata": {},
   "outputs": [],
   "source": []
  },
  {
   "cell_type": "markdown",
   "id": "d0e639b0",
   "metadata": {},
   "source": [
    "## 1-2. Curved LCDM"
   ]
  },
  {
   "cell_type": "code",
   "execution_count": 132,
   "id": "19653cb0",
   "metadata": {},
   "outputs": [],
   "source": [
    "from scipy.interpolate import interp1d\n",
    "\n",
    "def E_inverse_curved(z, Omega_m, Omegalamb): # return 1/E(z) = H0/H(z)\n",
    "    Omega_k = 1 - Omega_m-Omegalamb\n",
    "    E = np.sqrt(Omega_m*(1+z)**3 + Omegalamb + Omega_k*(1+z)**2)\n",
    "    return 1/E\n",
    "\n",
    "\n",
    "def Other_stuff_curved(z, parm): # parm[0] = Omegam, parm[1] = Omegalamb\n",
    "    Omegam = parm[0]\n",
    "    Omegalamb = parm[1]\n",
    "    grid = np.linspace(z.min(), z.max(), 100)\n",
    "    grid_dist = np.array([quad_vec(E_inverse_curved, 0,n, args=(Omegam, Omegalamb))[0] for n in grid])\n",
    "    interp_func = interp1d(grid, grid_dist, kind='linear', fill_value='extrapolate')\n",
    "    integral = interp_func(z)\n",
    "    \n",
    "    return integral\n",
    "def B(func, parm,z):\n",
    "    \"\"\"\n",
    "    B(Omegam, Omegalamb) = 5*log10((1+z)*proper distance*H0/c)\n",
    "    m(z) = A + B(Omegam, Omegalamb)\n",
    "    input : \n",
    "        func : proper distance*H0/c (Other_stuff_flat or Other_stuff_curved)\n",
    "        parm : [Omegam, Omegalamb] \n",
    "        z : redshift\n",
    "    output :\n",
    "        Bval : B(Omegam, Omegalamb)\n",
    "    \"\"\"\n",
    "    Bval = 5*np.log10((1+z)*func(z, parm))\n",
    "    return Bval\n",
    "\n",
    "def A(func,mb, dmb,z, parm):\n",
    "    ndata = mb.size\n",
    "    A = 1/ndata*np.sum(dmb**2)*np.sum((mb - B(func,parm,z))/(dmb**2))\n",
    "    return A\n",
    "\n",
    "from tqdm import tqdm\n",
    "\n",
    "# 1. make a code that accounts for a prior\n",
    "def ln_prior(min,max):\n",
    "    volume = np.prod(np.abs(min - max)) # volume of the prior\n",
    "    return np.log(1/volume)\n",
    "\n",
    "def Loglikelihood(func, parm,SNdata): # return Loglikelihood = -chisq, parm[0] = H0, parm[1] = Omegam, parm[2] = Omegalamb\n",
    "    mb = SNdata['mb'].values\n",
    "    dmb = SNdata['dmb'].values\n",
    "    z = SNdata['zcmb'].values\n",
    "    m_z = A(func, mb,dmb, z, parm) + B(func, parm, z) # m_z = A + B(Omegam, Omegalamb)\n",
    "    diff = (mb - m_z)**2\n",
    "    chisq = np.sum(diff/dmb**2)\n",
    "    return -chisq\n",
    "\n",
    "def ln_f(func, parm,SNdata, prior, lnprior): # return total Loglikelihood\n",
    "    bool = np.all((prior[0] <= parm) & (parm <= prior[1]))\n",
    "    if bool == True:\n",
    "        return lnprior + Loglikelihood(func, parm, SNdata) # param[0] = H0, param[1] = Omegam, param[2] = Omegalamb\n",
    "    else:\n",
    "        return -np.inf\n",
    "\n",
    "def Markov(func, paramk,paramkp1,SNdata, prior, lnprior):\n",
    "    minuschisqk = ln_f(func, paramk, SNdata, prior, lnprior)\n",
    "    minuschisqkp1 = ln_f(func, paramkp1, SNdata, prior, lnprior)\n",
    "    lnr = np.log(np.random.uniform(0.,1.))\n",
    "\n",
    "    if minuschisqkp1 - minuschisqk > lnr:\n",
    "#        print(f\"param0 = {paramk}, paramkp1 = {paramkp1}, \\n chisq0 = {minuschisqk}, chisqkp1 = {minuschisqkp1}, lnr = {lnr}, moved : True\")\n",
    "        return paramkp1, minuschisqkp1\n",
    "    else:\n",
    "#        print(f\"param0 = {paramk}, paramkp1 = {paramkp1}, \\n chisq0 = {minuschisqk}, chisqkp1 = {minuschisqkp1}, lnr = {lnr}, moved : False\")\n",
    "        return paramk, minuschisqk\n",
    "\n",
    "def MCMC(func, paraminit,SNdata, nstep,normal_vec,prior): # param0 = [H0, Omegam, Omegalamb]\n",
    "    lnprior = ln_prior(prior[0], prior[1]) # calculate the prior volume likelihood\n",
    "    param0 = paraminit\n",
    "    arr = np.zeros((len(param0) + 1,nstep))\n",
    "    stepsize = normal_vec\n",
    "    for k in tqdm(range(nstep)):\n",
    "        paramkp1 = np.array(param0 + np.random.normal(0,stepsize))\n",
    "        param0, loglikelihood = Markov(func, param0, paramkp1,SNdata, prior, lnprior) #loglikelihood = -chisq\n",
    "        col = np.hstack((param0, loglikelihood))\n",
    "        arr[:,k] = col\n",
    "    return arr"
   ]
  },
  {
   "cell_type": "code",
   "execution_count": 135,
   "id": "85034758",
   "metadata": {},
   "outputs": [
    {
     "name": "stderr",
     "output_type": "stream",
     "text": [
      "  0%|                                                                                                                                                                       | 0/2000 [00:00<?, ?it/s]/var/folders/h8/5hxv73fd07d033x49543ghl00000gn/T/ipykernel_2701/3330054488.py:5: RuntimeWarning: invalid value encountered in sqrt\n",
      "  E = np.sqrt(Omega_m*(1+z)**3 + Omegalamb + Omega_k*(1+z)**2)\n",
      "100%|████████████████████████████████████████████████████████████████████████████████████████████████████████████████████████████████████████████████████████████| 2000/2000 [01:33<00:00, 21.45it/s]\n"
     ]
    }
   ],
   "source": [
    "Prior2 = np.array([[0., 0.],[2.5, 2.5]])\n",
    "normal_vec = np.array([0.05402054,0.17674167])*0.0000001\n",
    "std = np.array([0.0,0.0])\n",
    "paraminit = np.array([0.023407863506195, 1.7285594052611333]) + np.random.normal(0,std)\n",
    "nstep = int(2e3)\n",
    "MCMC_test = MCMC(Other_stuff_curved, paraminit, sndata, nstep, normal_vec, Prior2)"
   ]
  },
  {
   "cell_type": "code",
   "execution_count": 136,
   "id": "d4ee9d51",
   "metadata": {},
   "outputs": [
    {
     "name": "stdout",
     "output_type": "stream",
     "text": [
      "accept_ratio = 0.0016666666666666668\n",
      "Best_fit = Omega_m : 0.023407863506195, Omegalamb : 1.7285594052611333\n",
      "std = [3.46944695e-18 2.22044605e-16]\n"
     ]
    },
    {
     "data": {
      "text/plain": [
       "Text(0.5, 1.0, 'MCMC result for Flat LCDM')"
      ]
     },
     "execution_count": 136,
     "metadata": {},
     "output_type": "execute_result"
    },
    {
     "data": {
      "image/png": "[encoded data removed]",
      "text/plain": [
       "<Figure size 640x480 with 1 Axes>"
      ]
     },
     "metadata": {},
     "output_type": "display_data"
    }
   ],
   "source": [
    "MCMC_test = MCMC_test[:,200:]\n",
    "accept_ratio = np.unique(MCMC_test).shape[0] / (nstep-200)\n",
    "Best_fit = MCMC_test[:,np.argmax(MCMC_test[-1])]\n",
    "std = np.std(MCMC_test[0:2], axis=1)\n",
    "print(f'accept_ratio = {accept_ratio}')\n",
    "print(f'Best_fit = Omega_m : {Best_fit[0]}, Omegalamb : {Best_fit[1]}')\n",
    "print(f'std = {std}')\n",
    "plt.scatter(MCMC_test[0], MCMC_test[1], s=2, alpha=0.5)\n",
    "plt.xlabel('Omega_m')\n",
    "plt.ylabel('Omega_lamb')\n",
    "plt.title('MCMC result for Flat LCDM')"
   ]
  },
  {
   "cell_type": "code",
   "execution_count": null,
   "id": "27e6c4a1",
   "metadata": {},
   "outputs": [],
   "source": []
  }
 ],
 "metadata": {
  "kernelspec": {
   "display_name": "Python [conda env:base] *",
   "language": "python",
   "name": "conda-base-py"
  },
  "language_info": {
   "codemirror_mode": {
    "name": "ipython",
    "version": 3
   },
   "file_extension": ".py",
   "mimetype": "text/x-python",
   "name": "python",
   "nbconvert_exporter": "python",
   "pygments_lexer": "ipython3",
   "version": "3.12.7"
  }
 },
 "nbformat": 4,
 "nbformat_minor": 5
}
