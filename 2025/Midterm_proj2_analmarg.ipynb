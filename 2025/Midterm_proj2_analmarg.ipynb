{
 "cells": [
  {
   "cell_type": "code",
   "execution_count": 1,
   "id": "964b3161",
   "metadata": {},
   "outputs": [],
   "source": [
    "import numpy as np\n",
    "import pandas as pd\n",
    "import os\n",
    "from scipy.integrate import quad_vec\n",
    "import matplotlib.pyplot as plt\n",
    "CurrentPath = os.getcwd()\n",
    "sndata = pd.read_csv(CurrentPath + '/2025/parsonage.txt', sep = ' ', engine='python')"
   ]
  },
  {
   "cell_type": "code",
   "execution_count": 2,
   "id": "f4cad0bd",
   "metadata": {},
   "outputs": [],
   "source": [
    "# observed data\n",
    "mb = sndata['mb'].values\n",
    "dmb = sndata['dmb'].values\n",
    "z = sndata['zcmb'].values"
   ]
  },
  {
   "cell_type": "code",
   "execution_count": 3,
   "id": "dc62689c",
   "metadata": {},
   "outputs": [
    {
     "data": {
      "text/plain": [
       "974"
      ]
     },
     "execution_count": 3,
     "metadata": {},
     "output_type": "execute_result"
    }
   ],
   "source": [
    "mb.size"
   ]
  },
  {
   "cell_type": "markdown",
   "id": "30edc20f",
   "metadata": {},
   "source": [
    "# 1. SN data"
   ]
  },
  {
   "cell_type": "markdown",
   "id": "610ff924",
   "metadata": {},
   "source": [
    "## 1-1. Flat LCDM"
   ]
  },
  {
   "cell_type": "code",
   "execution_count": null,
   "id": "a0922882",
   "metadata": {},
   "outputs": [],
   "source": [
    "def E_inverse_flat(z, Omega_m): # return 1/E(z) = H0/H(z)\n",
    "    Omega_L = 1 - Omega_m\n",
    "    E = np.sqrt(Omega_m*(1+z)**3 + Omega_L)\n",
    "    return 1/E\n",
    "\n",
    "def Other_stuff_flat(z, parm):\n",
    "    H0, Omegam = parm\n",
    "    integral = np.array([quad_vec(E_inverse_flat, 0,zval, args=(Omegam))[0] for zval in z])\n",
    "    return integral\n",
    "\n",
    "def A(mb, dmb,z, parm):\n",
    "    ndata = mb.size\n",
    "    A = 1/ndata*np.sum(dmb**2)*np.sum((mb - Other_stuff_flat(z,parm))/(dmb**2))\n",
    "    return A\n",
    "\n",
    "from tqdm import tqdm\n",
    "\n",
    "# 1. make a code that accounts for a prior\n",
    "def ln_prior(min,max):\n",
    "    volume = np.prod(np.abs(min - max)) # volume of the prior\n",
    "    return np.log(1/volume)\n",
    "\n",
    "def Loglikelihood(func, parm,z): # return Loglikelihood = -chisq, parm[0] = H0, parm[1] = Omegam, parm[2] = Omegalamb\n",
    "    H0 = parm[0]\n",
    "    diff = (y0 - func(z,parm))**2\n",
    "    chisq = np.sum(diff/var)\n",
    "    return -chisq\n",
    "\n",
    "def ln_f(func, parm,z, prior, lnprior): # return total Loglikelihood\n",
    "    bool = np.all((prior[0] <= parm) & (parm <= prior[1]))\n",
    "    if bool == True:\n",
    "        return lnprior + Loglikelihood(func, parm, z) # param[0] = H0, param[1] = Omegam, param[2] = Omegalamb\n",
    "    else:\n",
    "        return -np.inf\n",
    "\n",
    "def Markov(func, paramk,paramkp1,z, prior, lnprior):\n",
    "    minuschisqk = ln_f(func, paramk, z, prior, lnprior)\n",
    "    minuschisqkp1 = ln_f(func, paramkp1, z, prior, lnprior)\n",
    "    lnr = np.log(np.random.uniform(0.,1.))\n",
    "\n",
    "    if minuschisqkp1 - minuschisqk > lnr:\n",
    "#        print(f\"param0 = {paramk}, paramkp1 = {paramkp1}, \\n chisq0 = {minuschisqk}, chisqkp1 = {minuschisqkp1}, lnr = {lnr}, moved : True\")\n",
    "        return paramkp1, minuschisqkp1\n",
    "    else:\n",
    "#        print(f\"param0 = {paramk}, paramkp1 = {paramkp1}, \\n chisq0 = {minuschisqk}, chisqkp1 = {minuschisqkp1}, lnr = {lnr}, moved : False\")\n",
    "        return paramk, minuschisqk\n",
    "\n",
    "def MCMC(func, paraminit,z, nstep,normal_vec,prior): # param0 = [H0, Omegam, Omegalamb]\n",
    "    lnprior = ln_prior(prior[0], prior[1]) # calculate the prior volume likelihood\n",
    "    param0 = paraminit\n",
    "    arr = np.zeros((len(param0) + 1,nstep))\n",
    "    stepsize = normal_vec\n",
    "    for k in tqdm(range(nstep)):\n",
    "        paramkp1 = np.array(param0 + np.random.normal(0,stepsize))\n",
    "        param0, loglikelihood = Markov(func, param0, paramkp1, z, prior, lnprior) #loglikelihood = -chisq\n",
    "        col = np.hstack((param0, loglikelihood))\n",
    "        arr[:,k] = col\n",
    "    return arr"
   ]
  },
  {
   "cell_type": "markdown",
   "id": "8dd74508",
   "metadata": {},
   "source": []
  }
 ],
 "metadata": {
  "kernelspec": {
   "display_name": "Python [conda env:base] *",
   "language": "python",
   "name": "conda-base-py"
  },
  "language_info": {
   "codemirror_mode": {
    "name": "ipython",
    "version": 3
   },
   "file_extension": ".py",
   "mimetype": "text/x-python",
   "name": "python",
   "nbconvert_exporter": "python",
   "pygments_lexer": "ipython3",
   "version": "3.12.7"
  }
 },
 "nbformat": 4,
 "nbformat_minor": 5
}
