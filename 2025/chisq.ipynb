{
 "cells": [
  {
   "cell_type": "code",
   "execution_count": 4,
   "metadata": {},
   "outputs": [],
   "source": [
    "import numpy as np\n",
    "import os\n",
    "CurrentPath = os.getcwd()\n",
    "data_1 = np.loadtxt(CurrentPath + '/2025/data_1.txt', delimiter=' ')\n",
    "data_2 = np.loadtxt(CurrentPath + '/2025/data_2.txt', delimiter=' ')\n",
    "data_1_X = data_1.T[0];data_1_Y = data_1.T[1]; data_1_var = data_1.T[2]\n",
    "data_2_X = data_2.T[0];data_2_Y = data_2.T[1]; data_2_var = data_2.T[2]"
   ]
  },
  {
   "cell_type": "code",
   "execution_count": 32,
   "metadata": {},
   "outputs": [],
   "source": [
    "paramA = np.arange(-20,20,1)\n",
    "paramB = np.arange(-20,20,1)\n",
    "paramC = np.arange(-20,20,1)\n",
    "\n",
    "gridA, gridB, gridC = np.meshgrid(paramA, paramB, paramC)\n",
    "def chisqQuad(gridA, gridB, gridC, X, Y, var): # chisquare for quadratic function\n",
    "    chisq = 0\n",
    "    for i, Xval in enumerate(X):\n",
    "        Ytheory = gridA*Xval**2 + gridB*Xval + gridC\n",
    "        chisq = chisq + (Y[i] - Ytheory)**2/var[i]\n",
    "    return chisq"
   ]
  },
  {
   "cell_type": "code",
   "execution_count": 33,
   "metadata": {},
   "outputs": [],
   "source": [
    "arr = chisqQuad(gridA, gridB, gridC, data_2_X, data_2_Y, data_2_var)"
   ]
  },
  {
   "cell_type": "code",
   "execution_count": 34,
   "metadata": {},
   "outputs": [
    {
     "data": {
      "text/plain": [
       "array([[[-20, -19, -18, ...,  17,  18,  19],\n",
       "        [-20, -19, -18, ...,  17,  18,  19],\n",
       "        [-20, -19, -18, ...,  17,  18,  19],\n",
       "        ...,\n",
       "        [-20, -19, -18, ...,  17,  18,  19],\n",
       "        [-20, -19, -18, ...,  17,  18,  19],\n",
       "        [-20, -19, -18, ...,  17,  18,  19]],\n",
       "\n",
       "       [[-20, -19, -18, ...,  17,  18,  19],\n",
       "        [-20, -19, -18, ...,  17,  18,  19],\n",
       "        [-20, -19, -18, ...,  17,  18,  19],\n",
       "        ...,\n",
       "        [-20, -19, -18, ...,  17,  18,  19],\n",
       "        [-20, -19, -18, ...,  17,  18,  19],\n",
       "        [-20, -19, -18, ...,  17,  18,  19]],\n",
       "\n",
       "       [[-20, -19, -18, ...,  17,  18,  19],\n",
       "        [-20, -19, -18, ...,  17,  18,  19],\n",
       "        [-20, -19, -18, ...,  17,  18,  19],\n",
       "        ...,\n",
       "        [-20, -19, -18, ...,  17,  18,  19],\n",
       "        [-20, -19, -18, ...,  17,  18,  19],\n",
       "        [-20, -19, -18, ...,  17,  18,  19]],\n",
       "\n",
       "       ...,\n",
       "\n",
       "       [[-20, -19, -18, ...,  17,  18,  19],\n",
       "        [-20, -19, -18, ...,  17,  18,  19],\n",
       "        [-20, -19, -18, ...,  17,  18,  19],\n",
       "        ...,\n",
       "        [-20, -19, -18, ...,  17,  18,  19],\n",
       "        [-20, -19, -18, ...,  17,  18,  19],\n",
       "        [-20, -19, -18, ...,  17,  18,  19]],\n",
       "\n",
       "       [[-20, -19, -18, ...,  17,  18,  19],\n",
       "        [-20, -19, -18, ...,  17,  18,  19],\n",
       "        [-20, -19, -18, ...,  17,  18,  19],\n",
       "        ...,\n",
       "        [-20, -19, -18, ...,  17,  18,  19],\n",
       "        [-20, -19, -18, ...,  17,  18,  19],\n",
       "        [-20, -19, -18, ...,  17,  18,  19]],\n",
       "\n",
       "       [[-20, -19, -18, ...,  17,  18,  19],\n",
       "        [-20, -19, -18, ...,  17,  18,  19],\n",
       "        [-20, -19, -18, ...,  17,  18,  19],\n",
       "        ...,\n",
       "        [-20, -19, -18, ...,  17,  18,  19],\n",
       "        [-20, -19, -18, ...,  17,  18,  19],\n",
       "        [-20, -19, -18, ...,  17,  18,  19]]])"
      ]
     },
     "execution_count": 34,
     "metadata": {},
     "output_type": "execute_result"
    }
   ],
   "source": [
    "arr_marginAB = "
   ]
  },
  {
   "cell_type": "code",
   "execution_count": 31,
   "metadata": {},
   "outputs": [
    {
     "data": {
      "text/plain": [
       "5.273169086060416"
      ]
     },
     "execution_count": 31,
     "metadata": {},
     "output_type": "execute_result"
    }
   ],
   "source": []
  },
  {
   "cell_type": "code",
   "execution_count": 24,
   "metadata": {},
   "outputs": [
    {
     "data": {
      "text/plain": [
       "array([[[1, 1, 1],\n",
       "        [1, 1, 1],\n",
       "        [1, 1, 1]],\n",
       "\n",
       "       [[2, 2, 2],\n",
       "        [2, 2, 2],\n",
       "        [2, 2, 2]],\n",
       "\n",
       "       [[3, 3, 3],\n",
       "        [3, 3, 3],\n",
       "        [3, 3, 3]]])"
      ]
     },
     "execution_count": 24,
     "metadata": {},
     "output_type": "execute_result"
    }
   ],
   "source": [
    "gridB"
   ]
  },
  {
   "cell_type": "code",
   "execution_count": 25,
   "metadata": {},
   "outputs": [
    {
     "data": {
      "text/plain": [
       "array([[[4.  , 4.67, 6.  ],\n",
       "        [4.  , 4.67, 6.  ],\n",
       "        [4.  , 4.67, 6.  ]],\n",
       "\n",
       "       [[4.  , 4.67, 6.  ],\n",
       "        [4.  , 4.67, 6.  ],\n",
       "        [4.  , 4.67, 6.  ]],\n",
       "\n",
       "       [[4.  , 4.67, 6.  ],\n",
       "        [4.  , 4.67, 6.  ],\n",
       "        [4.  , 4.67, 6.  ]]])"
      ]
     },
     "execution_count": 25,
     "metadata": {},
     "output_type": "execute_result"
    }
   ],
   "source": [
    "gridC"
   ]
  },
  {
   "cell_type": "code",
   "execution_count": null,
   "metadata": {},
   "outputs": [],
   "source": []
  }
 ],
 "metadata": {
  "kernelspec": {
   "display_name": "Python [conda env:base] *",
   "language": "python",
   "name": "conda-base-py"
  },
  "language_info": {
   "codemirror_mode": {
    "name": "ipython",
    "version": 3
   },
   "file_extension": ".py",
   "mimetype": "text/x-python",
   "name": "python",
   "nbconvert_exporter": "python",
   "pygments_lexer": "ipython3",
   "version": "3.12.7"
  }
 },
 "nbformat": 4,
 "nbformat_minor": 2
}
