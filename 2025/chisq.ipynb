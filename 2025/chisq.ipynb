{
 "cells": [
  {
   "cell_type": "code",
   "execution_count": null,
   "metadata": {},
   "outputs": [],
   "source": [
    "import numpy as np\n",
    "import os\n",
    "CurrentPath = os.getcwd()\n",
    "data_1 = np.loadtxt(CurrentPath + '/2025/data_1.txt', delimiter=' ')\n",
    "data_2 = np.loadtxt(CurrentPath + '/2025/data_2.txt', delimiter=' ')"
   ]
  },
  {
   "cell_type": "code",
   "execution_count": null,
   "metadata": {},
   "outputs": [],
   "source": [
    "paramA = np.arange(-2,2,1)\n",
    "paramB = paramA\n",
    "paramC = paramA\n",
    "\n",
    "gridA, gridB, gridC = np.meshgrid(paramA, paramB, paramC)"
   ]
  }
 ],
 "metadata": {
  "kernelspec": {
   "display_name": "Python [conda env:base] *",
   "language": "python",
   "name": "conda-base-py"
  }
 },
 "nbformat": 4,
 "nbformat_minor": 2
}
