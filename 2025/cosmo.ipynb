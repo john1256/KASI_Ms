{
 "cells": [
  {
   "cell_type": "code",
   "execution_count": 48,
   "metadata": {},
   "outputs": [],
   "source": [
    "import numpy as np\n",
    "import matplotlib.pyplot as plt\n",
    "from scipy.integrate import quad_vec"
   ]
  },
  {
   "cell_type": "code",
   "execution_count": 8,
   "metadata": {},
   "outputs": [
    {
     "name": "stdout",
     "output_type": "stream",
     "text": [
      "1/H0 in gigayears: 14.452 Gyr\n"
     ]
    }
   ],
   "source": [
    "\n",
    "from astropy.cosmology import Planck18 as cosmo\n",
    "from astropy import units as u\n",
    "\n",
    "# Get the Hubble constant in the default units (km/s/Mpc)\n",
    "H0 = cosmo.H0\n",
    "\n",
    "# Convert 1/H0 to gigayears\n",
    "H0_inverse = (1 / H0).to(u.Gyr)\n",
    "\n",
    "print(f\"1/H0 in gigayears: {H0_inverse:.3f}\")"
   ]
  },
  {
   "cell_type": "code",
   "execution_count": 49,
   "metadata": {},
   "outputs": [],
   "source": [
    "def integrand(a, omegam, omegalamb):\n",
    "    omega0 = omegam + omegalamb\n",
    "    y = (omegam/a+omegalamb*a**2+(1-omega0))**(-1/2)\n",
    "    return y\n",
    "def AgeofUniverse(ScaleFactor, omegam, omegalamb):\n",
    "    I = quad_vec(integrand,0,ScaleFactor, args=(omegam, omegalamb))\n",
    "    T = I[0]*H0_inverse # age is in Gyr, 1/H_0 ~ 14.452 Gyr\n",
    "    return T\n"
   ]
  },
  {
   "cell_type": "code",
   "execution_count": 50,
   "metadata": {},
   "outputs": [],
   "source": [
    "OmegamArr = np.arange(1,100)/100\n",
    "OmegalambArr = np.arange(1,100)/100\n",
    "OmegamArr, OmegalambArr = np.meshgrid(OmegamArr, OmegalambArr)\n",
    "AgeArr = AgeofUniverse(1, OmegamArr, OmegalambArr)"
   ]
  },
  {
   "cell_type": "code",
   "execution_count": null,
   "metadata": {},
   "outputs": [],
   "source": [
    "plt.dfg"
   ]
  }
 ],
 "metadata": {
  "kernelspec": {
   "display_name": "Python 3 (ipykernel)",
   "language": "python",
   "name": "python3"
  },
  "language_info": {
   "codemirror_mode": {
    "name": "ipython",
    "version": 3
   },
   "file_extension": ".py",
   "mimetype": "text/x-python",
   "name": "python",
   "nbconvert_exporter": "python",
   "pygments_lexer": "ipython3",
   "version": "3.10.15"
  }
 },
 "nbformat": 4,
 "nbformat_minor": 2
}
