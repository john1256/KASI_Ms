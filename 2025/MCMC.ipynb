{
 "cells": [
  {
   "cell_type": "code",
   "execution_count": 1,
   "metadata": {},
   "outputs": [],
   "source": [
    "import numpy as np\n",
    "import os\n",
    "CurrentPath = os.getcwd()\n",
    "data_1 = np.loadtxt(CurrentPath + '/2025/data_1.txt', delimiter=' ')\n",
    "X = data_1.T[0];Y = data_1.T[1]; var = data_1.T[2]"
   ]
  },
  {
   "cell_type": "markdown",
   "metadata": {},
   "source": [
    "Metropolis-Hastings algorithm: \n",
    "1. Propose a prior"
   ]
  },
  {
   "cell_type": "code",
   "execution_count": 2,
   "metadata": {},
   "outputs": [],
   "source": [
    "# 0 < a < 1, sigma_a = 0.0005\n",
    "# -2.6 < b < -2.4, sigma_b = 0.1\n",
    "# 6.7 < c < 6.9, sigma_c = 0.1\n",
    "# 16 < d < 18 sigma_d = 1\n",
    "from numpy import random\n",
    "a_init = random.uniform(0,1)\n",
    "b_init = random.uniform(-2.6,  -2.4)\n",
    "c_init = random.uniform(6.7, 6.9)\n",
    "d_init = random.uniform(16, 18)\n",
    "\n"
   ]
  },
  {
   "cell_type": "markdown",
   "metadata": {},
   "source": [
    "2. calculate the likelihood = chisq"
   ]
  },
  {
   "cell_type": "code",
   "execution_count": 3,
   "metadata": {},
   "outputs": [],
   "source": [
    "def cube(x,a,b,c,d):\n",
    "    return a*x**3 + b*x**2 + c*x + d\n",
    "\n",
    "def chisq(x0,y0,var,a,b,c,d):\n",
    "    diff = (y0 - cube(x0,a,b,c,d))**2\n",
    "    chisq = np.sum(diff/var)\n",
    "    return chisq\n"
   ]
  },
  {
   "cell_type": "markdown",
   "metadata": {},
   "source": [
    "3. Create a markov chain"
   ]
  },
  {
   "cell_type": "code",
   "execution_count": 91,
   "metadata": {},
   "outputs": [],
   "source": [
    "def Markov(paramk,paramkp1,x,y,var):\n",
    "    minuschisqk = -1/chisq(x,y,var,paramk[0],paramk[1],paramk[2],paramk[3])/2\n",
    "    minuschisqkp1 = -1/chisq(x,y,var,paramkp1[0],paramkp1[1],paramkp1[2],paramkp1[3])/2\n",
    "    lnr = np.log(np.random.uniform(0.,1.))\n",
    "    if minuschisqkp1 - minuschisqk > lnr:\n",
    "        moved = True\n",
    "    else:\n",
    "        moved = False\n",
    "    return paramk, paramkp1, lnr, minuschisqk, minuschisqkp1, moved\n",
    "\n",
    "# 0 < a < 1, sigma_a = 0.005\n",
    "# -2.6 < b < -2.4, sigma_b = 0.1\n",
    "# 6.7 < c < 6.9, sigma_c = 0.1\n",
    "# 16 < d < 18 sigma_d = 1\n",
    "\n",
    "def MCMC(paraminit, burn_in, nstep,x,y,var):\n",
    "    k = 1\n",
    "    param0 = paraminit\n",
    "    arr = np.zeros((nstep - burn_in +1,len(param0)*2 + 5))\n",
    "    arr[0,:] = np.hstack((param0,np.zeros(len(param0) + 4),np.array([k]))) # save zero values : [param0[0],param0[1],param0[2], param0[3], 0,0,0,0,0,0,0,0,k = 0]\n",
    "    print(arr[0])\n",
    "    while k<=nstep:\n",
    "        paramkp1 = np.array([param0[0] + random.normal(0,0.005), param0[1]+ random.normal(0,0.1), param0[2]+random.normal(0,0.1), param0[3]+random.normal(0,1)]) # step size\n",
    "        print(paramkp1)\n",
    "        param0, paramkp1, lnr, minuschisqk, minuschisqkp1, moved = Markov(param0, paramkp1,x,y,var)\n",
    "        while k>burn_in and k<=nstep:\n",
    "            print(k)\n",
    "            col = np.hstack((param0, paramkp1, np.array([lnr, minuschisqk, minuschisqkp1, moved, k])))\n",
    "            arr[k - burn_in,:] = col\n",
    "            print(col)\n",
    "            k+=1\n",
    "            if moved == True:\n",
    "                param0 = paramkp1\n",
    "            else:\n",
    "                continue\n",
    "        print(k)\n",
    "        k+=1\n",
    "    return arr"
   ]
  },
  {
   "cell_type": "code",
   "execution_count": 96,
   "metadata": {},
   "outputs": [
    {
     "name": "stdout",
     "output_type": "stream",
     "text": [
      "[ 0.63819515 -2.50495172  6.75262707 16.1207149   0.          0.\n",
      "  0.          0.          0.          0.          0.          0.\n",
      "  1.        ]\n",
      "[ 0.6337975  -2.72877434  6.83343527 16.32533562]\n"
     ]
    }
   ],
   "source": [
    "paraminit = np.array([a_init, b_init, c_init, d_init])\n",
    "k = 1\n",
    "param0 = paraminit\n",
    "arr = np.zeros((1 - 0 +1,len(param0)*2 + 5))\n",
    "arr[0,:] = np.hstack((param0,np.zeros(len(param0) + 4),np.array([k]))) # save zero values : [param0[0],param0[1],param0[2], param0[3], 0,0,0,0,0,0,0,0,k = 0]\n",
    "print(arr[0])\n",
    "while k<=1:\n",
    "    paramkp1 = np.array([param0[0] + random.normal(0,0.005), param0[1]+ random.normal(0,0.1), param0[2]+random.normal(0,0.1), param0[3]+random.normal(0,1)]) # step size\n",
    "    print(paramkp1)\n",
    "    param0, paramkp1, lnr, minuschisqk, minuschisqkp1, moved = Markov(param0, paramkp1,X,Y,var)\n",
    "    k+=1\n"
   ]
  },
  {
   "cell_type": "code",
   "execution_count": 52,
   "metadata": {},
   "outputs": [],
   "source": [
    "param0 = paraminit\n",
    "paramkp1 = np.array([param0[0] + random.normal(0,0.005), param0[1]+ random.normal(0,0.1), param0[2]+random.normal(0,0.1), param0[3]+random.normal(0,1)]) # step size\n",
    "param0, paramkp1, lnr, minuschisqk, minuschisqkp1, moved = Markov(param0, paramkp1,X,Y,var)"
   ]
  },
  {
   "cell_type": "code",
   "execution_count": 59,
   "metadata": {},
   "outputs": [
    {
     "data": {
      "text/plain": [
       "array([ 0.64291964, -2.58456333,  6.69635965, 15.44380195])"
      ]
     },
     "execution_count": 59,
     "metadata": {},
     "output_type": "execute_result"
    }
   ],
   "source": [
    "paramkp1"
   ]
  },
  {
   "cell_type": "code",
   "execution_count": null,
   "metadata": {},
   "outputs": [],
   "source": []
  }
 ],
 "metadata": {
  "kernelspec": {
   "display_name": "Python 3 (ipykernel)",
   "language": "python",
   "name": "python3"
  },
  "language_info": {
   "codemirror_mode": {
    "name": "ipython",
    "version": 3
   },
   "file_extension": ".py",
   "mimetype": "text/x-python",
   "name": "python",
   "nbconvert_exporter": "python",
   "pygments_lexer": "ipython3",
   "version": "3.12.7"
  }
 },
 "nbformat": 4,
 "nbformat_minor": 2
}
