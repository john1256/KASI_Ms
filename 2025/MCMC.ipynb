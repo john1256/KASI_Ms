{
 "cells": [
  {
   "cell_type": "code",
   "execution_count": 1,
   "metadata": {},
   "outputs": [],
   "source": [
    "import numpy as np\n",
    "import os\n",
    "CurrentPath = os.getcwd()\n",
    "data_1 = np.loadtxt(CurrentPath + '/2025/data_1.txt', delimiter=' ')\n",
    "X = data_1.T[0];Y = data_1.T[1]; var = data_1.T[2]"
   ]
  },
  {
   "cell_type": "markdown",
   "metadata": {},
   "source": [
    "Metropolis-Hastings algorithm: \n",
    "1. Propose a prior"
   ]
  },
  {
   "cell_type": "code",
   "execution_count": 2,
   "metadata": {},
   "outputs": [],
   "source": [
    "# 0 < a < 1, sigma_a = 0.0005\n",
    "# -2.6 < b < -2.4, sigma_b = 0.1\n",
    "# 6.7 < c < 6.9, sigma_c = 0.1\n",
    "# 16 < d < 18 sigma_d = 1\n",
    "from numpy import random\n",
    "a_init = random.uniform(0,1)\n",
    "b_init = random.uniform(-2.6,  -2.4)\n",
    "c_init = random.uniform(6.7, 6.9)\n",
    "d_init = random.uniform(16, 18)\n",
    "\n"
   ]
  },
  {
   "cell_type": "markdown",
   "metadata": {},
   "source": [
    "2. calculate the likelihood = chisq"
   ]
  },
  {
   "cell_type": "code",
   "execution_count": 3,
   "metadata": {},
   "outputs": [],
   "source": [
    "def cube(x,a,b,c,d):\n",
    "    return a*x**3 + b*x**2 + c*x + d\n",
    "\n",
    "def chisq(x0,y0,var,a,b,c,d):\n",
    "    diff = (y0 - cube(x0,a,b,c,d))**2\n",
    "    chisq = np.sum(diff/var)\n",
    "    return chisq\n"
   ]
  },
  {
   "cell_type": "markdown",
   "metadata": {},
   "source": [
    "3. Create a markov chain"
   ]
  },
  {
   "cell_type": "code",
   "execution_count": 5,
   "metadata": {},
   "outputs": [],
   "source": [
    "def Markov(paramk,paramkp1,x,y,var):\n",
    "    minuschisqk = -1/chisq(x,y,var,paramk[0],paramk[1],paramk[2],paramk[3])/2\n",
    "    minuschisqkp1 = -1/chisq(x,y,var,paramkp1[0],paramkp1[1],paramkp1[2],paramkp1[3])/2\n",
    "    lnr = np.log(np.random.uniform(0.,1.))\n",
    "    if minuschisqkp1 - minuschisqk > lnr:\n",
    "        moved = True\n",
    "    else:\n",
    "        moved = False\n",
    "    return paramk, paramkp1, lnr, minuschisqk, minuschisqkp1, moved\n",
    "\n",
    "# 0 < a < 1, sigma_a = 0.005\n",
    "# -2.6 < b < -2.4, sigma_b = 0.1\n",
    "# 6.7 < c < 6.9, sigma_c = 0.1\n",
    "# 16 < d < 18 sigma_d = 1\n",
    "\n",
    "def MCMC(paraminit, burn_in, nstep,x,y,var):\n",
    "    k = 1\n",
    "    param0 = paraminit\n",
    "    arr = np.zeros((nstep - burn_in +1,len(param0)*2 + 5))\n",
    "    arr[0,:] = np.hstack((param0,np.zeros(len(param0) + 4),np.array([k]))) # save zero values : [param0[0],param0[1],param0[2], param0[3], 0,0,0,0,0,0,0,0,k = 0]\n",
    "    print(arr[0])\n",
    "    while k<=nstep:\n",
    "        paramkp1 = np.array([param0[0] + random.normal(0,0.005), param0[1]+ random.normal(0,0.1), param0[2]+random.normal(0,0.1), param0[3]+random.normal(0,1)]) # step size\n",
    "        print(paramkp1)\n",
    "        param0, paramkp1, lnr, minuschisqk, minuschisqkp1, moved = Markov(param0, paramkp1,x,y,var)\n",
    "        if moved == True:\n",
    "                param0 = paramkp1\n",
    "        else:\n",
    "            continue\n",
    "        if k>burn_in and k<=nstep:\n",
    "            print(k)\n",
    "            col = np.hstack((param0, paramkp1, np.array([lnr, minuschisqk, minuschisqkp1, moved, k])))\n",
    "            arr[k - burn_in,:] = col\n",
    "            print(col)\n",
    "            k+=1\n",
    "            \n",
    "        print(k)\n",
    "        k+=1\n",
    "    return arr"
   ]
  },
  {
   "cell_type": "code",
   "execution_count": 12,
   "metadata": {},
   "outputs": [
    {
     "name": "stdout",
     "output_type": "stream",
     "text": [
      "[ 0.04354365 -2.44973114  6.72984597 16.47597506  0.          0.\n",
      "  0.          0.          0.          0.          0.          0.\n",
      "  1.        ]\n",
      "[ 0.04868951 -2.43367328  6.79987096 17.58105752]\n",
      "1\n",
      "[ 0.05211711 -2.52840015  6.66277628 16.68869584]\n",
      "2\n",
      "[ 4.86895062e-02 -2.43367328e+00  6.79987096e+00  1.75810575e+01\n",
      "  5.21171146e-02 -2.52840015e+00  6.66277628e+00  1.66886958e+01\n",
      " -2.18580931e+00 -1.31691118e-13 -1.32548773e-13  1.00000000e+00\n",
      "  2.00000000e+00]\n",
      "3\n"
     ]
    }
   ],
   "source": [
    "paraminit = np.array([a_init, b_init, c_init, d_init])\n",
    "param0 = paraminit\n",
    "paramkp1 = np.array([param0[0] + random.normal(0,0.005), param0[1]+ random.normal(0,0.1), param0[2]+random.normal(0,0.1), param0[3]+random.normal(0,1)]) # step size\n",
    "k = 1\n",
    "param0 = paraminit\n",
    "arr = np.zeros((3 - 1 +1,len(param0)*2 + 5))\n",
    "arr[0,:] = np.hstack((param0,np.zeros(len(param0) + 4),np.array([k]))) # save zero values : [param0[0],param0[1],param0[2], param0[3], 0,0,0,0,0,0,0,0,k = 0]\n",
    "print(arr[0])\n",
    "while k<=3:\n",
    "    paramkp1 = np.array([param0[0] + random.normal(0,0.005), param0[1]+ random.normal(0,0.1), param0[2]+random.normal(0,0.1), param0[3]+random.normal(0,1)]) # step size\n",
    "    print(paramkp1)\n",
    "    param0, paramkp1, lnr, minuschisqk, minuschisqkp1, moved = Markov(param0, paramkp1,X,Y,var)\n",
    "\n",
    "    if k>1 and k<=3:\n",
    "        print(k)\n",
    "        col = np.hstack((param0, paramkp1, np.array([lnr, minuschisqk, minuschisqkp1, moved, k])))\n",
    "        arr[k - 1,:] = col\n",
    "        print(col)\n",
    "        k+=1\n",
    "    if moved == True:\n",
    "            param0 = paramkp1\n",
    "    else:\n",
    "        continue    \n",
    "    print(k)\n",
    "    k+=1\n"
   ]
  },
  {
   "cell_type": "code",
   "execution_count": 13,
   "metadata": {},
   "outputs": [
    {
     "data": {
      "text/plain": [
       "array([[ 4.35436465e-02, -2.44973114e+00,  6.72984597e+00,\n",
       "         1.64759751e+01,  0.00000000e+00,  0.00000000e+00,\n",
       "         0.00000000e+00,  0.00000000e+00,  0.00000000e+00,\n",
       "         0.00000000e+00,  0.00000000e+00,  0.00000000e+00,\n",
       "         1.00000000e+00],\n",
       "       [ 4.86895062e-02, -2.43367328e+00,  6.79987096e+00,\n",
       "         1.75810575e+01,  5.21171146e-02, -2.52840015e+00,\n",
       "         6.66277628e+00,  1.66886958e+01, -2.18580931e+00,\n",
       "        -1.31691118e-13, -1.32548773e-13,  1.00000000e+00,\n",
       "         2.00000000e+00],\n",
       "       [ 0.00000000e+00,  0.00000000e+00,  0.00000000e+00,\n",
       "         0.00000000e+00,  0.00000000e+00,  0.00000000e+00,\n",
       "         0.00000000e+00,  0.00000000e+00,  0.00000000e+00,\n",
       "         0.00000000e+00,  0.00000000e+00,  0.00000000e+00,\n",
       "         0.00000000e+00]])"
      ]
     },
     "execution_count": 13,
     "metadata": {},
     "output_type": "execute_result"
    }
   ],
   "source": [
    "arr"
   ]
  },
  {
   "cell_type": "code",
   "execution_count": 11,
   "metadata": {},
   "outputs": [
    {
     "name": "stdout",
     "output_type": "stream",
     "text": [
      "1.0\n"
     ]
    }
   ],
   "source": [
    "print(float(True))"
   ]
  },
  {
   "cell_type": "code",
   "execution_count": null,
   "metadata": {},
   "outputs": [],
   "source": []
  }
 ],
 "metadata": {
  "kernelspec": {
   "display_name": "Python [conda env:base] *",
   "language": "python",
   "name": "conda-base-py"
  },
  "language_info": {
   "codemirror_mode": {
    "name": "ipython",
    "version": 3
   },
   "file_extension": ".py",
   "mimetype": "text/x-python",
   "name": "python",
   "nbconvert_exporter": "python",
   "pygments_lexer": "ipython3",
   "version": "3.12.7"
  }
 },
 "nbformat": 4,
 "nbformat_minor": 2
}
