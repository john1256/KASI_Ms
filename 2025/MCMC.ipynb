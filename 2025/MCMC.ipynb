{
 "cells": [
  {
   "cell_type": "code",
   "execution_count": 1,
   "metadata": {},
   "outputs": [],
   "source": [
    "import numpy as np\n",
    "import os\n",
    "CurrentPath = os.getcwd()\n",
    "data_1 = np.loadtxt(CurrentPath + '/2025/data_1.txt', delimiter=' ')\n",
    "X = data_1.T[0];Y = data_1.T[1]; var = data_1.T[2]"
   ]
  },
  {
   "cell_type": "markdown",
   "metadata": {},
   "source": [
    "Metropolis-Hastings algorithm: \n",
    "1. Propose a prior"
   ]
  },
  {
   "cell_type": "code",
   "execution_count": 2,
   "metadata": {},
   "outputs": [],
   "source": [
    "# 0 < a < 1, sigma_a = 0.0005\n",
    "# -2.6 < b < -2.4, sigma_b = 0.1\n",
    "# 6.7 < c < 6.9, sigma_c = 0.1\n",
    "# 16 < d < 18 sigma_d = 1\n",
    "from numpy import random\n",
    "a_init = random.uniform(0,1)\n",
    "b_init = random.uniform(-2.6,  -2.4)\n",
    "c_init = random.uniform(6.7, 6.9)\n",
    "d_init = random.uniform(16, 18)\n",
    "\n"
   ]
  },
  {
   "cell_type": "markdown",
   "metadata": {},
   "source": [
    "2. calculate the likelihood = chisq"
   ]
  },
  {
   "cell_type": "code",
   "execution_count": 3,
   "metadata": {},
   "outputs": [],
   "source": [
    "def cube(x,a,b,c,d):\n",
    "    return a*x**3 + b*x**2 + c*x + d\n",
    "\n",
    "def chisq(x0,y0,var,a,b,c,d):\n",
    "    diff = (y0 - cube(x0,a,b,c,d))**2\n",
    "    chisq = np.sum(diff/var)\n",
    "    return chisq\n"
   ]
  },
  {
   "cell_type": "markdown",
   "metadata": {},
   "source": [
    "3. Create a markov chain"
   ]
  },
  {
   "cell_type": "code",
   "execution_count": 47,
   "metadata": {},
   "outputs": [],
   "source": [
    "from tqdm import tqdm\n",
    "\n",
    "def Markov(paramk,paramkp1,x,y,var):\n",
    "    minuschisqk = -chisq(x,y,var,paramk[0],paramk[1],paramk[2],paramk[3])/2\n",
    "    minuschisqkp1 = -chisq(x,y,var,paramkp1[0],paramkp1[1],paramkp1[2],paramkp1[3])/2\n",
    "    lnr = np.log(np.random.uniform(0.,1.))\n",
    "\n",
    "    if minuschisqkp1 - minuschisqk > lnr:\n",
    "#        print(f\"param0 = {paramk}, paramkp1 = {paramkp1}, \\n chisq0 = {minuschisqk}, chisqkp1 = {minuschisqkp1}, lnr = {lnr}, moved : True\")\n",
    "        return paramkp1, minuschisqkp1\n",
    "    else:\n",
    "#        print(f\"param0 = {paramk}, paramkp1 = {paramkp1}, \\n chisq0 = {minuschisqk}, chisqkp1 = {minuschisqkp1}, lnr = {lnr}, moved : False\")\n",
    "        return paramk, minuschisqk  \n",
    "# 0 < a < 1, sigma_a = 0.005\n",
    "# -2.6 < b < -2.4, sigma_b = 0.1\n",
    "# 6.7 < c < 6.9, sigma_c = 0.1\n",
    "# 16 < d < 18 sigma_d = 1\n",
    "def MCMC(paraminit, nstep,normal_vec,x,y,var):\n",
    "    param0 = paraminit\n",
    "    arr = np.zeros((len(param0) + 1,nstep))\n",
    "    for k in tqdm(range(nstep)):\n",
    "        paramkp1 = np.array([param0[0] + random.normal(0,normal_vec[0]), param0[1]+ random.normal(0,normal_vec[1]),\n",
    "                              param0[2]+random.normal(0,normal_vec[2]), param0[3]+random.normal(0,normal_vec[3])]) # step size\n",
    "        param0, loglikelihood = Markov(param0, paramkp1,x,y,var)\n",
    "        col = np.hstack((param0, loglikelihood))\n",
    "        arr[:,k] = col\n",
    "    return arr\n"
   ]
  },
  {
   "cell_type": "code",
   "execution_count": 61,
   "metadata": {},
   "outputs": [
    {
     "name": "stderr",
     "output_type": "stream",
     "text": [
      "100%|█████████████████████████████████████████████████████████████████████████████████████████████████████████████████| 1000000/1000000 [00:22<00:00, 44143.15it/s]\n"
     ]
    }
   ],
   "source": [
    "paraminit = np.array([a_init, b_init, c_init, d_init])\n",
    "nstep = int(1e6)\n",
    "normal_vec = np.array([0.05, 0.1, 2, 4])\n",
    "mcmcarr = MCMC(paraminit, nstep,normal_vec,X,Y,var)\n",
    "bestfitind = mcmcarr[4].argmax()\n",
    "bestfitparm = [mcmcarr[0][bestfitind], mcmcarr[1][bestfitind], mcmcarr[2][bestfitind], mcmcarr[3][bestfitind]]\n",
    "bestfitval = mcmcarr[4][bestfitind]\n",
    "print(f\"bestfitparm = {bestfitparm}, bestfitval = {bestfitval}\")"
   ]
  },
  {
   "cell_type": "markdown",
   "metadata": {},
   "source": [
    "Run 2nd MCMC with 1st MCMC chain as a starting point"
   ]
  },
  {
   "cell_type": "code",
   "execution_count": 63,
   "metadata": {},
   "outputs": [
    {
     "name": "stderr",
     "output_type": "stream",
     "text": [
      "100%|███████████████████████████████████████████████████████████████████████████████████████████████████████████████| 10000000/10000000 [03:48<00:00, 43772.76it/s]"
     ]
    },
    {
     "name": "stdout",
     "output_type": "stream",
     "text": [
      "bestfitparm2 = [0.7500485229669239, -2.5078479835216623, 7.146672725072329, 13.660907896511908], bestfitval2 = -57.912298013267765\n"
     ]
    },
    {
     "name": "stderr",
     "output_type": "stream",
     "text": [
      "\n"
     ]
    }
   ],
   "source": [
    "nstep2 = int(1e7)\n",
    "normal_vec2 = np.array([0.005, 0.1, 1, 2])\n",
    "mcmcarr2 = MCMC(bestfitparm, nstep2,normal_vec2,X,Y,var)\n",
    "bestfitind2 = mcmcarr2[4].argmax()\n",
    "bestfitparm2 = [mcmcarr2[0][bestfitind2], mcmcarr2[1][bestfitind2], mcmcarr2[2][bestfitind2], mcmcarr2[3][bestfitind2]]\n",
    "bestfitval2 = mcmcarr2[4][bestfitind2]\n",
    "print(f\"bestfitparm2 = {bestfitparm2}, bestfitval2 = {bestfitval2}\")"
   ]
  },
  {
   "cell_type": "code",
   "execution_count": 65,
   "metadata": {},
   "outputs": [
    {
     "data": {
      "text/plain": [
       "8093565"
      ]
     },
     "execution_count": 65,
     "metadata": {},
     "output_type": "execute_result"
    }
   ],
   "source": [
    "bestfitind2"
   ]
  },
  {
   "cell_type": "code",
   "execution_count": 64,
   "metadata": {},
   "outputs": [
    {
     "name": "stderr",
     "output_type": "stream",
     "text": [
      "100%|███████████████████████████████████████████████████████████████████████████████████████████████████████████████| 10000000/10000000 [03:46<00:00, 44088.61it/s]"
     ]
    },
    {
     "name": "stdout",
     "output_type": "stream",
     "text": [
      "bestfitparm3 = [0.7499784452982594, -2.497131599555116, 6.691840349591699, 18.227603390313714], bestfitval3 = -14.217303859513256\n"
     ]
    },
    {
     "name": "stderr",
     "output_type": "stream",
     "text": [
      "\n"
     ]
    }
   ],
   "source": [
    "# 3rd mcmc chain\n",
    "nstep2 = int(1e7)\n",
    "normal_vec2 = np.array([0.005, 0.1, 1, 2])\n",
    "mcmcarr3 = MCMC(bestfitparm2, nstep2,normal_vec2,X,Y,var)\n",
    "bestfitind3 = mcmcarr3[4].argmax()\n",
    "bestfitparm3 = [mcmcarr3[0][bestfitind3], mcmcarr3[1][bestfitind3], mcmcarr3[2][bestfitind3], mcmcarr3[3][bestfitind3]]\n",
    "bestfitval3 = mcmcarr3[4][bestfitind3]\n",
    "print(f\"bestfitparm3 = {bestfitparm3}, bestfitval3 = {bestfitval3}\")"
   ]
  },
  {
   "cell_type": "code",
   "execution_count": 66,
   "metadata": {},
   "outputs": [
    {
     "name": "stderr",
     "output_type": "stream",
     "text": [
      "100%|███████████████████████████████████████████████████████████████████████████████████████████████████████████████| 10000000/10000000 [03:45<00:00, 44392.73it/s]"
     ]
    },
    {
     "name": "stdout",
     "output_type": "stream",
     "text": [
      "bestfitparm4 = [0.7500092312365925, -2.501096654219668, 6.824072068714113, 16.934138927449734], bestfitval4 = -5.1376204994798345\n"
     ]
    },
    {
     "name": "stderr",
     "output_type": "stream",
     "text": [
      "\n"
     ]
    }
   ],
   "source": [
    "# 4th mcmc chain\n",
    "nstep4 = int(1e7)\n",
    "normal_vec4 = np.array([0.005, 0.05, 0.5, 1])\n",
    "mcmcarr4 = MCMC(bestfitparm3, nstep4,normal_vec4,X,Y,var)\n",
    "bestfitind4 = mcmcarr4[4].argmax()\n",
    "bestfitparm4 = [mcmcarr4[0][bestfitind4], mcmcarr4[1][bestfitind4], mcmcarr4[2][bestfitind4], mcmcarr4[3][bestfitind4]]\n",
    "bestfitval4 = mcmcarr4[4][bestfitind4]\n",
    "print(f\"bestfitparm4 = {bestfitparm4}, bestfitval4 = {bestfitval4}\")"
   ]
  },
  {
   "cell_type": "markdown",
   "metadata": {},
   "source": [
    "MCMC analysis"
   ]
  },
  {
   "cell_type": "code",
   "execution_count": 78,
   "metadata": {},
   "outputs": [],
   "source": [
    "# 1. mcmcarr analysis\n",
    "\n",
    "abSpace = mcmcarr[0:2,:]\n",
    "abMean = np.sum(abSpace, axis = 1)/nstep\n",
    "abVar = np.sum((abSpace)**2, axis = 1)/nstep - abMean**2\n",
    "\n",
    "# histogram\n",
    "bins = 100\n",
    "da = (abSpace[0].max() - abSpace[0].min())/bins\n",
    "db = (abSpace[1].max() - abSpace[1].min())/bins\n",
    "\n",
    "\n",
    "\n",
    "\n"
   ]
  },
  {
   "cell_type": "code",
   "execution_count": null,
   "metadata": {},
   "outputs": [],
   "source": []
  },
  {
   "cell_type": "code",
   "execution_count": 76,
   "metadata": {},
   "outputs": [
    {
     "data": {
      "text/plain": [
       "1000000"
      ]
     },
     "execution_count": 76,
     "metadata": {},
     "output_type": "execute_result"
    }
   ],
   "source": [
    "len(mcmcarr[0])  "
   ]
  },
  {
   "cell_type": "code",
   "execution_count": null,
   "metadata": {},
   "outputs": [],
   "source": []
  }
 ],
 "metadata": {
  "kernelspec": {
   "display_name": "Python [conda env:base] *",
   "language": "python",
   "name": "conda-base-py"
  },
  "language_info": {
   "codemirror_mode": {
    "name": "ipython",
    "version": 3
   },
   "file_extension": ".py",
   "mimetype": "text/x-python",
   "name": "python",
   "nbconvert_exporter": "python",
   "pygments_lexer": "ipython3",
   "version": "3.12.7"
  }
 },
 "nbformat": 4,
 "nbformat_minor": 2
}
