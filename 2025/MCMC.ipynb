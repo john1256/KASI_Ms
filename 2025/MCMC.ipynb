{
 "cells": [
  {
   "cell_type": "code",
   "execution_count": 5,
   "metadata": {},
   "outputs": [],
   "source": [
    "import numpy as np\n",
    "import os\n",
    "CurrentPath = os.getcwd()\n",
    "data_1 = np.loadtxt(CurrentPath + '/2025/data_1.txt', delimiter=' ')\n",
    "X = data_1.T[0];Y = data_1.T[1]; var = data_1.T[2]"
   ]
  },
  {
   "cell_type": "markdown",
   "metadata": {},
   "source": [
    "Metropolis-Hastings algorithm: \n",
    "1. Propose a prior"
   ]
  },
  {
   "cell_type": "code",
   "execution_count": 30,
   "metadata": {},
   "outputs": [],
   "source": [
    "# 0 < a < 1, sigma_a = 0.0005\n",
    "# -2.6 < b < -2.4, sigma_b = 0.1\n",
    "# 6.7 < c < 6.9, sigma_c = 0.1\n",
    "# 16 < d < 18 sigma_d = 1\n",
    "from numpy import random\n",
    "a_init = random.uniform(0,1)\n",
    "b_init = random.uniform(-2.6,  -2.4)\n",
    "c_init = random.uniform(6.7, 6.9)\n",
    "d_init = random.uniform(16, 18)\n",
    "\n"
   ]
  },
  {
   "cell_type": "markdown",
   "metadata": {},
   "source": [
    "2. calculate the likelihood = chisq"
   ]
  },
  {
   "cell_type": "code",
   "execution_count": 7,
   "metadata": {},
   "outputs": [],
   "source": [
    "def cube(x,a,b,c,d):\n",
    "    return a*x**3 + b*x**2 + c*x + d\n",
    "\n",
    "def chisq(x0,y0,var,a,b,c,d):\n",
    "    diff = (y0 - cube(x0,a,b,c,d))**2\n",
    "    chisq = np.sum(diff/var)\n",
    "    return chisq\n"
   ]
  },
  {
   "cell_type": "markdown",
   "metadata": {},
   "source": [
    "3. Create a markov chain"
   ]
  },
  {
   "cell_type": "code",
   "execution_count": 17,
   "metadata": {},
   "outputs": [
    {
     "data": {
      "text/plain": [
       "10.470600485634849"
      ]
     },
     "execution_count": 17,
     "metadata": {},
     "output_type": "execute_result"
    }
   ],
   "source": [
    "def Markov(paramk,paramkp1,x,y,var):\n",
    "    minuschisqk = 1/chisq(x,y,var,paramk[0],paramk[1],paramk[2],paramk[3])\n",
    "    minuschisqkp1 = 1/chisq(x,y,var,paramkp1[0],paramkp1[1],paramkp1[2],paramkp1[3])\n",
    "    r = np.log(np.random.uniiform(0.,1.))\n",
    "    if minuschisqk - minuschisqkp1<0:\n"
   ]
  },
  {
   "cell_type": "code",
   "execution_count": 24,
   "metadata": {},
   "outputs": [],
   "source": [
    "arr = np.zeros((2,3))\n",
    "arr[:,1] = [1,1]"
   ]
  },
  {
   "cell_type": "code",
   "execution_count": 25,
   "metadata": {},
   "outputs": [
    {
     "data": {
      "text/plain": [
       "array([[0., 1., 0.],\n",
       "       [0., 1., 0.]])"
      ]
     },
     "execution_count": 25,
     "metadata": {},
     "output_type": "execute_result"
    }
   ],
   "source": [
    "arr"
   ]
  },
  {
   "cell_type": "code",
   "execution_count": null,
   "metadata": {},
   "outputs": [],
   "source": []
  }
 ],
 "metadata": {
  "kernelspec": {
   "display_name": "Python 3 (ipykernel)",
   "language": "python",
   "name": "python3"
  },
  "language_info": {
   "codemirror_mode": {
    "name": "ipython",
    "version": 3
   },
   "file_extension": ".py",
   "mimetype": "text/x-python",
   "name": "python",
   "nbconvert_exporter": "python",
   "pygments_lexer": "ipython3",
   "version": "3.12.7"
  }
 },
 "nbformat": 4,
 "nbformat_minor": 2
}
