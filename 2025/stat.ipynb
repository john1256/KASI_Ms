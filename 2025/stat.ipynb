{
 "cells": [
  {
   "cell_type": "code",
   "execution_count": 4,
   "metadata": {},
   "outputs": [],
   "source": [
    "import numpy as np\n",
    "import os"
   ]
  },
  {
   "cell_type": "code",
   "execution_count": 14,
   "metadata": {},
   "outputs": [],
   "source": [
    "CurrentPath = os.getcwd()\n",
    "data_1 = np.loadtxt(CurrentPath + '/KASI_Ms/2025/data_1.txt', delimiter=' ')\n",
    "data_2 = np.loadtxt(CurrentPath + '/KASI_Ms/2025/data_2.txt', delimiter=' ')"
   ]
  },
  {
   "cell_type": "markdown",
   "metadata": {},
   "source": [
    "### Fitting with function"
   ]
  },
  {
   "cell_type": "code",
   "execution_count": 71,
   "metadata": {},
   "outputs": [],
   "source": [
    "def func_1(x,parameter): # define a quadratic function\n",
    "    return parameter[0]*x**2 + parameter[1]*x + parameter[2]\n",
    "def chisq(func, x, y, var,params = None): # returns chi-square value for the estimation\n",
    "    dof = len(x)\n",
    "    if params is not None:\n",
    "        arr_exp = func(x,params)\n",
    "    else:\n",
    "        arr_exp = func(x)\n",
    "    chisquared = np.sum((y - arr_exp)**2/var)\n",
    "    return chisquared"
   ]
  },
  {
   "cell_type": "code",
   "execution_count": 73,
   "metadata": {},
   "outputs": [],
   "source": [
    "from scipy.optimize import minimize\n",
    "\n",
    "data_1_X = data_1.T[0];data_1_Y = data_1.T[1]; data_1_var = data_1.T[2]\n",
    "data_2_X = data_2.T[0];data_2_Y = data_2.T[1]; data_2_var = data_2.T[2]\n",
    "def objective1(params): # creates a function that can be put into scipy.optimize.minimize as an argument\n",
    "    return chisq(func_1, data_1_X, data_1_Y, data_1_var, params)\n",
    "def objective2(params):\n",
    "    return chisq(func_1, data_2_X, data_2_Y, data_2_var, params)\n"
   ]
  },
  {
   "cell_type": "code",
   "execution_count": 74,
   "metadata": {},
   "outputs": [],
   "source": [
    "initial = np.array([4,3,1])\n",
    "result1= minimize(objective1, initial)\n",
    "result2 = minimize(objective2, initial)"
   ]
  },
  {
   "cell_type": "markdown",
   "metadata": {},
   "source": [
    "###"
   ]
  },
  {
   "cell_type": "code",
   "execution_count": 75,
   "metadata": {},
   "outputs": [
    {
     "data": {
      "text/plain": [
       "  message: Desired error not necessarily achieved due to precision loss.\n",
       "  success: False\n",
       "   status: 2\n",
       "      fun: 11763694233.78489\n",
       "        x: [ 1.028e+02 -3.809e+03  2.820e+04]\n",
       "      nit: 8\n",
       "      jac: [ 4.992e+03  2.560e+02  0.000e+00]\n",
       " hess_inv: [[ 6.291e-09 -4.838e-07  2.966e-06]\n",
       "            [-4.838e-07  3.994e-05 -2.445e-04]\n",
       "            [ 2.966e-06 -2.445e-04  1.496e-03]]\n",
       "     nfev: 241\n",
       "     njev: 58"
      ]
     },
     "execution_count": 75,
     "metadata": {},
     "output_type": "execute_result"
    }
   ],
   "source": [
    "result1"
   ]
  },
  {
   "cell_type": "code",
   "execution_count": 84,
   "metadata": {},
   "outputs": [
    {
     "name": "stdout",
     "output_type": "stream",
     "text": [
      "\n",
      "      data_1 result of chisq fitting:\n",
      "      success : False \\\n",
      "      chisq per dof : 470547769.35139555\n",
      "      p-value :\n",
      "      \n",
      "func : $102.84x^2$ + $-3808.76x$ + $28199.59$\n",
      "\n",
      "      data_1 result of chisq fitting:\n",
      "      success : True\n",
      "      chisq per dof : 0.2103654906193602\n",
      "      p-value :\n",
      "      \n",
      "func : $11.54x^2$ + $1.99x$ + $4.67$\n"
     ]
    }
   ],
   "source": [
    "print(f\"\"\"\n",
    "      data_1 result of chisq fitting:\n",
    "      success : {result1.success} \\\\\n",
    "      chisq per dof : {result1.fun / len(data_1_X)}\n",
    "      p-value :\n",
    "      \"\"\")\n",
    "print(fr\"func : ${result1.x[0]:.2f}x^2$ + ${result1.x[1]:.2f}x$ + ${result1.x[2]:.2f}$\")\n",
    "print(f\"\"\"\n",
    "      data_1 result of chisq fitting:\n",
    "      success : {result2.success}\n",
    "      chisq per dof : {result2.fun / len(data_2_X)}\n",
    "      p-value :\n",
    "      \"\"\")\n",
    "print(fr\"func : ${result2.x[0]:.2f}x^2$ + ${result2.x[1]:.2f}x$ + ${result2.x[2]:.2f}$\")"
   ]
  },
  {
   "cell_type": "code",
   "execution_count": null,
   "metadata": {},
   "outputs": [],
   "source": []
  },
  {
   "cell_type": "markdown",
   "metadata": {},
   "source": [
    "### Plotting two results"
   ]
  },
  {
   "cell_type": "code",
   "execution_count": 70,
   "metadata": {},
   "outputs": [
    {
     "data": {
      "text/plain": [
       "0.21036549062054472"
      ]
     },
     "execution_count": 70,
     "metadata": {},
     "output_type": "execute_result"
    }
   ],
   "source": []
  },
  {
   "cell_type": "code",
   "execution_count": 57,
   "metadata": {},
   "outputs": [
    {
     "data": {
      "text/plain": [
       "25"
      ]
     },
     "execution_count": 57,
     "metadata": {},
     "output_type": "execute_result"
    }
   ],
   "source": [
    "len(data_1_X)"
   ]
  },
  {
   "cell_type": "code",
   "execution_count": null,
   "metadata": {},
   "outputs": [],
   "source": []
  }
 ],
 "metadata": {
  "kernelspec": {
   "display_name": "Python [conda env:base] *",
   "language": "python",
   "name": "conda-base-py"
  },
  "language_info": {
   "codemirror_mode": {
    "name": "ipython",
    "version": 3
   },
   "file_extension": ".py",
   "mimetype": "text/x-python",
   "name": "python",
   "nbconvert_exporter": "python",
   "pygments_lexer": "ipython3",
   "version": "3.12.7"
  }
 },
 "nbformat": 4,
 "nbformat_minor": 2
}
