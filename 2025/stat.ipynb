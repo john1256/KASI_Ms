{
 "cells": [
  {
   "cell_type": "code",
   "execution_count": 1,
   "metadata": {},
   "outputs": [],
   "source": [
    "import numpy as np\n",
    "import os"
   ]
  },
  {
   "cell_type": "code",
   "execution_count": 2,
   "metadata": {},
   "outputs": [],
   "source": [
    "CurrentPath = os.getcwd()\n",
    "data_1 = np.loadtxt(CurrentPath + '/2025/data_1.txt', delimiter=' ')\n",
    "data_2 = np.loadtxt(CurrentPath + '/2025/data_2.txt', delimiter=' ')"
   ]
  },
  {
   "cell_type": "markdown",
   "metadata": {},
   "source": [
    "### Fitting with function"
   ]
  },
  {
   "cell_type": "code",
   "execution_count": 3,
   "metadata": {},
   "outputs": [],
   "source": [
    "def func_1(x,parameter): # define a quadratic function\n",
    "    return parameter[0]*x**2 + parameter[1]*x + parameter[2]\n",
    "def chisq(func, x, y, var,params = None): # returns chi-square value for the estimation\n",
    "    dof = len(x)\n",
    "    if params is not None:\n",
    "        arr_exp = func(x,params)\n",
    "    else:\n",
    "        arr_exp = func(x)\n",
    "    chisquared = np.sum((y - arr_exp)**2/var)\n",
    "    return chisquared"
   ]
  },
  {
   "cell_type": "code",
   "execution_count": 4,
   "metadata": {},
   "outputs": [],
   "source": [
    "from scipy.optimize import minimize\n",
    "\n",
    "data_1_X = data_1.T[0];data_1_Y = data_1.T[1]; data_1_var = data_1.T[2]\n",
    "data_2_X = data_2.T[0];data_2_Y = data_2.T[1]; data_2_var = data_2.T[2]\n",
    "def objective1(params): # creates a function that can be put into scipy.optimize.minimize as an argument\n",
    "    return chisq(func_1, data_1_X, data_1_Y, data_1_var, params)\n",
    "def objective2(params):\n",
    "    return chisq(func_1, data_2_X, data_2_Y, data_2_var, params)\n"
   ]
  },
  {
   "cell_type": "code",
   "execution_count": 74,
   "metadata": {},
   "outputs": [],
   "source": [
    "initial = np.array([4,3,1])\n",
    "result1= minimize(objective1, initial)\n",
    "result2 = minimize(objective2, initial)"
   ]
  },
  {
   "cell_type": "markdown",
   "metadata": {},
   "source": [
    "### calculating p-value"
   ]
  },
  {
   "cell_type": "code",
   "execution_count": 85,
   "metadata": {},
   "outputs": [],
   "source": [
    "from scipy.stats import chi2\n",
    "\n",
    "dof_1 = len(data_1_X)\n",
    "dof_2 = len(data_2_X)\n",
    "p_val_1 = chi2.sf(result1.fun, df=dof_1)\n",
    "p_val_2 = chi2.sf(result2.fun, df=dof_2)"
   ]
  },
  {
   "cell_type": "code",
   "execution_count": 88,
   "metadata": {},
   "outputs": [
    {
     "name": "stdout",
     "output_type": "stream",
     "text": [
      "\n",
      "      data_1 result of chisq fitting:\n",
      "      success : False \\\n",
      "      chisq per dof : 470547769.35139555\n",
      "      p-value : 0.0\n",
      "      \n",
      "func : 102.84x^2 + -3808.76x + 28199.59\n",
      "\n",
      "      data_2 result of chisq fitting:\n",
      "      success : True\n",
      "      chisq per dof : 0.2103654906193602\n",
      "      p-value : 0.9999907559369048\n",
      "      \n",
      "func : 11.54x^2 + 1.99x$ + $4.67\n"
     ]
    }
   ],
   "source": [
    "print(f\"\"\"\n",
    "      data_1 result of chisq fitting:\n",
    "      success : {result1.success}\n",
    "      chisq per dof : {result1.fun / len(data_1_X)}\n",
    "      p-value : {p_val_1}\n",
    "      \"\"\")\n",
    "print(f\"func : {result1.x[0]:.2f}x^2 + {result1.x[1]:.2f}x + {result1.x[2]:.2f}\")\n",
    "print(f\"\"\"\n",
    "      data_2 result of chisq fitting:\n",
    "      success : {result2.success}\n",
    "      chisq per dof : {result2.fun / len(data_2_X)}\n",
    "      p-value : {p_val_2}\n",
    "      \"\"\")\n",
    "print(f\"func : {result2.x[0]:.2f}x^2 + {result2.x[1]:.2f}x$ + ${result2.x[2]:.2f}\")"
   ]
  },
  {
   "cell_type": "markdown",
   "metadata": {},
   "source": [
    "### Another function"
   ]
  },
  {
   "cell_type": "code",
   "execution_count": 5,
   "metadata": {},
   "outputs": [],
   "source": [
    "def cube(x,a,b):\n",
    "    return a*np.exp**x + b\n",
    "def exponential_data1(params): # creates a function that can be put into scipy.optimize.minimize as an argument\n",
    "    return chisq(exponential, data_1_X, data_1_Y, data_1_var, params)\n",
    "def exponential_data2(params):\n",
    "    return chisq(exponential, data_2_X, data_2_Y, data_2_var, params)"
   ]
  },
  {
   "cell_type": "code",
   "execution_count": null,
   "metadata": {},
   "outputs": [],
   "source": [
    "initial = np.array([4,3,1])\n",
    "result1= minimize(objective1, initial)\n",
    "result2 = minimize(objective2, initial)"
   ]
  },
  {
   "cell_type": "markdown",
   "metadata": {},
   "source": [
    "### Plotting two results"
   ]
  },
  {
   "cell_type": "code",
   "execution_count": 70,
   "metadata": {},
   "outputs": [
    {
     "data": {
      "text/plain": [
       "0.21036549062054472"
      ]
     },
     "execution_count": 70,
     "metadata": {},
     "output_type": "execute_result"
    }
   ],
   "source": []
  },
  {
   "cell_type": "code",
   "execution_count": 57,
   "metadata": {},
   "outputs": [
    {
     "data": {
      "text/plain": [
       "25"
      ]
     },
     "execution_count": 57,
     "metadata": {},
     "output_type": "execute_result"
    }
   ],
   "source": [
    "len(data_1_X)"
   ]
  },
  {
   "cell_type": "code",
   "execution_count": null,
   "metadata": {},
   "outputs": [],
   "source": []
  }
 ],
 "metadata": {
  "kernelspec": {
   "display_name": "Python [conda env:base] *",
   "language": "python",
   "name": "conda-base-py"
  },
  "language_info": {
   "codemirror_mode": {
    "name": "ipython",
    "version": 3
   },
   "file_extension": ".py",
   "mimetype": "text/x-python",
   "name": "python",
   "nbconvert_exporter": "python",
   "pygments_lexer": "ipython3",
   "version": "3.12.7"
  }
 },
 "nbformat": 4,
 "nbformat_minor": 2
}
