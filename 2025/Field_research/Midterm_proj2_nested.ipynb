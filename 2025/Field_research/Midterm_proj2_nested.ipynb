{
 "cells": [
  {
   "cell_type": "code",
   "execution_count": 5,
   "id": "d16c1418",
   "metadata": {},
   "outputs": [],
   "source": [
    "import numpy as np\n",
    "import matplotlib.pyplot as plt\n",
    "import nestle\n",
    "import corner\n",
    "from scipy.interpolate import interp1d\n",
    "from scipy.integrate import quad_vec\n",
    "from tqdm import tqdm\n",
    "import pandas as pd\n",
    "import os\n",
    "import sys\n",
    "sys.path.append('./Utils')\n",
    "CurrentPath = os.getcwd()\n",
    "sndata = pd.read_csv(CurrentPath + '/Data/parsonage.txt', sep = ' ', engine='python')"
   ]
  },
  {
   "cell_type": "code",
   "execution_count": null,
   "id": "24315ca1",
   "metadata": {},
   "outputs": [],
   "source": [
    "BAO_z = np.array([0.094,0.157,0.402,0.402,0.526,0.526,0.597,0.597])\n",
    "BAO_val = np.array([0.08,1849.05,4006.83,43.48,4650.20,51.31,5053.80,58.64])\n",
    "BAO_err = np.array([0.003,66.648,59.924,1.334,68.103,1.512,75.657,1.292])\n",
    "BAO_ind = np.array([1,2,3,4,3,4,3,4]) \n",
    "# 1 : r_s/D_V, 2 : D_V(r_d,fid/r_d), 3 : D_M(r_d,fid/r_d), 4 : H(r_d/r_d,fid)\n",
    "BAO_data = pd.DataFrame({\n",
    "    'z': BAO_z,\n",
    "    'val': BAO_val,\n",
    "    'err': BAO_err,\n",
    "    'ind': BAO_ind\n",
    "})\n",
    "BAO_data.to_csv('./Data/BAO_data.csv', index=False)\n",
    "BAO_data = pd.read_csv('./Data/BAO_data.csv')"
   ]
  },
  {
   "cell_type": "markdown",
   "id": "ec2dc7b7",
   "metadata": {},
   "source": [
    "# 1. Flat LCDM SN only"
   ]
  },
  {
   "cell_type": "code",
   "execution_count": null,
   "id": "eca4737c",
   "metadata": {},
   "outputs": [],
   "source": []
  }
 ],
 "metadata": {
  "kernelspec": {
   "display_name": "base",
   "language": "python",
   "name": "python3"
  },
  "language_info": {
   "codemirror_mode": {
    "name": "ipython",
    "version": 3
   },
   "file_extension": ".py",
   "mimetype": "text/x-python",
   "name": "python",
   "nbconvert_exporter": "python",
   "pygments_lexer": "ipython3",
   "version": "3.12.2"
  }
 },
 "nbformat": 4,
 "nbformat_minor": 5
}
