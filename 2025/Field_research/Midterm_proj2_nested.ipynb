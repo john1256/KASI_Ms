{
 "cells": [
  {
   "cell_type": "code",
   "execution_count": 5,
   "id": "d16c1418",
   "metadata": {},
   "outputs": [],
   "source": [
    "import numpy as np\n",
    "import matplotlib.pyplot as plt\n",
    "import nestle\n",
    "import corner\n",
    "from scipy.interpolate import interp1d\n",
    "from scipy.integrate import quad_vec\n",
    "from tqdm import tqdm\n",
    "import pandas as pd\n",
    "import os\n",
    "import sys\n",
    "sys.path.append('./Utils')\n",
    "CurrentPath = os.getcwd()\n",
    "sndata = pd.read_csv(CurrentPath + '/Data/parsonage.txt', sep = ' ', engine='python')"
   ]
  },
  {
   "cell_type": "code",
   "execution_count": null,
   "id": "24315ca1",
   "metadata": {},
   "outputs": [],
   "source": [
    "BAO_z = np.array([0.094,0.157,0.402,0.402,0.526,0.526,0.597,0.597])\n",
    "BAO_val = np.array([0.08,1849.05,4006.83,43.48,4650.20,51.31,5053.80,58.64])\n",
    "BAO_err = np.array([0.003,66.648,59.924,1.334,68.103,1.512,75.657,1.292])\n",
    "BAO_ind = np.array([1,2,3,4,3,4,3,4]) \n",
    "# 1 : r_s/D_V, 2 : D_V(r_d,fid/r_d), 3 : D_M(r_d,fid/r_d), 4 : H(r_d/r_d,fid)\n",
    "BAO_data = pd.DataFrame({\n",
    "    'z': BAO_z,\n",
    "    'val': BAO_val,\n",
    "    'err': BAO_err,\n",
    "    'ind': BAO_ind\n",
    "})\n",
    "BAO_data.to_csv('./Data/BAO_data.csv', index=False)\n",
    "BAO_data = pd.read_csv('./Data/BAO_data.csv')"
   ]
  },
  {
   "cell_type": "markdown",
   "id": "ec2dc7b7",
   "metadata": {},
   "source": [
    "# 1. Flat LCDM SN only"
   ]
  },
  {
   "cell_type": "code",
   "execution_count": 8,
   "id": "067cc7d4",
   "metadata": {},
   "outputs": [],
   "source": [
    "def E_inverse_flat(z, Omega_m): # return 1/E(z) = H0/H(z)\n",
    "    Omega_L = 1 - Omega_m\n",
    "    E2 = Omega_m*(1+z)**3 + Omega_L\n",
    "    if (E2<0).any():\n",
    "        E2=np.nan\n",
    "    E = np.sqrt(E2)\n",
    "    return 1/E\n",
    "\n",
    "\n",
    "def Other_stuff_flat(z, parm): # parm[0] = Omegam, parm[1] = Omegalamb\n",
    "    \"\"\"\n",
    "    Other_stuff_flat(z, parm) = integral from 0 to z of 1/E(z) dz\n",
    "    Other_stuff_flat(z, parm) = H0/c*D_M(z)\"\"\"\n",
    "    Omegam = parm[0]\n",
    "    grid = np.linspace(z.min(), z.max(), 100)\n",
    "    grid_dist = np.array([quad_vec(E_inverse_flat, 0,n, args=(Omegam))[0] for n in grid])\n",
    "    interp_func = interp1d(grid, grid_dist, kind='linear', fill_value='extrapolate')\n",
    "    integral = interp_func(z)\n",
    "    return integral\n",
    "def B(func, parm,z):\n",
    "    \"\"\"\n",
    "    B(Omegam, Omegalamb) = 5*log10((1+z)*proper distance*H0/c)\n",
    "    m(z) = A + B(Omegam, Omegalamb)\n",
    "    input : \n",
    "        func : proper distance*H0/c (Other_stuff_flat or Other_stuff_curved)\n",
    "        parm : [Omegam, Omegalamb] \n",
    "        z : redshift\n",
    "    output :\n",
    "        Bval : B(Omegam, Omegalamb)\n",
    "    \"\"\"\n",
    "    Bval = 5*np.log10((1+z)*func(z, parm))\n",
    "    return Bval\n",
    "\n",
    "def A(func,mb, dmb,z, parm):\n",
    "#   func : Other_stuff_flat or Other_stuff_curved \n",
    "    inv_dmb = np.sum(1/dmb**2)\n",
    "    A = 1/inv_dmb*np.sum((mb - B(func,parm,z))/(dmb**2))\n",
    "    return A\n",
    "\n",
    "def Loglike_SN_flat(parm):\n",
    "    mb = sndata['mb'].values\n",
    "    dmb = sndata['dmb'].values\n",
    "    z = sndata['zcmb'].values\n",
    "    m_z = A(Other_stuff_flat, mb,dmb, z, parm) + B(Other_stuff_flat, parm, z) # m_z = A + B(Omegam, Omegalamb)\n",
    "    diff = (mb - m_z)**2\n",
    "    chisq = np.sum(diff/dmb**2)\n",
    "    return -chisq/2\n",
    "\n",
    "def prior_SN_flat(x):\n",
    "    # return Omegam in [0,1] for flat universe\n",
    "    # x is a uniform distribution in [0,1]\n",
    "    return x"
   ]
  },
  {
   "cell_type": "code",
   "execution_count": 11,
   "id": "b42a9789",
   "metadata": {},
   "outputs": [
    {
     "name": "stdout",
     "output_type": "stream",
     "text": [
      "\u001b[Kit=   884 logz=-1657.571802niter: 885\n",
      "ncall: 1327\n",
      "nsamples: 985\n",
      "logz: -1657.155 +/-  0.263\n",
      "h:  6.932 \n",
      "logzerr: 0.2632801732754446\n",
      "Best-fit parameters: Omegam = 0.999 +/- 0.001\n"
     ]
    },
    {
     "data": {
      "image/png": "[encoded data removed]",
      "text/plain": [
       "<Figure size 340x340 with 1 Axes>"
      ]
     },
     "metadata": {},
     "output_type": "display_data"
    }
   ],
   "source": [
    "result_SN_flat = nestle.sample(Loglike_SN_flat, prior_SN_flat, ndim=1,npoints=100, method='single', callback=nestle.print_progress)\n",
    "print(result_SN_flat.summary(), f\"\\nlogzerr: {result_SN_flat.logzerr}\")\n",
    "p_SN_flat, cov_SN_flat = nestle.mean_and_cov(result_SN_flat.samples, result_SN_flat.weights)\n",
    "print(f\"Best-fit parameters: Omegam = {p_SN_flat[0]:.3f} +/- {np.sqrt(cov_SN_flat[0,0]):.3f}\")\n",
    "\n",
    "fig = corner.corner(result_SN_flat.samples,weights=result_SN_flat.weights, labels=['Omegam'],\n",
    "                    range=[0.99999], bins=30)"
   ]
  },
  {
   "cell_type": "code",
   "execution_count": null,
   "id": "ae285012",
   "metadata": {},
   "outputs": [
    {
     "name": "stdout",
     "output_type": "stream",
     "text": [
      "\u001b[0;31mType:\u001b[0m        Result\n",
      "\u001b[0;31mString form:\u001b[0m\n",
      "niter: 885\n",
      "           ncall: 1327\n",
      "           logz: -1657.1546478243974\n",
      "           logzerr: 0.2632801732754446\n",
      "           h: <...> 2,\n",
      "           -1649.56484968, -1649.55139623, -1649.19938837, -1649.59218454,\n",
      "           -1649.24384491])\n",
      "\u001b[0;31mLength:\u001b[0m      9\n",
      "\u001b[0;31mFile:\u001b[0m        /opt/anaconda3/lib/python3.12/site-packages/nestle.py\n",
      "\u001b[0;31mDocstring:\u001b[0m  \n",
      "Represents a sampling result.\n",
      "\n",
      "Since this class is essentially a subclass of dict with attribute\n",
      "accessors, one can see which attributes are available using the\n",
      "`keys()` method."
     ]
    }
   ],
   "source": [
    "import pickle\n",
    "with open('data.pkl','wb') as f:\n",
    "    pickle.dump(result_SN_flat, f)"
   ]
  },
  {
   "cell_type": "code",
   "execution_count": null,
   "id": "5e285873",
   "metadata": {},
   "outputs": [],
   "source": []
  }
 ],
 "metadata": {
  "kernelspec": {
   "display_name": "base",
   "language": "python",
   "name": "python3"
  },
  "language_info": {
   "codemirror_mode": {
    "name": "ipython",
    "version": 3
   },
   "file_extension": ".py",
   "mimetype": "text/x-python",
   "name": "python",
   "nbconvert_exporter": "python",
   "pygments_lexer": "ipython3",
   "version": "3.12.2"
  }
 },
 "nbformat": 4,
 "nbformat_minor": 5
}
