{
 "cells": [
  {
   "cell_type": "code",
   "execution_count": null,
   "metadata": {},
   "outputs": [],
   "source": [
    "from scipy.integrate import quad_vec\n",
    "from scipy.interpolate import interp1d\n",
    "import numpy as np\n",
    "import pandas as pd\n",
    "import os\n",
    "CurrentPath = os.getcwd()\n",
    "sndata = pd.read_csv(CurrentPath + '/Data/parsonage.txt', sep = ' ', engine='python')"
   ]
  },
  {
   "cell_type": "code",
   "execution_count": 45,
   "metadata": {},
   "outputs": [],
   "source": [
    "def E_inverse_curved(z, Omega_m, Omega_L): # return 1/E(z) = H0/H(z)\n",
    "    Omegak = 1 - Omega_m - Omega_L\n",
    "    E2 = Omega_m*(1+z)**3 + Omega_L + Omegak*(1+z)**2\n",
    "    E = np.sqrt(E2) \n",
    "    return 1/E\n",
    "\n",
    "def Other_stuff_curved(z, parm): # parm[0] = Omegam, parm[1] = Omegalamb, d_p = c/H0*Other_stuff_flat\n",
    "    Omegam = parm[0]\n",
    "    Omega_L = parm[1]\n",
    "    Omegak = 1 - Omegam - Omega_L\n",
    "    grid = np.linspace(z.min(), z.max(), 100)\n",
    "    gridval = np.array([quad_vec(E_inverse_curved, 0,n, args=(Omegam, Omega_L))[0] for n in grid])\n",
    "    if np.abs(Omegak) < 1e-14: # flat universe\n",
    "        grid_dist = gridval\n",
    "    elif Omegak > 1e-14: # open universe\n",
    "        grid_dist = 1/np.sqrt(Omegak)*np.sinh(np.sqrt(Omegak)*gridval)\n",
    "    else: # closed universe\n",
    "        grid_dist = 1/np.sqrt(-Omegak)*np.sin(np.sqrt(-Omegak)*gridval)\n",
    "    interp_func = interp1d(grid, grid_dist, kind='linear', fill_value='extrapolate')\n",
    "    integral = interp_func(z)\n",
    "    return integral\n",
    "def B(func, parm,z):\n",
    "    \"\"\"\n",
    "    B(Omegam, Omegalamb) = 5*log10((1+z)*proper distance*H0/c)\n",
    "    m(z) = A + B(Omegam, Omegalamb)\n",
    "    input : \n",
    "        func : proper distance*H0/c (Other_stuff_flat or Other_stuff_curved)\n",
    "        parm : [Omegam, Omegalamb] \n",
    "        z : redshift\n",
    "    output :\n",
    "        Bval : B(Omegam, Omegalamb)\n",
    "    \"\"\"\n",
    "    funcval = func(z, parm) # proper distance*H0/c\n",
    "    Bval = 5*np.log10((1+z)*funcval)\n",
    "    return Bval"
   ]
  },
  {
   "cell_type": "code",
   "execution_count": 46,
   "metadata": {},
   "outputs": [
    {
     "name": "stderr",
     "output_type": "stream",
     "text": [
      "/var/folders/h8/5hxv73fd07d033x49543ghl00000gn/T/ipykernel_8287/1102717268.py:4: RuntimeWarning: invalid value encountered in sqrt\n",
      "  E = np.sqrt(E2)\n"
     ]
    },
    {
     "ename": "ValueError",
     "evalue": "The truth value of an array with more than one element is ambiguous. Use a.any() or a.all()",
     "output_type": "error",
     "traceback": [
      "\u001b[0;31m---------------------------------------------------------------------------\u001b[0m",
      "\u001b[0;31mValueError\u001b[0m                                Traceback (most recent call last)",
      "Cell \u001b[0;32mIn[46], line 5\u001b[0m\n\u001b[1;32m      3\u001b[0m M,L \u001b[38;5;241m=\u001b[39m np\u001b[38;5;241m.\u001b[39mmeshgrid(Omegam, Omegal)\n\u001b[1;32m      4\u001b[0m z \u001b[38;5;241m=\u001b[39m sndata[\u001b[38;5;124m'\u001b[39m\u001b[38;5;124mzcmb\u001b[39m\u001b[38;5;124m'\u001b[39m]\u001b[38;5;241m.\u001b[39mvalues\u001b[38;5;241m.\u001b[39mmax()\n\u001b[0;32m----> 5\u001b[0m A \u001b[38;5;241m=\u001b[39m B(Other_stuff_curved,[M,L],z)\n",
      "Cell \u001b[0;32mIn[45], line 33\u001b[0m, in \u001b[0;36mB\u001b[0;34m(func, parm, z)\u001b[0m\n\u001b[1;32m     22\u001b[0m \u001b[38;5;28;01mdef\u001b[39;00m \u001b[38;5;21mB\u001b[39m(func, parm,z):\n\u001b[1;32m     23\u001b[0m \u001b[38;5;250m    \u001b[39m\u001b[38;5;124;03m\"\"\"\u001b[39;00m\n\u001b[1;32m     24\u001b[0m \u001b[38;5;124;03m    B(Omegam, Omegalamb) = 5*log10((1+z)*proper distance*H0/c)\u001b[39;00m\n\u001b[1;32m     25\u001b[0m \u001b[38;5;124;03m    m(z) = A + B(Omegam, Omegalamb)\u001b[39;00m\n\u001b[0;32m   (...)\u001b[0m\n\u001b[1;32m     31\u001b[0m \u001b[38;5;124;03m        Bval : B(Omegam, Omegalamb)\u001b[39;00m\n\u001b[1;32m     32\u001b[0m \u001b[38;5;124;03m    \"\"\"\u001b[39;00m\n\u001b[0;32m---> 33\u001b[0m     funcval \u001b[38;5;241m=\u001b[39m func(z, parm) \u001b[38;5;66;03m# proper distance*H0/c\u001b[39;00m\n\u001b[1;32m     34\u001b[0m     Bval \u001b[38;5;241m=\u001b[39m \u001b[38;5;241m5\u001b[39m\u001b[38;5;241m*\u001b[39mnp\u001b[38;5;241m.\u001b[39mlog10((\u001b[38;5;241m1\u001b[39m\u001b[38;5;241m+\u001b[39mz)\u001b[38;5;241m*\u001b[39mfuncval)\n\u001b[1;32m     35\u001b[0m     \u001b[38;5;28;01mreturn\u001b[39;00m Bval\n",
      "Cell \u001b[0;32mIn[45], line 13\u001b[0m, in \u001b[0;36mOther_stuff_curved\u001b[0;34m(z, parm)\u001b[0m\n\u001b[1;32m     11\u001b[0m grid \u001b[38;5;241m=\u001b[39m np\u001b[38;5;241m.\u001b[39mlinspace(z\u001b[38;5;241m.\u001b[39mmin(), z\u001b[38;5;241m.\u001b[39mmax(), \u001b[38;5;241m100\u001b[39m)\n\u001b[1;32m     12\u001b[0m gridval \u001b[38;5;241m=\u001b[39m np\u001b[38;5;241m.\u001b[39marray([quad_vec(E_inverse_curved, \u001b[38;5;241m0\u001b[39m,n, args\u001b[38;5;241m=\u001b[39m(Omegam, Omega_L))[\u001b[38;5;241m0\u001b[39m] \u001b[38;5;28;01mfor\u001b[39;00m n \u001b[38;5;129;01min\u001b[39;00m grid])\n\u001b[0;32m---> 13\u001b[0m \u001b[38;5;28;01mif\u001b[39;00m np\u001b[38;5;241m.\u001b[39mabs(Omegak) \u001b[38;5;241m<\u001b[39m \u001b[38;5;241m1e-14\u001b[39m: \u001b[38;5;66;03m# flat universe\u001b[39;00m\n\u001b[1;32m     14\u001b[0m     grid_dist \u001b[38;5;241m=\u001b[39m gridval\n\u001b[1;32m     15\u001b[0m \u001b[38;5;28;01melif\u001b[39;00m Omegak \u001b[38;5;241m>\u001b[39m \u001b[38;5;241m1e-14\u001b[39m: \u001b[38;5;66;03m# open universe\u001b[39;00m\n",
      "\u001b[0;31mValueError\u001b[0m: The truth value of an array with more than one element is ambiguous. Use a.any() or a.all()"
     ]
    }
   ],
   "source": [
    "Omegam = np.linspace(0,20,50)\n",
    "Omegal = np.linspace(-3,3,50)\n",
    "M,L = np.meshgrid(Omegam, Omegal)\n",
    "z = sndata['zcmb'].values.max()\n",
    "A = B(Other_stuff_curved,[M,L],z)"
   ]
  },
  {
   "cell_type": "code",
   "execution_count": 41,
   "metadata": {},
   "outputs": [
    {
     "name": "stdout",
     "output_type": "stream",
     "text": [
      "[0.         0.         0.         0.         0.         0.\n",
      " 0.         0.         0.         0.40816327 0.         0.40816327\n",
      " 0.         0.40816327 0.         0.40816327 0.         0.40816327\n",
      " 0.         0.40816327 0.         0.40816327 0.         0.40816327\n",
      " 0.81632653]\n",
      "[1.16326531 1.28571429 1.40816327 1.53061224 1.65306122 1.7755102\n",
      " 1.89795918 2.02040816 2.14285714 2.14285714 2.26530612 2.26530612\n",
      " 2.3877551  2.3877551  2.51020408 2.51020408 2.63265306 2.63265306\n",
      " 2.75510204 2.75510204 2.87755102 2.87755102 3.         3.\n",
      " 3.        ]\n"
     ]
    }
   ],
   "source": [
    "print(M[np.where(np.isnan(A))])\n",
    "print(L[np.where(np.isnan(A))])"
   ]
  },
  {
   "cell_type": "code",
   "execution_count": 43,
   "metadata": {},
   "outputs": [
    {
     "name": "stderr",
     "output_type": "stream",
     "text": [
      "/var/folders/h8/5hxv73fd07d033x49543ghl00000gn/T/ipykernel_8287/3017672069.py:1: RuntimeWarning: invalid value encountered in log10\n",
      "  np.isnan(np.log10(-1))\n"
     ]
    },
    {
     "data": {
      "text/plain": [
       "True"
      ]
     },
     "execution_count": 43,
     "metadata": {},
     "output_type": "execute_result"
    }
   ],
   "source": [
    "np.isnan(np.log10(-1))"
   ]
  },
  {
   "cell_type": "code",
   "execution_count": null,
   "metadata": {},
   "outputs": [],
   "source": []
  }
 ],
 "metadata": {
  "kernelspec": {
   "display_name": "base",
   "language": "python",
   "name": "python3"
  },
  "language_info": {
   "codemirror_mode": {
    "name": "ipython",
    "version": 3
   },
   "file_extension": ".py",
   "mimetype": "text/x-python",
   "name": "python",
   "nbconvert_exporter": "python",
   "pygments_lexer": "ipython3",
   "version": "3.12.2"
  }
 },
 "nbformat": 4,
 "nbformat_minor": 2
}
