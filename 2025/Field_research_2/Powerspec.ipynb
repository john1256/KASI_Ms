{
 "cells": [
  {
   "cell_type": "code",
   "execution_count": 1,
   "id": "77475156",
   "metadata": {},
   "outputs": [],
   "source": [
    "import numpy as np\n",
    "import camb\n",
    "import matplotlib.pyplot as plt"
   ]
  },
  {
   "cell_type": "code",
   "execution_count": 7,
   "id": "7f94f573",
   "metadata": {},
   "outputs": [],
   "source": [
    "def get_eq(om0h2, theta):\n",
    "    z_eq = 2.5*1e4 * om0h2 / theta**4\n",
    "    k_eq = 7.46*1e-2 * om0h2 / theta**2  # in Mpc^-1\n",
    "    return z_eq, k_eq\n",
    "def get_zdrag(om0h2, ombh2):\n",
    "    b1 = 0.313*(om0h2)**-0.419*(1+0.607*om0h2**0.674)\n",
    "    b2 = 0.238*(om0h2)**0.223\n",
    "    zdrag = 1291*om0h2**0.251/(1+0.659*om0h2**0.828)*(1+b1*ombh2**b2)\n",
    "    return zdrag\n",
    "def get_s(om0h2, ombh2, theta):\n",
    "    zdrag = get_zdrag(om0h2, ombh2)\n",
    "    z_eq, k_eq = get_eq(om0h2, theta)\n",
    "    Req = 31.5*ombh2*(theta)**-4 * (z_eq/1e3)**-1\n",
    "    Rdrag = 31.5*ombh2*(theta)**-4 * (zdrag/1e3)**-1\n",
    "    s = (\n",
    "    (2./(3*k_eq))*np.sqrt(6./Req)*\n",
    "    np.log((np.sqrt(1+Rdrag) + np.sqrt(Rdrag + Req))/(1+np.sqrt(Req)))\n",
    "    )\n",
    "    return s"
   ]
  },
  {
   "cell_type": "code",
   "execution_count": 11,
   "id": "b0dcf57f",
   "metadata": {},
   "outputs": [
    {
     "name": "stdout",
     "output_type": "stream",
     "text": [
      "0.7091165055602682\n"
     ]
    }
   ],
   "source": [
    "theta = 2.728/2.7\n",
    "keq = get_eq(0.4, theta)[1]\n",
    "s = get_s(0.4, 0.16, theta)\n",
    "print(keq*s/np.pi)"
   ]
  },
  {
   "cell_type": "code",
   "execution_count": 63,
   "id": "ba69d980",
   "metadata": {},
   "outputs": [],
   "source": [
    "class EisensteinHu:\n",
    "    def __init__(self, ombh2=0.022, omch2=0.122,h=0.675, mnu=0.06, ns=0.965, As=2e-9, tau=0.06, TCMB=2.728):\n",
    "        self.name = \"Eisenstein-Hu\"\n",
    "        self.params = {\n",
    "            'ombh2': ombh2,\n",
    "            'omch2': omch2,\n",
    "            'h': h,\n",
    "            'mnu': mnu,\n",
    "            'ns': ns,\n",
    "            'As': As,\n",
    "            'tau': tau,\n",
    "            'TCMB': TCMB\n",
    "        }\n",
    "        self.ombh2 = self.params['ombh2']\n",
    "        self.omch2 = self.params['omch2']\n",
    "        self.om0h2 = ombh2 + omch2\n",
    "        self.f_baryon = ombh2/self.om0h2\n",
    "        self.theta = TCMB/2.7\n",
    "        self.zeq = 2.5*1e4 * self.om0h2 * (self.theta)**-4\n",
    "        self.keq = 7.46*1e-2 * self.om0h2*(self.theta)**-2 # in Mpc^-1\n",
    "\n",
    "        # k_silk calculation\n",
    "        self.ksilk = 1.6 * self.ombh2**0.52 * self.om0h2**0.73 * ( 1+ (10.4*self.om0h2) ** -0.95 ) # in Mpc^-1\n",
    "\n",
    "    # calculate zdrag [4]\n",
    "\n",
    "        self.z_drag_b1 = 0.313 * self.om0h2 ** -0.419 * (1 + 0.607 * self.om0h2 ** 0.674)\n",
    "        self.z_drag_b2 = 0.238 * self.om0h2 ** 0.223\n",
    "        self.ombh2 = self.params['ombh2']\n",
    "        self.zdrag    = 1291 * self.om0h2 ** 0.251 / (1. + 0.659 * self.om0h2 ** 0.828) * \\\n",
    "                           (1. + self.z_drag_b1 * self.ombh2 ** self.z_drag_b2) # [4]\n",
    "\n",
    "    # calculate s (sound horizon)    [6]\n",
    "        self.Req = 31.5*self.ombh2*(self.theta)**-4 * (1e3/self.zeq)\n",
    "        self.Rdrag = 31.5*self.ombh2*(self.theta)**-4 * (1e3/self.zdrag)\n",
    "        self.s = 2. / (3.*self.keq) * np.sqrt(6. / self.Req) * \\\n",
    "                    np.log((np.sqrt(1 + self.Rdrag) + np.sqrt(self.Rdrag + self.Req)) / (1 + np.sqrt(self.Req)) )\n",
    "    # Calculate alpha_c, beta_c [11],[12]\n",
    "        a1 = (46.9*self.om0h2)**0.670*(1+(32.1*self.om0h2)**-0.532)\n",
    "        a2 = (12.0*self.om0h2)**0.424*(1+(45.0*self.om0h2)**-0.582)\n",
    "        self.alpha_c = a1**(-self.f_baryon)*a2**(-self.f_baryon**3) # [11]\n",
    "        \n",
    "        b1 = 0.944 / (1 + (458*self.om0h2) ** -0.708)\n",
    "        b2 =  0.395 * self.om0h2 ** -0.0266\n",
    "        self.beta_c = 1. / ( 1 + b1 * ((1-self.f_baryon) ** b2 - 1) ) # [12]\n",
    "\n",
    "    # Calculate alpha_b [14]\n",
    "        def G(y): # [15]\n",
    "                return y * ( (-6. * np.sqrt(1 + y)) + ( (2 + 3 * y) * np.log( (np.sqrt(1+y) + 1) / (np.sqrt(1+y)-1) ) ) )\n",
    "        self.alpha_b = 2.07*self.keq*self.s*(1+self.Rdrag)**-(3/4)*G((1+self.zeq)/(1+self.zdrag)) # [14]    \n",
    "        self.beta_node = 8.41*self.om0h2**0.435 # [23]\n",
    "        self.beta_b = 0.5 + self.f_baryon + ( 3 - 2*self.f_baryon )*np.sqrt( (17.2*self.om0h2)**2 + 1) # [24]\n",
    "    def Transfer_function_no_baryon(self,k):\n",
    "        q = k/(13.41*self.keq) # [10]\n",
    "        ks = k*self.s\n",
    "        T_c = self.alpha_c * np.log(18*self.beta_c*q) / (14.2*q**2) # [9]\n",
    "        T_b = self.alpha_b * np.sin(ks)/ks\n",
    "        return (1-self.f_baryon)*T_c + self.f_baryon*T_b\n",
    "\n",
    "    def Transfer_function(self, k):\n",
    "        # Calculate T_c\n",
    "        q = k/(13.41*self.keq) # [10]\n",
    "        ks = k*self.s\n",
    "        def C(alpha_c, q):  # [20]\n",
    "            return 14.2/alpha_c + 386./(1+69.9*q**1.08)\n",
    "        def Tilde0(q, alpha_c, beta_c): #  [19]\n",
    "            return np.log(np.e+1.8*beta_c*q)/(np.log(np.e+1.8*beta_c*q)+C(alpha_c, q)*q**2)\n",
    "\n",
    "        f = 1/(1+(ks/5.4)**4) # [18]\n",
    "        T_c = f*Tilde0(q, 1, self.beta_c) + (1-f)*Tilde0(q, self.alpha_c, self.beta_c) # [17]\n",
    "\n",
    "        # Calculate T_b\n",
    "        self.stildek = self.s/((1+ (self.beta_node/ks)**3 )**(1/3)) # [22]\n",
    "        def j0(x):\n",
    "            return np.sin(x)/x\n",
    "        T_b = ( Tilde0(q,1,1)/(1+(ks/5.2)**2) + self.alpha_b/(1+(self.beta_b/ks)**3) * np.exp(-(k/self.ksilk)**1.4) )  * j0(k*self.stildek) # [19]\n",
    "        # Total Transfer function\n",
    "        T_k = self.f_baryon*T_b + (1-self.f_baryon)*T_c # [16]\n",
    "        return T_k\n",
    "\n",
    "\n",
    "    "
   ]
  },
  {
   "cell_type": "code",
   "execution_count": 65,
   "id": "473cc482",
   "metadata": {},
   "outputs": [
    {
     "data": {
      "image/png": "[encoded data removed]",
      "text/plain": [
       "<Figure size 640x480 with 1 Axes>"
      ]
     },
     "metadata": {},
     "output_type": "display_data"
    }
   ],
   "source": [
    "om0h2 = 0.2*0.5**2\n",
    "ombh2 = om0h2*1\n",
    "pars = EisensteinHu(ombh2=ombh2, omch2=om0h2-ombh2, h=0.5)\n",
    "karr = np.logspace(-3,0,100)\n",
    "p= pars.Transfer_function(karr)\n",
    "plt.plot(karr, p)\n",
    "plt.xscale('log')\n",
    "plt.yscale('log')\n",
    "plt.show()\n"
   ]
  },
  {
   "cell_type": "code",
   "execution_count": 54,
   "id": "fb8ec8b4",
   "metadata": {},
   "outputs": [
    {
     "name": "stdout",
     "output_type": "stream",
     "text": [
      "0.5536167979002934\n",
      "0.09441023832083474\n",
      "0.2 0.20000000000000004\n"
     ]
    }
   ],
   "source": [
    "print(pars.alpha_c*(om0h2-ombh2)/om0h2)\n",
    "print(pars.alpha_b*ombh2/om0h2)\n",
    "print(om0h2, pars.f_baryon)"
   ]
  },
  {
   "cell_type": "code",
   "execution_count": null,
   "id": "7d73b6a8",
   "metadata": {},
   "outputs": [],
   "source": []
  }
 ],
 "metadata": {
  "kernelspec": {
   "display_name": "base",
   "language": "python",
   "name": "python3"
  },
  "language_info": {
   "codemirror_mode": {
    "name": "ipython",
    "version": 3
   },
   "file_extension": ".py",
   "mimetype": "text/x-python",
   "name": "python",
   "nbconvert_exporter": "python",
   "pygments_lexer": "ipython3",
   "version": "3.12.2"
  }
 },
 "nbformat": 4,
 "nbformat_minor": 5
}
