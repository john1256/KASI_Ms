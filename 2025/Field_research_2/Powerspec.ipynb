{
 "cells": [
  {
   "cell_type": "code",
   "execution_count": 1,
   "id": "77475156",
   "metadata": {},
   "outputs": [],
   "source": [
    "import numpy as np\n",
    "import camb\n",
    "import matplotlib.pyplot as plt"
   ]
  },
  {
   "cell_type": "code",
   "execution_count": 7,
   "id": "7f94f573",
   "metadata": {},
   "outputs": [],
   "source": [
    "def get_eq(om0h2, theta):\n",
    "    z_eq = 2.5*1e4 * om0h2 / theta**4\n",
    "    k_eq = 7.46*1e-2 * om0h2 / theta**2  # in Mpc^-1\n",
    "    return z_eq, k_eq\n",
    "def get_zdrag(om0h2, ombh2):\n",
    "    b1 = 0.313*(om0h2)**-0.419*(1+0.607*om0h2**0.674)\n",
    "    b2 = 0.238*(om0h2)**0.223\n",
    "    zdrag = 1291*om0h2**0.251/(1+0.659*om0h2**0.828)*(1+b1*ombh2**b2)\n",
    "    return zdrag\n",
    "def get_s(om0h2, ombh2, theta):\n",
    "    zdrag = get_zdrag(om0h2, ombh2)\n",
    "    z_eq, k_eq = get_eq(om0h2, theta)\n",
    "    Req = 31.5*ombh2*(theta)**-4 * (z_eq/1e3)**-1\n",
    "    Rdrag = 31.5*ombh2*(theta)**-4 * (zdrag/1e3)**-1\n",
    "    s = (\n",
    "    (2./(3*k_eq))*np.sqrt(6./Req)*\n",
    "    np.log((np.sqrt(1+Rdrag) + np.sqrt(Rdrag + Req))/(1+np.sqrt(Req)))\n",
    "    )\n",
    "    return s"
   ]
  },
  {
   "cell_type": "code",
   "execution_count": 11,
   "id": "b0dcf57f",
   "metadata": {},
   "outputs": [
    {
     "name": "stdout",
     "output_type": "stream",
     "text": [
      "0.7091165055602682\n"
     ]
    }
   ],
   "source": [
    "theta = 2.728/2.7\n",
    "keq = get_eq(0.4, theta)[1]\n",
    "s = get_s(0.4, 0.16, theta)\n",
    "print(keq*s/np.pi)"
   ]
  },
  {
   "cell_type": "code",
   "execution_count": null,
   "id": "ba69d980",
   "metadata": {},
   "outputs": [],
   "source": [
    "class EisensteinHu:\n",
    "    def __init__(self, ombh2=0.022, omch2=0.122,h=0.675, mnu=0.06, ns=0.965, As=2e-9, tau=0.06, TCMB=2.728):\n",
    "        self.name = \"Eisenstein-Hu\"\n",
    "        self.params = {\n",
    "            'ombh2': ombh2,\n",
    "            'omch2': omch2,\n",
    "            'h': h,\n",
    "            'mnu': mnu,\n",
    "            'ns': ns,\n",
    "            'As': As,\n",
    "            'tau': tau,\n",
    "            'TCMB': TCMB\n",
    "        }\n",
    "        self.om0h2 = ombh2 + omch2\n",
    "        self.theta = TCMB/2.7\n",
    "        self.zeq = 2.5*1e4 * self.om0h2 * (self.theta)**-4\n",
    "        self.keq = 7.46*1e-2 * self.om0h2*(self.theta)**-2 # in Mpc^-1\n",
    "\n",
    "        # k_silk calculation\n",
    "        self.ksilk = 1.6*ombh2**0.52*self.om0h2**0.73*(1+(10.4*self.om0h2)**-0.95) # in Mpc^-1\n",
    "\n",
    "    # zdrag calculation\n",
    "    def get_zdrag(self):\n",
    "        self.ombh2 = self.params['ombh2']\n",
    "        b1 = 0.313*(self.om0h2)**-0.419*(1+0.607*self.om0h2**0.674)\n",
    "        b2 = 0.238*(self.om0h2)**0.223\n",
    "        self.zdrag = 1291*self.om0h2**0.251/(1+0.659*self.om0h2**0.828)*(1+b1*self.ombh2**b2)\n",
    "        return self.zdrag\n",
    "    \n",
    "    # s calculation    \n",
    "    def get_s(self):\n",
    "        \"\"\"\n",
    "        calculates the sound horizon at drag epoch in comoving distance\n",
    "\n",
    "\n",
    "        \"\"\"\n",
    "        self.zdrag = self.get_zdrag() # includes self.zdrag, self.ombh2\n",
    "        self.Req = 31.5*self.ombh2*(self.theta)**-4 * (1e3/self.zeq)\n",
    "        self.Rdrag = 31.5*self.ombh2*(self.theta)**-4 * (1e3/self.zdrag)\n",
    "        self.s = (\n",
    "        (2./(3*self.keq))*np.sqrt(6./self.Req)*\n",
    "        np.log((np.sqrt(1+self.Rdrag) + np.sqrt(self.Rdrag + self.Req))/(1+np.sqrt(self.Req)))\n",
    "        )\n",
    "        return self.s\n",
    "    # \n",
    "    def Transfer_c(self,k):\n",
    "        \n",
    "    def Transfer_function(self, k):\n",
    "        self.omch2 = self.params['omch2']\n",
    "        # calculate q and s\n",
    "        \n",
    "        s = self.get_s() # updates self.zdrag, self.ombh2, self.s\n",
    "\n",
    "        # calculate nuisance parameters for alpha_c [11]\n",
    "        a1 = (46.9*self.om0h2)**0.670*(1+(32.1*self.om0h2)**-0.532)\n",
    "        a2 = (12.0*self.om0h2)**0.424*(1+(45.0*self.om0h2)**-0.582)\n",
    "        # calculate alpha_c [12]\n",
    "        alpha_c = a1**-(self.ombh2/self.om0h2) * a2**-(self.ombh2/self.om0h2)**3\n",
    "        print(\"alpha_c:\", alpha_c)\n",
    "\n",
    "        # calculate nuisance parameters for beta_c [12]\n",
    "        b1 = 0.944*(1+(458*self.om0h2)**-0.708)**-1\n",
    "        b2 = (0.395*self.om0h2)**-0.0266\n",
    "        # calculate beta_c [12]\n",
    "        beta_c = 1/(1+b1*((self.omch2/self.om0h2)**b2 - 1))\n",
    "        print(\"beta_c:\", beta_c)\n",
    "\n",
    "        # calculate T_c\n",
    "        def Ttilde0(k, alpha_c, beta_c): # [19]\n",
    "            q = k/(13.41*self.keq) # [10]\n",
    "            C = 14.2/alpha_c+386./(1+69.9*q**1.08)\n",
    "            return np.log(np.e+1.8*beta_c*q)/(np.log(np.e+1.8*beta_c*q)+C*q**2)\n",
    "        f = 1/(1+(k*s/5.4)**4) # [18]\n",
    "\n",
    "        T_c = f*Ttilde0(k, 1, beta_c) + (1-f)*Ttilde0(k, alpha_c, beta_c) # [17]\n",
    "\n",
    "\n",
    "        # calculate alpha_b\n",
    "        def G(y): # [15]\n",
    "            return y*(-6.*np.sqrt(1+y)+(2+3*y)*np.log((np.sqrt(1+y)+1)/np.sqrt(1+y)-1))\n",
    "        alpha_b = 2.07*self.keq*s*(1+self.Rdrag)**-(3/4)*G((1+self.zeq)/(1+self.zdrag)) # [14]\n",
    "        def j0(x):\n",
    "            return np.sin(x)/x\n",
    "        # calculate T_b # [23]\n",
    "        beta_node = 8.41*self.om0h2**0.435 # [23]\n",
    "        stilde = s/(1+(beta_node/k/s)**3)**(1/3) # [22]\n",
    "        beta_b = 0.5 + self.ombh2/self.om0h2 + (3 - 2*self.ombh2/self.om0h2)*np.sqrt((17.2*self.om0h2)**2 + 1) # [24]\n",
    "\n",
    "        T_b = ((Ttilde0(k,1,1)/(1+(k*s/5.2)**2)) + (alpha_b/(1+(beta_b/(k*s))**3)*np.exp(-(k/self.ksilk)**1.4)))*j0(k*stilde) # [21]\n",
    "\n",
    "        T_k = self.ombh2/self.om0h2*T_b + self.omch2/self.om0h2*T_c\n",
    "        return T_k\n",
    "    \n",
    "    def Power_spectrum(self, k, kpivot=0.05):\n",
    "        self.ns = self.params['ns']\n",
    "        self.As = self.params['As']\n",
    "        T_k = self.Transfer_function(k)\n",
    "        P_k = self.As*(k/kpivot)**(self.ns-1)*T_k**2\n",
    "        return P_k\n",
    "    "
   ]
  },
  {
   "cell_type": "code",
   "execution_count": 17,
   "id": "473cc482",
   "metadata": {},
   "outputs": [
    {
     "name": "stdout",
     "output_type": "stream",
     "text": [
      "alpha_c: 0.24307357293425647\n",
      "beta_c: 6.722865890157839\n"
     ]
    },
    {
     "data": {
      "image/png": "[encoded data removed]",
      "text/plain": [
       "<Figure size 640x480 with 1 Axes>"
      ]
     },
     "metadata": {},
     "output_type": "display_data"
    }
   ],
   "source": [
    "om0h2 = 0.2*0.5**2\n",
    "ombh2 = om0h2*1\n",
    "pars = EisensteinHu(ombh2=ombh2, omch2=om0h2-ombh2, h=0.5)\n",
    "karr = np.logspace(-3,0,100)\n",
    "p = pars.Transfer_function(karr)\n",
    "plt.plot(karr, p)\n",
    "plt.xscale('log')\n",
    "plt.show()\n"
   ]
  },
  {
   "cell_type": "code",
   "execution_count": null,
   "id": "fb8ec8b4",
   "metadata": {},
   "outputs": [],
   "source": [
    "4"
   ]
  }
 ],
 "metadata": {
  "kernelspec": {
   "display_name": "base",
   "language": "python",
   "name": "python3"
  },
  "language_info": {
   "codemirror_mode": {
    "name": "ipython",
    "version": 3
   },
   "file_extension": ".py",
   "mimetype": "text/x-python",
   "name": "python",
   "nbconvert_exporter": "python",
   "pygments_lexer": "ipython3",
   "version": "3.12.11"
  }
 },
 "nbformat": 4,
 "nbformat_minor": 5
}
