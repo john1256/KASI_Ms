{
 "cells": [
  {
   "cell_type": "code",
   "execution_count": 4,
   "id": "77475156",
   "metadata": {},
   "outputs": [],
   "source": [
    "import numpy as np\n",
    "import camb\n",
    "import matplotlib.pyplot as plt"
   ]
  },
  {
   "cell_type": "code",
   "execution_count": 2,
   "id": "ba69d980",
   "metadata": {},
   "outputs": [],
   "source": [
    "class EisensteinHu:\n",
    "    def __init__(self, ombh2=0.022, omch2=0.122,h=0.675, mnu=0.06, ns=0.965, As=2e-9, tau=0.06, TCMB=2.728):\n",
    "        self.name = \"Eisenstein-Hu\"\n",
    "        self.params = {\n",
    "            'ombh2': ombh2,\n",
    "            'omch2': omch2,\n",
    "            'h': h,\n",
    "            'mnu': mnu,\n",
    "            'ns': ns,\n",
    "            'As': As,\n",
    "            'tau': tau,\n",
    "            'TCMB': TCMB\n",
    "        }\n",
    "        self.h = self.params['h']\n",
    "        self.ombh2 = self.params['ombh2']\n",
    "        self.omch2 = self.params['omch2']\n",
    "        self.om0h2 = ombh2 + omch2\n",
    "        self.f_baryon = ombh2/self.om0h2\n",
    "        self.theta = TCMB/2.7\n",
    "        self.zeq = 2.5*1e4 * self.om0h2 * (self.theta)**-4\n",
    "        self.keq = 7.46*1e-2 * self.om0h2*(self.theta)**-2 # in Mpc^-1\n",
    "\n",
    "        # k_silk calculation\n",
    "        self.ksilk = 1.6 * self.ombh2**0.52 * self.om0h2**0.73 * ( 1+ (10.4*self.om0h2) ** -0.95 ) # in Mpc^-1\n",
    "\n",
    "    # calculate zdrag [4]\n",
    "\n",
    "        self.z_drag_b1 = 0.313 * self.om0h2 ** -0.419 * (1 + 0.607 * self.om0h2 ** 0.674)\n",
    "        self.z_drag_b2 = 0.238 * self.om0h2 ** 0.223\n",
    "        self.ombh2 = self.params['ombh2']\n",
    "        self.zdrag    = 1291 * self.om0h2 ** 0.251 / (1. + 0.659 * self.om0h2 ** 0.828) * \\\n",
    "                           (1. + self.z_drag_b1 * self.ombh2 ** self.z_drag_b2) # [4]\n",
    "\n",
    "    # calculate s (sound horizon)    [6]\n",
    "        self.Req = 31.5*self.ombh2*(self.theta)**-4 * (1e3/self.zeq)\n",
    "        self.Rdrag = 31.5*self.ombh2*(self.theta)**-4 * (1e3/self.zdrag)\n",
    "        self.s = 2. / (3.*self.keq) * np.sqrt(6. / self.Req) * \\\n",
    "                    np.log((np.sqrt(1 + self.Rdrag) + np.sqrt(self.Rdrag + self.Req)) / (1 + np.sqrt(self.Req)) )\n",
    "    # Calculate alpha_c, beta_c [11],[12]\n",
    "        a1 = (46.9*self.om0h2)**0.670*(1+(32.1*self.om0h2)**-0.532)\n",
    "        a2 = (12.0*self.om0h2)**0.424*(1+(45.0*self.om0h2)**-0.582)\n",
    "        self.alpha_c = a1**(-self.f_baryon)*a2**(-self.f_baryon**3) # [11]\n",
    "        \n",
    "        b1 = 0.944 / (1 + (458*self.om0h2) ** -0.708)\n",
    "        b2 =  0.395 * self.om0h2 ** -0.0266\n",
    "        self.beta_c = 1. / ( 1 + b1 * ((1-self.f_baryon) ** b2 - 1) ) # [12]\n",
    "\n",
    "    # Calculate alpha_b [14]\n",
    "        def G(y): # [15]\n",
    "                return y * ( (-6. * np.sqrt(1 + y)) + ( (2 + 3 * y) * np.log( (np.sqrt(1+y) + 1) / (np.sqrt(1+y)-1) ) ) )\n",
    "        self.alpha_b = 2.07*self.keq*self.s*(1+self.Rdrag)**-(3/4)*G((1+self.zeq)/(1+self.zdrag)) # [14]    \n",
    "        self.beta_node = 8.41*self.om0h2**0.435 # [23]\n",
    "        self.beta_b = 0.5 + self.f_baryon + ( 3 - 2*self.f_baryon )*np.sqrt( (17.2*self.om0h2)**2 + 1) # [24]\n",
    "    def Transfer_function_eff(self,k):\n",
    "        q = k/(13.41*self.keq) # [10]\n",
    "        ks = k*self.s\n",
    "        T_c = self.alpha_c * np.log(18*self.beta_c*q) / (14.2*q**2) # [9]\n",
    "        T_b = self.alpha_b * np.sin(ks)/ks\n",
    "        return (1-self.f_baryon)*T_c + self.f_baryon*T_b\n",
    "\n",
    "    def Transfer_function(self, k):\n",
    "        # Calculate T_c\n",
    "        q = k/(13.41*self.keq) # [10]\n",
    "        ks = k*self.s\n",
    "        def C(alpha_c, q):  # [20]\n",
    "            return 14.2/alpha_c + 386./(1+69.9*q**1.08)\n",
    "        def Tilde0(q, alpha_c, beta_c): #  [19]\n",
    "            return np.log(np.e+1.8*beta_c*q)/(np.log(np.e+1.8*beta_c*q)+C(alpha_c, q)*q**2)\n",
    "\n",
    "        f = 1/(1+(ks/5.4)**4) # [18]\n",
    "        T_c = f*Tilde0(q, 1, self.beta_c) + (1-f)*Tilde0(q, self.alpha_c, self.beta_c) # [17]\n",
    "\n",
    "        # Calculate T_b\n",
    "        self.stildek = self.s/((1+ (self.beta_node/ks)**3 )**(1/3)) # [22]\n",
    "        def j0(x):\n",
    "            return np.sin(x)/x\n",
    "        T_b = ( Tilde0(q,1,1)/(1+(ks/5.2)**2) + self.alpha_b/(1+(self.beta_b/ks)**3) * np.exp(-(k/self.ksilk)**1.4) )  * j0(k*self.stildek) # [19]\n",
    "        # Total Transfer function\n",
    "        T_k = self.f_baryon*T_b + (1-self.f_baryon)*T_c # [16]\n",
    "        return T_k\n",
    "    def oscillation(self):\n",
    "        s = 44.5 * np.log(9.83 / self.om0h2) / np.sqrt(1 + 10 * self.ombh2**3/4) # in Mpc [26]\n",
    "        k_peak = 5* np.pi / (2*s) * (1 + 0.217 * self.om0h2) # in Mpc^-1 [25]\n",
    "        return k_peak\n",
    "    def Transfer_function_eff(self, k):\n",
    "        self.gamma = self.om0h2/self.h\n",
    "        q = k * self.theta**2\n",
    "        def L0(q): # [29]\n",
    "            return np.log(2*np.e + 1.8*q)\n",
    "        def C0(q): # [30]\n",
    "            return 14.2 + 731./(1+62.5*q)\n",
    "        T0 = L0(q)/ (L0(q) + C0(q)*q**2) # [28]\n",
    "        return T0\n",
    "    \n",
    "    "
   ]
  },
  {
   "cell_type": "code",
   "execution_count": null,
   "id": "473cc482",
   "metadata": {},
   "outputs": [
    {
     "data": {
      "image/png": "[encoded data removed]",
      "text/plain": [
       "<Figure size 640x480 with 1 Axes>"
      ]
     },
     "metadata": {},
     "output_type": "display_data"
    }
   ],
   "source": [
    "om0h2 = 0.2*0.5**2\n",
    "ombh2 = om0h2*1\n",
    "pars = EisensteinHu(ombh2=ombh2, omch2=om0h2-ombh2, h=0.5)\n",
    "karr = np.logspace(-3,0,50)\n",
    "p= pars.Transfer_function(karr)\n",
    "loc = pars.oscillation()\n",
    "q = pars.Transfer_function_eff(karr)\n",
    "plt.plot(karr*0.5, p)\n",
    "plt.plot(karr*0.5, q, linestyle='--', color='red')\n",
    "plt.axvline(loc*0.5, color='r', linestyle='--', label=f'First Peak at k={loc:.3f} Mpc$^{{-1}}$')\n",
    "plt.xscale('log')\n",
    "plt.yscale('log')\n",
    "plt.ylim(1e-4,5)\n",
    "plt.show()\n"
   ]
  },
  {
   "cell_type": "code",
   "execution_count": 18,
   "id": "7797b961",
   "metadata": {},
   "outputs": [
    {
     "name": "stdout",
     "output_type": "stream",
     "text": [
      "1020.3206045824348\n"
     ]
    },
    {
     "data": {
      "image/png": "[encoded data removed]",
      "text/plain": [
       "<Figure size 640x480 with 1 Axes>"
      ]
     },
     "metadata": {},
     "output_type": "display_data"
    }
   ],
   "source": [
    "om0h2 = 0.13348568\n",
    "ombh2 = 0.02258368\n",
    "omch2 = om0h2 - ombh2\n",
    "\n",
    "pars2 =  EisensteinHu(ombh2=ombh2, omch2=omch2, h=0.71, TCMB=2.725)\n",
    "print(pars2.zdrag)\n",
    "karr = np.logspace(-3,0,50)\n",
    "p= pars2.Transfer_function(karr)\n",
    "loc = pars2.oscillation()\n",
    "q = pars2.Transfer_function_eff(karr)\n",
    "plt.plot(karr*pars2.h, p)\n",
    "#plt.plot(karr*pars2.h, q, linestyle='--', color='red')\n",
    "#plt.axvline(loc*pars2.h, color='r', linestyle='--', label=f'First Peak at k={loc:.3f} Mpc$^{{-1}}$')\n",
    "plt.xscale('log')\n",
    "plt.yscale('log')\n",
    "plt.ylim(1e-3,2)\n",
    "plt.show()"
   ]
  },
  {
   "cell_type": "code",
   "execution_count": 54,
   "id": "fb8ec8b4",
   "metadata": {},
   "outputs": [
    {
     "name": "stdout",
     "output_type": "stream",
     "text": [
      "0.5536167979002934\n",
      "0.09441023832083474\n",
      "0.2 0.20000000000000004\n"
     ]
    }
   ],
   "source": [
    "print(pars.alpha_c*(om0h2-ombh2)/om0h2)\n",
    "print(pars.alpha_b*ombh2/om0h2)\n",
    "print(om0h2, pars.f_baryon)"
   ]
  },
  {
   "cell_type": "code",
   "execution_count": 7,
   "id": "7d2b22a1",
   "metadata": {},
   "outputs": [],
   "source": [
    "from numcosmo_py import Nc, Ncm\n",
    "\n",
    "# Initialize the library\n",
    "Ncm.cfg_init()\n",
    "cosmo = Nc.HICosmoDEXcdm()\n",
    "cosmo.omega_x2omega_k()\n",
    "cosmo[\"Omegak\"] = 0.0\n",
    "cosmo[\"w\"] = -1.0\n",
    "cosmo[\"Omegab\"] = ombh2/0.5**2\n",
    "cosmo[\"Omegac\"] = (om0h2 - ombh2)/0.5**2\n",
    "cosmo[\"H0\"] = 50.0"
   ]
  },
  {
   "cell_type": "code",
   "execution_count": 3,
   "id": "5ff8616e",
   "metadata": {},
   "outputs": [],
   "source": [
    "tf_eh = Nc.TransferFuncEH.new()"
   ]
  },
  {
   "cell_type": "code",
   "execution_count": 21,
   "id": "b40c79b8",
   "metadata": {},
   "outputs": [
    {
     "ename": "TypeError",
     "evalue": "'TransferFuncEH' object is not callable",
     "output_type": "error",
     "traceback": [
      "\u001b[31m---------------------------------------------------------------------------\u001b[39m",
      "\u001b[31mTypeError\u001b[39m                                 Traceback (most recent call last)",
      "\u001b[36mCell\u001b[39m\u001b[36m \u001b[39m\u001b[32mIn[21]\u001b[39m\u001b[32m, line 1\u001b[39m\n\u001b[32m----> \u001b[39m\u001b[32m1\u001b[39m T_k_nc = \u001b[43mtf_eh\u001b[49m\u001b[43m(\u001b[49m\u001b[43mcosmo\u001b[49m\u001b[43m,\u001b[49m\u001b[43m \u001b[49m\u001b[43mkarr\u001b[49m\u001b[43m)\u001b[49m\n\u001b[32m      3\u001b[39m \u001b[38;5;66;03m# 3. 결과 플롯\u001b[39;00m\n\u001b[32m      4\u001b[39m plt.figure(figsize=(\u001b[32m8\u001b[39m, \u001b[32m6\u001b[39m))\n",
      "\u001b[31mTypeError\u001b[39m: 'TransferFuncEH' object is not callable"
     ]
    }
   ],
   "source": [
    "T_k_nc = tf_eh(cosmo, karr)\n",
    "\n",
    "# 3. 결과 플롯\n",
    "plt.figure(figsize=(8, 6))\n",
    "plt.plot(karr, T_k_nc, label='NumCosmo (Eisenstein & Hu)')\n",
    "\n",
    "# 이전에 직접 구현한 결과와 비교 (단위 변환 필요: k_Mpc = k_hMpc * h)\n",
    "h = cosmo.get_h()\n",
    "plt.plot(karr / h, p, linestyle='--', label='Custom Implementation')\n",
    "\n",
    "\n",
    "plt.xscale('log')\n",
    "plt.yscale('log')\n",
    "plt.xlabel('k [h/Mpc]')\n",
    "plt.ylabel('T(k)')\n",
    "plt.title('Eisenstein & Hu Transfer Function')\n",
    "plt.legend()\n",
    "plt.grid(True, which=\"both\", ls=\"--\")\n",
    "plt.show()"
   ]
  },
  {
   "cell_type": "code",
   "execution_count": null,
   "id": "092df7dc",
   "metadata": {},
   "outputs": [],
   "source": []
  }
 ],
 "metadata": {
  "kernelspec": {
   "display_name": "base",
   "language": "python",
   "name": "python3"
  },
  "language_info": {
   "codemirror_mode": {
    "name": "ipython",
    "version": 3
   },
   "file_extension": ".py",
   "mimetype": "text/x-python",
   "name": "python",
   "nbconvert_exporter": "python",
   "pygments_lexer": "ipython3",
   "version": "3.12.11"
  }
 },
 "nbformat": 4,
 "nbformat_minor": 5
}
