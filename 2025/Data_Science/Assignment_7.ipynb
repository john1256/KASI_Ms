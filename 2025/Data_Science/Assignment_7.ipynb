{
 "cells": [
  {
   "cell_type": "markdown",
   "metadata": {},
   "source": [
    "### Mission #1: \n",
    "Download the following five stock index\n",
    "information from Yahoo Finance and compare the changes."
   ]
  },
  {
   "cell_type": "code",
   "execution_count": 21,
   "metadata": {},
   "outputs": [
    {
     "name": "stderr",
     "output_type": "stream",
     "text": [
      "[*********************100%***********************]  1 of 1 completed"
     ]
    },
    {
     "name": "stderr",
     "output_type": "stream",
     "text": [
      "\n"
     ]
    },
    {
     "name": "stdout",
     "output_type": "stream",
     "text": [
      "Price             Close         High          Low         Open      Volume\n",
      "Ticker            ^IXIC        ^IXIC        ^IXIC        ^IXIC       ^IXIC\n",
      "Date                                                                      \n",
      "2019-01-02  6665.939941  6693.709961  6506.879883  6506.910156  2261800000\n",
      "2019-01-03  6463.500000  6600.209961  6457.129883  6584.770020  2631550000\n",
      "2019-01-04  6738.859863  6760.689941  6554.240234  6567.140137  2596150000\n",
      "2019-01-07  6823.470215  6855.600098  6741.399902  6757.529785  2523450000\n",
      "2019-01-08  6897.000000  6909.580078  6795.859863  6893.439941  2407340000\n"
     ]
    },
    {
     "name": "stderr",
     "output_type": "stream",
     "text": [
      "[*********************100%***********************]  1 of 1 completed\n",
      "[*********************100%***********************]  1 of 1 completed\n"
     ]
    },
    {
     "name": "stdout",
     "output_type": "stream",
     "text": [
      "Price             Close         High          Low         Open      Volume\n",
      "Ticker             ^SPX         ^SPX         ^SPX         ^SPX        ^SPX\n",
      "Date                                                                      \n",
      "2019-01-02  2510.030029  2519.489990  2467.469971  2476.959961  3733160000\n",
      "2019-01-03  2447.889893  2493.139893  2443.959961  2491.919922  3858830000\n",
      "2019-01-04  2531.939941  2538.070068  2474.330078  2474.330078  4234140000\n",
      "2019-01-07  2549.689941  2566.159912  2524.560059  2535.610107  4133120000\n",
      "2019-01-08  2574.409912  2579.820068  2547.560059  2568.110107  4120060000\n",
      "Price              Close          High           Low          Open     Volume\n",
      "Ticker              ^DJI          ^DJI          ^DJI          ^DJI       ^DJI\n",
      "Date                                                                         \n",
      "2019-01-02  23346.240234  23413.470703  22928.589844  23058.609375  321570000\n",
      "2019-01-03  22686.220703  23176.390625  22638.410156  23176.390625  424240000\n",
      "2019-01-04  23433.160156  23518.640625  22894.919922  22894.919922  396020000\n",
      "2019-01-07  23531.349609  23687.740234  23301.589844  23474.259766  334200000\n",
      "2019-01-08  23787.449219  23864.650391  23581.449219  23680.320312  317420000\n"
     ]
    },
    {
     "name": "stderr",
     "output_type": "stream",
     "text": [
      "[*********************100%***********************]  1 of 1 completed\n"
     ]
    },
    {
     "name": "stdout",
     "output_type": "stream",
     "text": [
      "Price             Close         High          Low         Open    Volume\n",
      "Ticker        000001.SS    000001.SS    000001.SS    000001.SS 000001.SS\n",
      "Date                                                                    \n",
      "2019-01-02  2465.291016  2500.278076  2456.423096  2497.881104    109900\n",
      "2019-01-03  2464.363037  2488.479004  2455.926025  2461.782959    124400\n",
      "2019-01-04  2514.867920  2515.315918  2440.906982  2446.019043    168900\n",
      "2019-01-07  2533.089111  2536.978027  2515.508057  2528.698975    177300\n",
      "2019-01-08  2526.461914  2531.344971  2520.165039  2530.300049    158100\n"
     ]
    },
    {
     "name": "stderr",
     "output_type": "stream",
     "text": [
      "[*********************100%***********************]  1 of 1 completed"
     ]
    },
    {
     "name": "stdout",
     "output_type": "stream",
     "text": [
      "Price             Close         High          Low         Open  Volume\n",
      "Ticker            ^KS11        ^KS11        ^KS11        ^KS11   ^KS11\n",
      "Date                                                                  \n",
      "2019-01-02  2010.000000  2053.449951  2004.270020  2050.550049  326400\n",
      "2019-01-03  1993.699951  2014.719971  1991.650024  2011.810059  428000\n",
      "2019-01-04  2010.250000  2011.560059  1984.530029  1992.400024  409000\n",
      "2019-01-07  2037.099976  2048.060059  2030.900024  2034.239990  440200\n",
      "2019-01-08  2025.270020  2042.699951  2023.589966  2038.680054  397800\n"
     ]
    },
    {
     "name": "stderr",
     "output_type": "stream",
     "text": [
      "\n"
     ]
    }
   ],
   "source": [
    "import yfinance as yf\n",
    "import pandas as pd\n",
    "\n",
    "ticker = ['^IXIC','^SPX', '^DJI', '000001.SS', '^KS11']\n",
    "arr = []\n",
    "for i in ticker:\n",
    "    data = yf.download(i, start='2019-01-01', end='2022-12-31')\n",
    "    arr.append(data)\n",
    "    print(data.head())\n",
    "\n",
    "\n"
   ]
  },
  {
   "cell_type": "code",
   "execution_count": 19,
   "metadata": {},
   "outputs": [
    {
     "name": "stderr",
     "output_type": "stream",
     "text": [
      "[*********************100%***********************]  1 of 1 completed\n",
      "\n",
      "1 Failed download:\n",
      "['^GSP']: YFPricesMissingError('possibly delisted; no price data found  (1d 2020-01-01 -> 2022-12-31)')\n"
     ]
    }
   ],
   "source": [
    "# Samsung Electronics ticker symbol is '005930.KS'\n",
    "ticker = '^GSP'\n",
    "\n",
    "# Download stock data from 2019 to 2022\n",
    "data = yf.download(ticker, start=\"2020-01-01\", end=\"2022-12-31\")\n"
   ]
  },
  {
   "cell_type": "code",
   "execution_count": null,
   "metadata": {},
   "outputs": [],
   "source": []
  }
 ],
 "metadata": {
  "kernelspec": {
   "display_name": "Python [conda env:base] *",
   "language": "python",
   "name": "conda-base-py"
  },
  "language_info": {
   "codemirror_mode": {
    "name": "ipython",
    "version": 3
   },
   "file_extension": ".py",
   "mimetype": "text/x-python",
   "name": "python",
   "nbconvert_exporter": "python",
   "pygments_lexer": "ipython3",
   "version": "3.12.7"
  }
 },
 "nbformat": 4,
 "nbformat_minor": 2
}
