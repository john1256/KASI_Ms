{
 "cells": [
  {
   "cell_type": "code",
   "execution_count": 17,
   "id": "fc0c4841",
   "metadata": {},
   "outputs": [],
   "source": [
    "import numpy as np\n",
    "from func import *\n",
    "from scipy.interpolate import interp1d"
   ]
  },
  {
   "cell_type": "markdown",
   "id": "da302454",
   "metadata": {},
   "source": [
    "# 1. \n",
    "Derive the critical chi^2 values for which, that one can assign 68.3%, 90%, 95%, 95.4%, 99% and 99.73% confidence limits for degrees of freedom of 1, 2, 3, 4, 5 and 6 of the chi^2 distribution. Make a table for this.  "
   ]
  },
  {
   "cell_type": "code",
   "execution_count": 19,
   "id": "195d7e7f",
   "metadata": {},
   "outputs": [
    {
     "data": {
      "text/plain": [
       "0.0752352461465122"
      ]
     },
     "execution_count": 19,
     "metadata": {},
     "output_type": "execute_result"
    }
   ],
   "source": [
    "Chisq_integral(10, 5)"
   ]
  },
  {
   "cell_type": "code",
   "execution_count": null,
   "id": "7e14667f",
   "metadata": {},
   "outputs": [
    {
     "data": {
      "text/plain": [
       "0.0012497305630312131"
      ]
     },
     "execution_count": 16,
     "metadata": {},
     "output_type": "execute_result"
    }
   ],
   "source": [
    "xarr = np.linspace(0, 100, 100)\n",
    "yarr = Chisq_integral(xarr, 5)\n",
    "f = interp1d(yarr, xarr, kind='linear', fill_value=\"extrapolate\")"
   ]
  },
  {
   "cell_type": "code",
   "execution_count": null,
   "id": "9676edc2",
   "metadata": {},
   "outputs": [],
   "source": []
  }
 ],
 "metadata": {
  "kernelspec": {
   "display_name": "base",
   "language": "python",
   "name": "python3"
  },
  "language_info": {
   "codemirror_mode": {
    "name": "ipython",
    "version": 3
   },
   "file_extension": ".py",
   "mimetype": "text/x-python",
   "name": "python",
   "nbconvert_exporter": "python",
   "pygments_lexer": "ipython3",
   "version": "3.12.11"
  }
 },
 "nbformat": 4,
 "nbformat_minor": 5
}
