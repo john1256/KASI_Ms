{
 "cells": [
  {
   "cell_type": "code",
   "execution_count": 1,
   "id": "c1199b74",
   "metadata": {},
   "outputs": [],
   "source": [
    "import numpy as np\n",
    "from optimizer import *\n",
    "import os"
   ]
  },
  {
   "cell_type": "code",
   "execution_count": 2,
   "id": "efe4384a",
   "metadata": {},
   "outputs": [],
   "source": [
    "data_f = np.loadtxt(os.path.join(os.getcwd(), 'Assignment5', 'regression_data_f.txt'))\n",
    "data_h = np.loadtxt(os.path.join(os.getcwd(), 'Assignment5', 'regression_data_h.txt'))\n",
    "data_j = np.loadtxt(os.path.join(os.getcwd(), 'Assignment5', 'regression_data_j.txt'))\n",
    "data_k = np.loadtxt(os.path.join(os.getcwd(), 'Assignment5', 'regression_data_k.txt'))"
   ]
  },
  {
   "cell_type": "code",
   "execution_count": 3,
   "id": "5ab958e5",
   "metadata": {},
   "outputs": [],
   "source": [
    "def M1_test(x, a, b):\n",
    "    return a*x + x**b + 1\n",
    "def M2_test(x, a, b, c):\n",
    "    return a * np.tanh(x - b) + c\n",
    "def M3_test(x, a, b):\n",
    "    return a*x * (np.sin(x) + b) + 1\n",
    "def M4_test(x, a, b):\n",
    "    return a + b*(1 + x)\n",
    "def M5_test(x, a, b):\n",
    "    return np.sqrt(a * (1 + x)**3 + b)"
   ]
  },
  {
   "cell_type": "code",
   "execution_count": 12,
   "id": "9c57e899",
   "metadata": {},
   "outputs": [
    {
     "name": "stderr",
     "output_type": "stream",
     "text": [
      "/var/folders/gw/92tc4nh17vng_8cx29xtgqp80000gn/T/ipykernel_3466/2362049534.py:2: RuntimeWarning: divide by zero encountered in power\n",
      "  return a*x + x**b + 1\n"
     ]
    },
    {
     "data": {
      "text/plain": [
       "(np.float64(0.21300000000000002),\n",
       " np.float64(0.955),\n",
       " np.float64(96.0596838524052))"
      ]
     },
     "execution_count": 12,
     "metadata": {},
     "output_type": "execute_result"
    }
   ],
   "source": [
    "chisq_min(M1_test, data_f, 2, precision=4)"
   ]
  },
  {
   "cell_type": "code",
   "execution_count": 14,
   "id": "b12f78ca",
   "metadata": {},
   "outputs": [
    {
     "data": {
      "text/plain": [
       "(np.float64(2.8364),\n",
       " np.float64(2.9153000000000002),\n",
       " np.float64(4.5527999999999995),\n",
       " np.float64(2368.436217061743))"
      ]
     },
     "execution_count": 14,
     "metadata": {},
     "output_type": "execute_result"
    }
   ],
   "source": [
    "chisq_min(M2_test, data_h, 3, precision=5)"
   ]
  },
  {
   "cell_type": "code",
   "execution_count": null,
   "id": "66b86fb7",
   "metadata": {},
   "outputs": [],
   "source": []
  }
 ],
 "metadata": {
  "kernelspec": {
   "display_name": "base",
   "language": "python",
   "name": "python3"
  },
  "language_info": {
   "codemirror_mode": {
    "name": "ipython",
    "version": 3
   },
   "file_extension": ".py",
   "mimetype": "text/x-python",
   "name": "python",
   "nbconvert_exporter": "python",
   "pygments_lexer": "ipython3",
   "version": "3.12.11"
  }
 },
 "nbformat": 4,
 "nbformat_minor": 5
}
