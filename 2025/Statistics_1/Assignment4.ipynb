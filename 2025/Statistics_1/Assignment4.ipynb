{
 "cells": [
  {
   "cell_type": "code",
   "execution_count": 1,
   "id": "1cac4902",
   "metadata": {},
   "outputs": [],
   "source": [
    "from func import *\n",
    "import numpy as np\n",
    "import matplotlib.pyplot as plt"
   ]
  },
  {
   "cell_type": "code",
   "execution_count": 4,
   "id": "a794c2ff",
   "metadata": {},
   "outputs": [
    {
     "name": "stdout",
     "output_type": "stream",
     "text": [
      "weighted mean :  13.051546391752575\n",
      "weighted std :  1.2184153981603427\n"
     ]
    }
   ],
   "source": [
    "mean = np.array([12,15,14,10])\n",
    "std = np.array([2,3,2,4])\n",
    "print(\"weighted mean : \", weighted_mean(mean,std))\n",
    "print(\"weighted std : \", weighted_std(std))"
   ]
  },
  {
   "cell_type": "code",
   "execution_count": 10,
   "id": "c6bca659",
   "metadata": {},
   "outputs": [
    {
     "name": "stdout",
     "output_type": "stream",
     "text": [
      "weighted mean2 :  49.3\n",
      "weighted std2 :  0.9486832980505138\n"
     ]
    }
   ],
   "source": [
    "mean2 = np.array([52, 49])\n",
    "std2 = np.array([3,1])\n",
    "print(\"weighted mean2 : \", weighted_mean(mean2,std2))\n",
    "print(\"weighted std2 : \", weighted_std(std2))"
   ]
  },
  {
   "cell_type": "code",
   "execution_count": 13,
   "id": "f33e5221",
   "metadata": {},
   "outputs": [
    {
     "name": "stdout",
     "output_type": "stream",
     "text": [
      "weighted mean3 :  95.1\n",
      "weighted std3 :  0.9486832980505138\n"
     ]
    }
   ],
   "source": [
    "mean3 = np.array([123, 92])\n",
    "std3 = np.array([3, 1])\n",
    "print(\"weighted mean3 : \", weighted_mean(mean3,std3))\n",
    "print(\"weighted std3 : \", weighted_std(std3))"
   ]
  },
  {
   "cell_type": "code",
   "execution_count": null,
   "id": "e1495ba0",
   "metadata": {},
   "outputs": [],
   "source": []
  }
 ],
 "metadata": {
  "kernelspec": {
   "display_name": "base",
   "language": "python",
   "name": "python3"
  },
  "language_info": {
   "codemirror_mode": {
    "name": "ipython",
    "version": 3
   },
   "file_extension": ".py",
   "mimetype": "text/x-python",
   "name": "python",
   "nbconvert_exporter": "python",
   "pygments_lexer": "ipython3",
   "version": "3.12.7"
  }
 },
 "nbformat": 4,
 "nbformat_minor": 5
}
