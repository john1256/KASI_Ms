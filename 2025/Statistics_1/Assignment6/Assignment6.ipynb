{
 "cells": [
  {
   "cell_type": "code",
   "execution_count": 1,
   "id": "42e3c12e",
   "metadata": {},
   "outputs": [],
   "source": [
    "import numpy as np\n",
    "import matplotlib.pyplot as plt\n",
    "import pandas as pd\n",
    "from linalg import *"
   ]
  },
  {
   "cell_type": "code",
   "execution_count": null,
   "id": "8ac87bc8",
   "metadata": {},
   "outputs": [],
   "source": [
    "sndata = pd.read_csv('lcparam_full_long.txt', sep=' ', skiprows=0)\n",
    "z = sndata['zcmb'].to_numpy()\n",
    "mb = sndata['mb'].to_numpy()\n",
    "dmb = sndata['dmb'].to_numpy()"
   ]
  },
  {
   "cell_type": "code",
   "execution_count": 28,
   "id": "9fa3dfec",
   "metadata": {},
   "outputs": [],
   "source": [
    "dmb_matrix = np.diag(dmb**2)  # Covariance matrix assuming uncorrelated errors"
   ]
  },
  {
   "cell_type": "code",
   "execution_count": 29,
   "id": "bd7203c8",
   "metadata": {},
   "outputs": [
    {
     "data": {
      "text/plain": [
       "array([[0.0158886 , 0.        , 0.        , ..., 0.        , 0.        ,\n",
       "        0.        ],\n",
       "       [0.        , 0.01384152, 0.        , ..., 0.        , 0.        ,\n",
       "        0.        ],\n",
       "       [0.        , 0.        , 0.04227136, ..., 0.        , 0.        ,\n",
       "        0.        ],\n",
       "       ...,\n",
       "       [0.        , 0.        , 0.        , ..., 0.05248681, 0.        ,\n",
       "        0.        ],\n",
       "       [0.        , 0.        , 0.        , ..., 0.        , 0.03948169,\n",
       "        0.        ],\n",
       "       [0.        , 0.        , 0.        , ..., 0.        , 0.        ,\n",
       "        0.0697224 ]], shape=(1048, 1048))"
      ]
     },
     "execution_count": 29,
     "metadata": {},
     "output_type": "execute_result"
    }
   ],
   "source": [
    "dmb_matrix"
   ]
  },
  {
   "cell_type": "code",
   "execution_count": 37,
   "id": "ef7762de",
   "metadata": {},
   "outputs": [
    {
     "name": "stdout",
     "output_type": "stream",
     "text": [
      "False\n"
     ]
    }
   ],
   "source": [
    "cov_flatten = np.loadtxt('sys_full_long.txt', delimiter=' ')\n",
    "cov_T = []\n",
    "for i in range(1048):\n",
    "    cov_row = cov_flatten[i*1048:(i+1)*1048]\n",
    "    cov_T.append(cov_row)\n",
    "print(any(cov_T[i][i] == 0 for i in range(1048)))  # Check for zero diagonal elements\n",
    "cov = np.array(cov_T) + dmb_matrix"
   ]
  },
  {
   "cell_type": "code",
   "execution_count": 33,
   "id": "661bfbde",
   "metadata": {},
   "outputs": [
    {
     "data": {
      "text/plain": [
       "<matplotlib.image.AxesImage at 0x169e88200>"
      ]
     },
     "execution_count": 33,
     "metadata": {},
     "output_type": "execute_result"
    },
    {
     "data": {
      "image/png": "[encoded data removed]",
      "text/plain": [
       "<Figure size 640x480 with 1 Axes>"
      ]
     },
     "metadata": {},
     "output_type": "display_data"
    }
   ],
   "source": [
    "plt.imshow(cov[:500,:500], cmap='viridis')"
   ]
  },
  {
   "cell_type": "code",
   "execution_count": null,
   "id": "4168ae9e",
   "metadata": {},
   "outputs": [
    {
     "name": "stderr",
     "output_type": "stream",
     "text": [
      "/Users/john1256/KASI_Ms/2025/Statistics_1/Assignment6/linalg.py:31: RuntimeWarning: invalid value encountered in scalar divide\n",
      "  L[j][i] = (arr[j][i] - np.sum(L[j,:i] * U[:i,i])) / U[i][i]\n",
      "/Users/john1256/KASI_Ms/2025/Statistics_1/Assignment6/linalg.py:31: RuntimeWarning: divide by zero encountered in scalar divide\n",
      "  L[j][i] = (arr[j][i] - np.sum(L[j,:i] * U[:i,i])) / U[i][i]\n",
      "/Users/john1256/KASI_Ms/2025/Statistics_1/Assignment6/linalg.py:31: RuntimeWarning: invalid value encountered in multiply\n",
      "  L[j][i] = (arr[j][i] - np.sum(L[j,:i] * U[:i,i])) / U[i][i]\n",
      "/Users/john1256/KASI_Ms/2025/Statistics_1/Assignment6/linalg.py:26: RuntimeWarning: invalid value encountered in multiply\n",
      "  U[i][j] = arr[i][j] - np.sum(L[i,:i] * U[:i,j])\n",
      "/Users/john1256/KASI_Ms/2025/Statistics_1/Assignment6/linalg.py:42: RuntimeWarning: invalid value encountered in multiply\n",
      "  inv_L[i][j] = -np.sum(L[i,j:i] * inv_L[j:i,j]) / L[i][i]\n"
     ]
    },
    {
     "ename": "KeyboardInterrupt",
     "evalue": "",
     "output_type": "error",
     "traceback": [
      "\u001b[31m---------------------------------------------------------------------------\u001b[39m",
      "\u001b[31mKeyboardInterrupt\u001b[39m                         Traceback (most recent call last)",
      "\u001b[36mCell\u001b[39m\u001b[36m \u001b[39m\u001b[32mIn[8]\u001b[39m\u001b[32m, line 1\u001b[39m\n\u001b[32m----> \u001b[39m\u001b[32m1\u001b[39m inv_cov = \u001b[43minv_matrix\u001b[49m\u001b[43m(\u001b[49m\u001b[43mcov\u001b[49m\u001b[43m)\u001b[49m\n\u001b[32m      2\u001b[39m \u001b[38;5;28;01mclass\u001b[39;00m\u001b[38;5;250m \u001b[39m\u001b[34;01mRegression\u001b[39;00m:\n\u001b[32m      3\u001b[39m     \u001b[38;5;28;01mdef\u001b[39;00m\u001b[38;5;250m \u001b[39m\u001b[34m__init__\u001b[39m(\u001b[38;5;28mself\u001b[39m, **kwargs):\n",
      "\u001b[36mFile \u001b[39m\u001b[32m~/KASI_Ms/2025/Statistics_1/Assignment6/linalg.py:42\u001b[39m, in \u001b[36minv_matrix\u001b[39m\u001b[34m(arr)\u001b[39m\n\u001b[32m     40\u001b[39m     inv_L[i][i] = \u001b[32m1\u001b[39m / L[i][i]\n\u001b[32m     41\u001b[39m     \u001b[38;5;28;01mfor\u001b[39;00m j \u001b[38;5;129;01min\u001b[39;00m \u001b[38;5;28mrange\u001b[39m(i):\n\u001b[32m---> \u001b[39m\u001b[32m42\u001b[39m         inv_L[i][j] = -\u001b[43mnp\u001b[49m\u001b[43m.\u001b[49m\u001b[43msum\u001b[49m\u001b[43m(\u001b[49m\u001b[43mL\u001b[49m\u001b[43m[\u001b[49m\u001b[43mi\u001b[49m\u001b[43m,\u001b[49m\u001b[43mj\u001b[49m\u001b[43m:\u001b[49m\u001b[43mi\u001b[49m\u001b[43m]\u001b[49m\u001b[43m \u001b[49m\u001b[43m*\u001b[49m\u001b[43m \u001b[49m\u001b[43minv_L\u001b[49m\u001b[43m[\u001b[49m\u001b[43mj\u001b[49m\u001b[43m:\u001b[49m\u001b[43mi\u001b[49m\u001b[43m,\u001b[49m\u001b[43mj\u001b[49m\u001b[43m]\u001b[49m\u001b[43m)\u001b[49m / L[i][i]\n\u001b[32m     43\u001b[39m \u001b[38;5;28;01mfor\u001b[39;00m i \u001b[38;5;129;01min\u001b[39;00m \u001b[38;5;28mrange\u001b[39m(n-\u001b[32m1\u001b[39m, -\u001b[32m1\u001b[39m, -\u001b[32m1\u001b[39m):\n\u001b[32m     44\u001b[39m     inv_U[i][i] = \u001b[32m1\u001b[39m / U[i][i]\n",
      "\u001b[36mFile \u001b[39m\u001b[32m~/anaconda3/envs/venv/lib/python3.12/site-packages/numpy/_core/fromnumeric.py:2466\u001b[39m, in \u001b[36msum\u001b[39m\u001b[34m(a, axis, dtype, out, keepdims, initial, where)\u001b[39m\n\u001b[32m   2463\u001b[39m         \u001b[38;5;28;01mreturn\u001b[39;00m out\n\u001b[32m   2464\u001b[39m     \u001b[38;5;28;01mreturn\u001b[39;00m res\n\u001b[32m-> \u001b[39m\u001b[32m2466\u001b[39m \u001b[38;5;28;01mreturn\u001b[39;00m \u001b[43m_wrapreduction\u001b[49m\u001b[43m(\u001b[49m\n\u001b[32m   2467\u001b[39m \u001b[43m    \u001b[49m\u001b[43ma\u001b[49m\u001b[43m,\u001b[49m\u001b[43m \u001b[49m\u001b[43mnp\u001b[49m\u001b[43m.\u001b[49m\u001b[43madd\u001b[49m\u001b[43m,\u001b[49m\u001b[43m \u001b[49m\u001b[33;43m'\u001b[39;49m\u001b[33;43msum\u001b[39;49m\u001b[33;43m'\u001b[39;49m\u001b[43m,\u001b[49m\u001b[43m \u001b[49m\u001b[43maxis\u001b[49m\u001b[43m,\u001b[49m\u001b[43m \u001b[49m\u001b[43mdtype\u001b[49m\u001b[43m,\u001b[49m\u001b[43m \u001b[49m\u001b[43mout\u001b[49m\u001b[43m,\u001b[49m\n\u001b[32m   2468\u001b[39m \u001b[43m    \u001b[49m\u001b[43mkeepdims\u001b[49m\u001b[43m=\u001b[49m\u001b[43mkeepdims\u001b[49m\u001b[43m,\u001b[49m\u001b[43m \u001b[49m\u001b[43minitial\u001b[49m\u001b[43m=\u001b[49m\u001b[43minitial\u001b[49m\u001b[43m,\u001b[49m\u001b[43m \u001b[49m\u001b[43mwhere\u001b[49m\u001b[43m=\u001b[49m\u001b[43mwhere\u001b[49m\n\u001b[32m   2469\u001b[39m \u001b[43m\u001b[49m\u001b[43m)\u001b[49m\n",
      "\u001b[36mFile \u001b[39m\u001b[32m~/anaconda3/envs/venv/lib/python3.12/site-packages/numpy/_core/fromnumeric.py:86\u001b[39m, in \u001b[36m_wrapreduction\u001b[39m\u001b[34m(obj, ufunc, method, axis, dtype, out, **kwargs)\u001b[39m\n\u001b[32m     83\u001b[39m         \u001b[38;5;28;01melse\u001b[39;00m:\n\u001b[32m     84\u001b[39m             \u001b[38;5;28;01mreturn\u001b[39;00m reduction(axis=axis, out=out, **passkwargs)\n\u001b[32m---> \u001b[39m\u001b[32m86\u001b[39m \u001b[38;5;28;01mreturn\u001b[39;00m \u001b[43mufunc\u001b[49m\u001b[43m.\u001b[49m\u001b[43mreduce\u001b[49m\u001b[43m(\u001b[49m\u001b[43mobj\u001b[49m\u001b[43m,\u001b[49m\u001b[43m \u001b[49m\u001b[43maxis\u001b[49m\u001b[43m,\u001b[49m\u001b[43m \u001b[49m\u001b[43mdtype\u001b[49m\u001b[43m,\u001b[49m\u001b[43m \u001b[49m\u001b[43mout\u001b[49m\u001b[43m,\u001b[49m\u001b[43m \u001b[49m\u001b[43m*\u001b[49m\u001b[43m*\u001b[49m\u001b[43mpasskwargs\u001b[49m\u001b[43m)\u001b[49m\n",
      "\u001b[31mKeyboardInterrupt\u001b[39m: "
     ]
    }
   ],
   "source": [
    "from scipy.integrate import quad\n",
    "from scipy.interpolate import interp1d\n",
    "\n",
    "\n",
    "inv_cov = inv_matrix(cov)\n",
    "class Regression:\n",
    "    def __init__(self, **kwargs):\n",
    "        data = kwargs['data'] if 'data' in kwargs else None\n",
    "        cov = data['cov'] if 'cov' in data else None\n",
    "        if data is None or cov is None:\n",
    "            raise ValueError(\"Data must be provided for regression.\")\n",
    "        self.z = data['z']\n",
    "        self.mb = data['mb']\n",
    "        self.inv_cov = inv_matrix(cov)\n",
    "        self.zinterp = np.linspace(min(self.z), max(self.z), 300)\n",
    "    def h0_th(self, Om0):\n",
    "        return np.sqrt(1-Om0 + Om0*(1+self.z)**3)\n",
    "    def DL_th(self, Om0):\n",
    "        z = self.zinterp\n",
    "        intgral = interp1d(z, [quad(0, zi, Om0) for zi in z], kind='cubic', fill_value=\"extrapolate\")\n",
    "        dl = 5*np.log10(1+z) + 5*np.log10(np.array([self.integrate(0, zi, Om0) for zi in z]))\n",
    "\n",
    "def vec(a):\n",
    "    return np.array([3, 2, 4]) + np.ones(3)*a\n",
    "def predict_alpha(arr, vec):\n",
    "    one_vec = np.ones(len(arr))\n",
    "    def derivative_chisq(a):\n",
    "        return one_vec @ arr @ vec(a).T + vec(a) @ arr @ one_vec.T\n",
    "    a_range = np.linspace(-1,1+0.1,20)\n",
    "    vec(a)\n",
    "def chisq(**kwargs):\n",
    "    mb_th = kwargs['th'](kwargs['z'], **kwargs['Om0'])\n",
    "    mb_data = kwargs['mb']\n",
    "\n"
   ]
  },
  {
   "cell_type": "code",
   "execution_count": null,
   "id": "1059177f",
   "metadata": {},
   "outputs": [],
   "source": []
  }
 ],
 "metadata": {
  "kernelspec": {
   "display_name": "venv",
   "language": "python",
   "name": "python3"
  },
  "language_info": {
   "codemirror_mode": {
    "name": "ipython",
    "version": 3
   },
   "file_extension": ".py",
   "mimetype": "text/x-python",
   "name": "python",
   "nbconvert_exporter": "python",
   "pygments_lexer": "ipython3",
   "version": "3.12.11"
  }
 },
 "nbformat": 4,
 "nbformat_minor": 5
}
