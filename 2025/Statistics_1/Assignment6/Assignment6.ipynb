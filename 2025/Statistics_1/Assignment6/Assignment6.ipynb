{
 "cells": [
  {
   "cell_type": "code",
   "execution_count": 4,
   "id": "42e3c12e",
   "metadata": {},
   "outputs": [],
   "source": [
    "import numpy as np\n",
    "import matplotlib.pyplot as plt\n",
    "import pandas as pd"
   ]
  },
  {
   "cell_type": "code",
   "execution_count": 10,
   "id": "8ac87bc8",
   "metadata": {},
   "outputs": [],
   "source": [
    "sndata = pd.read_csv('lcparam_full_long.txt', sep=' ', skiprows=0)\n",
    "z = sndata['zcmb'].to_numpy()\n",
    "mb = sndata['mb'].to_numpy()"
   ]
  },
  {
   "cell_type": "code",
   "execution_count": 27,
   "id": "ef7762de",
   "metadata": {},
   "outputs": [],
   "source": [
    "cov_flatten = np.loadtxt('sys_full_long.txt', delimiter=' ')\n",
    "cov_T = []\n",
    "for i in range(1048):\n",
    "    cov_row = cov_flatten[i*1048:(i+1)*1048]\n",
    "    cov_T.append(cov_row)\n",
    "cov = np.array(cov_T)"
   ]
  },
  {
   "cell_type": "code",
   "execution_count": null,
   "id": "edfd5602",
   "metadata": {},
   "outputs": [],
   "source": [
    "def cholesky_arr(cov):\n",
    "    if \n",
    "    L = np.zeros_like(cov)\n",
    "    for i in range(cov.shape[0]):\n",
    "        for j in range(i+1):\n",
    "            if i == j:\n",
    "                L[i][j] = np.sqrt(cov[j][j] - np.sum(L[j][:j]**2))\n",
    "            else:\n",
    "                L[i][j] = (cov[i][j] - np.sum(L[i][:j]*L[j][:j])) / L[j][j]\n",
    "    return L\n",
    "\n",
    "def inv_cholesky(L):\n"
   ]
  },
  {
   "cell_type": "code",
   "execution_count": 57,
   "id": "23e128c3",
   "metadata": {},
   "outputs": [
    {
     "data": {
      "text/plain": [
       "array([[2.23606798, 0.        ],\n",
       "       [1.34164079, 1.78885438]])"
      ]
     },
     "execution_count": 57,
     "metadata": {},
     "output_type": "execute_result"
    }
   ],
   "source": [
    "Arr = np.array([[5.,3.],[3.,5.]])\n",
    "cholesky_arr(Arr)"
   ]
  },
  {
   "cell_type": "code",
   "execution_count": 58,
   "id": "52e65410",
   "metadata": {},
   "outputs": [
    {
     "data": {
      "text/plain": [
       "array([[2.23606798, 0.        ],\n",
       "       [1.34164079, 1.78885438]])"
      ]
     },
     "execution_count": 58,
     "metadata": {},
     "output_type": "execute_result"
    }
   ],
   "source": [
    "from numpy.linalg import eig, cholesky\n",
    "eig(Arr)\n",
    "cholesky(Arr)"
   ]
  },
  {
   "cell_type": "code",
   "execution_count": null,
   "id": "f26f6131",
   "metadata": {},
   "outputs": [],
   "source": []
  }
 ],
 "metadata": {
  "kernelspec": {
   "display_name": "venv",
   "language": "python",
   "name": "python3"
  },
  "language_info": {
   "codemirror_mode": {
    "name": "ipython",
    "version": 3
   },
   "file_extension": ".py",
   "mimetype": "text/x-python",
   "name": "python",
   "nbconvert_exporter": "python",
   "pygments_lexer": "ipython3",
   "version": "3.12.11"
  }
 },
 "nbformat": 4,
 "nbformat_minor": 5
}
