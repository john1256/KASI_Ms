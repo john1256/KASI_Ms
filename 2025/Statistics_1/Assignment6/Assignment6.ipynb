{
 "cells": [
  {
   "cell_type": "code",
   "execution_count": 22,
   "id": "42e3c12e",
   "metadata": {},
   "outputs": [],
   "source": [
    "import numpy as np\n",
    "import matplotlib.pyplot as plt\n",
    "import pandas as pd\n",
    "from linalg import *"
   ]
  },
  {
   "cell_type": "code",
   "execution_count": 19,
   "id": "8ac87bc8",
   "metadata": {},
   "outputs": [],
   "source": [
    "sndata = pd.read_csv('lcparam_full_long.txt', sep=' ', skiprows=0)\n",
    "z = sndata['zcmb'].to_numpy()\n",
    "mb = sndata['mb'].to_numpy()"
   ]
  },
  {
   "cell_type": "code",
   "execution_count": 20,
   "id": "ef7762de",
   "metadata": {},
   "outputs": [],
   "source": [
    "cov_flatten = np.loadtxt('sys_full_long.txt', delimiter=' ')\n",
    "cov_T = []\n",
    "for i in range(1048):\n",
    "    cov_row = cov_flatten[i*1048:(i+1)*1048]\n",
    "    cov_T.append(cov_row)\n",
    "cov = np.array(cov_T)"
   ]
  },
  {
   "cell_type": "code",
   "execution_count": null,
   "id": "4168ae9e",
   "metadata": {},
   "outputs": [],
   "source": [
    "def chisq(*args):\n",
    "    "
   ]
  }
 ],
 "metadata": {
  "kernelspec": {
   "display_name": "venv",
   "language": "python",
   "name": "python3"
  },
  "language_info": {
   "codemirror_mode": {
    "name": "ipython",
    "version": 3
   },
   "file_extension": ".py",
   "mimetype": "text/x-python",
   "name": "python",
   "nbconvert_exporter": "python",
   "pygments_lexer": "ipython3",
   "version": "3.12.11"
  }
 },
 "nbformat": 4,
 "nbformat_minor": 5
}
