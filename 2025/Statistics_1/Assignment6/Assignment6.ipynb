{
 "cells": [
  {
   "cell_type": "code",
   "execution_count": 3,
   "id": "42e3c12e",
   "metadata": {},
   "outputs": [],
   "source": [
    "import numpy as np\n",
    "import matplotlib.pyplot as plt\n",
    "import pandas as pd\n",
    "from linalg import *"
   ]
  },
  {
   "cell_type": "code",
   "execution_count": 4,
   "id": "8ac87bc8",
   "metadata": {},
   "outputs": [],
   "source": [
    "sndata = pd.read_csv('lcparam_full_long.txt', sep=' ', skiprows=0)\n",
    "z = sndata['zcmb'].to_numpy()\n",
    "mb = sndata['mb'].to_numpy()\n",
    "dmb = sndata['dmb'].to_numpy()"
   ]
  },
  {
   "cell_type": "code",
   "execution_count": 5,
   "id": "9fa3dfec",
   "metadata": {},
   "outputs": [],
   "source": [
    "dmb_matrix = np.diag(dmb**2)  # Covariance matrix assuming uncorrelated errors"
   ]
  },
  {
   "cell_type": "code",
   "execution_count": 6,
   "id": "ef7762de",
   "metadata": {},
   "outputs": [],
   "source": [
    "cov_flatten = np.loadtxt('sys_full_long.txt', delimiter=' ')\n",
    "cov_T = []\n",
    "for i in range(1048):\n",
    "    cov_row = cov_flatten[i*1048:(i+1)*1048]\n",
    "    cov_T.append(cov_row)\n",
    "cov = np.array(cov_T) + dmb_matrix"
   ]
  },
  {
   "cell_type": "code",
   "execution_count": 33,
   "id": "661bfbde",
   "metadata": {},
   "outputs": [
    {
     "data": {
      "text/plain": [
       "<matplotlib.image.AxesImage at 0x169e88200>"
      ]
     },
     "execution_count": 33,
     "metadata": {},
     "output_type": "execute_result"
    },
    {
     "data": {
      "image/png": "[encoded data removed]",
      "text/plain": [
       "<Figure size 640x480 with 1 Axes>"
      ]
     },
     "metadata": {},
     "output_type": "display_data"
    }
   ],
   "source": [
    "plt.imshow(cov[:500,:500], cmap='viridis')"
   ]
  },
  {
   "cell_type": "code",
   "execution_count": 7,
   "id": "4168ae9e",
   "metadata": {},
   "outputs": [],
   "source": [
    "from scipy.integrate import quad\n",
    "from scipy.interpolate import interp1d\n",
    "\n",
    "\n",
    "#inv_cov = inv_matrix(cov)\n",
    "class Regression:\n",
    "    def __init__(self):\n",
    "        pass\n",
    "    def read_data(self, **kwargs):\n",
    "        data = kwargs['data'] if 'data' in kwargs else None\n",
    "        cov = kwargs['cov'] if 'cov' in kwargs else None\n",
    "        if data is None or cov is None:\n",
    "            raise ValueError(\"Data must be provided for regression.\")\n",
    "        self.z = data['zcmb'].to_numpy()\n",
    "        self.mb = data['mb'].to_numpy()\n",
    "        self.dmb = data['dmb'].to_numpy()\n",
    "        self.inv_cov = inv_matrix(cov)\n",
    "        self.zinterp = np.linspace(min(self.z), max(self.z), 100)\n",
    "        print(\"Data and covariance matrix successfully read.\")\n",
    "        print(f\"Number of data points: {len(self.z)}\")\n",
    "        print(f\"Covariance matrix shape: {cov.shape}\")\n",
    "    def inverse_h_th(self, redshift, Om0): # c/h(z), hz = sqrt(Om0*(1+z)^3 + (1-Om0))\n",
    "        speed_of_light = 299792.458  # in km/s\n",
    "        return speed_of_light/np.sqrt(1-Om0 + Om0*(1+redshift)**3)\n",
    "    def mb_th(self, Om0):\n",
    "        zinterp = self.zinterp\n",
    "        int_arr = np.array([quad(self.inverse_h_th, 0, zi, args=(Om0,))[0] for zi in zinterp])\n",
    "        interp = interp1d(zinterp, int_arr) # D_L (in Mpc) / (c/H0)\n",
    "        mb = 5*np.log10(1+self.z) + 5*np.log10(interp(self.z))\n",
    "        return mb\n",
    "\n",
    "    def residual_plus_alpha(self,Om0,alpha): # alpha = -5logH0 + M\n",
    "        return self.mb - self.mb_th(Om0) + alpha\n",
    "    def predict_alpha(self, Om0, vec_func): # analytical marginalization over alpha\n",
    "        one_vec = np.ones(len(self.z))\n",
    "        def derivative_chisq(Om0, a):\n",
    "            return one_vec @ self.inv_cov @ vec_func(Om0, a).T + vec_func(Om0, a) @ self.inv_cov @ one_vec.T\n",
    "        a_range = np.linspace(-100,100,21) # increment of 10\n",
    "        i=0\n",
    "        for i in range(4 + 2): # precision of 1e-4\n",
    "            derivatives = np.array([derivative_chisq(Om0, a_s) for a_s in a_range])\n",
    "            zero_crossings = np.where(np.diff(np.sign(derivatives)))[0]\n",
    "            if len(zero_crossings) == 0:\n",
    "                raise ValueError(\"No zero crossings found, increase range.\")\n",
    "            a_range = np.linspace(a_range[zero_crossings[0]], a_range[zero_crossings[0]+1], 21)\n",
    "            i += 1\n",
    "        derivatives = np.array([derivative_chisq(Om0, a_s) for a_s in a_range])\n",
    "        zero_crossings = np.where(np.diff(np.sign(derivatives)))[0] # final precision of 1e-5\n",
    "        marg_a_val = (a_range[zero_crossings[0]] + a_range[zero_crossings[0]+1]) / 2\n",
    "        return marg_a_val # this alpha minimizes chi-square for given Om0\n",
    "\n",
    "    def chisq(self, Om0):\n",
    "        alpha = self.predict_alpha(Om0, self.residual_plus_alpha)\n",
    "        chisq_val = self.residual_plus_alpha(Om0, alpha) @ self.inv_cov @ self.residual_plus_alpha(Om0, alpha).T\n",
    "        return chisq_val\n",
    "    def find_min_chisq(self):\n",
    "        Om0_arr = np.linspace(0., 1.0, 11)\n",
    "        for i in range(2): # precision of 1e-3\n",
    "        \n",
    "            chisq_arr = np.array([self.chisq(Om0) for Om0 in Om0_arr])\n",
    "            print(chisq_arr)\n",
    "            min_chisq_om0 = Om0_arr[np.argmin(chisq_arr)]\n",
    "            Om0_arr = np.linspace(min_chisq_om0 - 0.1**(i+1), min_chisq_om0 + 0.1**(i+1), 21)\n",
    "            print('Om0_arr:', Om0_arr)\n",
    "        chisq_arr = np.array([self.chisq(Om0) for Om0 in Om0_arr])\n",
    "        self.bfOm0 = Om0_arr[np.argmin(chisq_arr)]\n",
    "        self.bfChisq = np.min(chisq_arr)\n",
    "        return self.bfOm0, self.bfChisq\n",
    "    \n",
    "    def delta_chisq(self, Om0_arr):\n",
    "        delta_chisq_arr = np.array([self.chisq(Om0) - self.bfChisq for Om0 in Om0_arr])\n",
    "        return delta_chisq_arr\n",
    "\n",
    "            \n",
    "            \n",
    "    "
   ]
  },
  {
   "cell_type": "code",
   "execution_count": 8,
   "id": "1059177f",
   "metadata": {},
   "outputs": [
    {
     "name": "stdout",
     "output_type": "stream",
     "text": [
      "Data and covariance matrix successfully read.\n",
      "Number of data points: 1048\n",
      "Covariance matrix shape: (1048, 1048)\n"
     ]
    }
   ],
   "source": [
    "Reg = Regression()\n",
    "Reg.read_data(data = sndata, cov=cov)"
   ]
  },
  {
   "cell_type": "code",
   "execution_count": 9,
   "id": "0a7488e4",
   "metadata": {},
   "outputs": [
    {
     "name": "stdout",
     "output_type": "stream",
     "text": [
      "[1393.16848728 1146.52223897 1050.81229296 1026.70306198 1044.80682668\n",
      " 1090.08847221 1153.73679408 1230.15606473 1315.59585321 1407.44329078\n",
      " 1503.82443858]\n",
      "Om0_arr: [0.2  0.21 0.22 0.23 0.24 0.25 0.26 0.27 0.28 0.29 0.3  0.31 0.32 0.33\n",
      " 0.34 0.35 0.36 0.37 0.38 0.39 0.4 ]\n",
      "[1050.81229296 1045.84666428 1041.53064133 1037.82946099 1034.71096318\n",
      " 1032.1453252  1030.10483081 1028.56366863 1027.49775515 1026.88457879\n",
      " 1026.70306198 1026.9334386  1027.55714479 1028.55672137 1029.91572624\n",
      " 1031.6186557  1033.65087343 1035.99854627 1038.64858608 1041.58859686\n",
      " 1044.80682668]\n",
      "Om0_arr: [0.29  0.291 0.292 0.293 0.294 0.295 0.296 0.297 0.298 0.299 0.3   0.301\n",
      " 0.302 0.303 0.304 0.305 0.306 0.307 0.308 0.309 0.31 ]\n"
     ]
    },
    {
     "data": {
      "text/plain": [
       "(np.float64(0.29900000000000004), np.float64(1026.702362079202))"
      ]
     },
     "execution_count": 9,
     "metadata": {},
     "output_type": "execute_result"
    }
   ],
   "source": [
    "Reg.find_min_chisq()"
   ]
  },
  {
   "cell_type": "code",
   "execution_count": 10,
   "id": "0117c5a7",
   "metadata": {},
   "outputs": [],
   "source": [
    "from scipy.stats import norm, chi2\n",
    "\n",
    "conf_interv = []\n",
    "for i in range(3):\n",
    "    conf_interv.append(norm.cdf(i+1) - norm.cdf(-i-1))\n",
    "chi2_vals = []\n",
    "for j in range(len(conf_interv)):\n",
    "    chi2_vals.append(chi2.ppf(conf_interv[j], df=1))"
   ]
  },
  {
   "cell_type": "code",
   "execution_count": 11,
   "id": "ae7df1af",
   "metadata": {},
   "outputs": [],
   "source": [
    "Om0_arr = np.linspace(0.3-0.1, 0.3+0.1, 50)\n",
    "delta_chisq = Reg.delta_chisq(Om0_arr)"
   ]
  },
  {
   "cell_type": "code",
   "execution_count": 12,
   "id": "331cac60",
   "metadata": {},
   "outputs": [],
   "source": [
    "conf_sig1 = [np.min(Om0_arr[np.argwhere(delta_chisq < chi2_vals[0])]), np.max(Om0_arr[np.argwhere(delta_chisq < chi2_vals[0])])]\n",
    "conf_sig2 = [np.min(Om0_arr[np.argwhere(delta_chisq < chi2_vals[1])]), np.max(Om0_arr[np.argwhere(delta_chisq < chi2_vals[1])])]\n",
    "conf_sig3 = [np.min(Om0_arr[np.argwhere(delta_chisq < chi2_vals[2])]), np.max(Om0_arr[np.argwhere(delta_chisq < chi2_vals[2])])]"
   ]
  },
  {
   "cell_type": "code",
   "execution_count": 13,
   "id": "b7497519",
   "metadata": {},
   "outputs": [
    {
     "data": {
      "text/plain": [
       "[np.float64(0.236734693877551), np.float64(0.36734693877551017)]"
      ]
     },
     "execution_count": 13,
     "metadata": {},
     "output_type": "execute_result"
    }
   ],
   "source": [
    "conf_sig3"
   ]
  },
  {
   "cell_type": "code",
   "execution_count": 17,
   "id": "fa4fd21c",
   "metadata": {},
   "outputs": [
    {
     "name": "stdout",
     "output_type": "stream",
     "text": [
      "1 - sigma confidence interval : + 0.0194 - 0.0174\n",
      "2 - sigma confidence interval : + 0.0439 - 0.0419\n",
      "3 - sigma confidence interval : + 0.0683 - 0.0623\n"
     ]
    }
   ],
   "source": [
    "print(f\"1 - sigma confidence interval : + {(conf_sig1[1] - Reg.bfOm0):.4f} - {Reg.bfOm0 - conf_sig1[0]:.4f}\")\n",
    "print(f\"2 - sigma confidence interval : + {(conf_sig2[1] - Reg.bfOm0):.4f} - {Reg.bfOm0 - conf_sig2[0]:.4f}\")\n",
    "print(f\"3 - sigma confidence interval : + {(conf_sig3[1] - Reg.bfOm0):.4f} - {Reg.bfOm0 - conf_sig3[0]:.4f}\")"
   ]
  },
  {
   "cell_type": "code",
   "execution_count": null,
   "id": "c333fdbb",
   "metadata": {},
   "outputs": [
    {
     "data": {
      "text/plain": [
       "<matplotlib.legend.Legend at 0x16b525bb0>"
      ]
     },
     "execution_count": 63,
     "metadata": {},
     "output_type": "execute_result"
    },
    {
     "data": {
      "image/png": "[encoded data removed]",
      "text/plain": [
       "<Figure size 640x480 with 1 Axes>"
      ]
     },
     "metadata": {},
     "output_type": "display_data"
    }
   ],
   "source": [
    "\n",
    "plt.plot(Om0_arr, delta_chisq)\n",
    "plt.ylim([-1,24])\n",
    "plt.vlines(conf_sig1[0],-1, delta_chisq[np.where(Om0_arr == conf_sig1[0])][0], color='r', linestyle='--', label=f'1σ interval = ')\n",
    "plt.vlines(conf_sig1[1],-1, delta_chisq[np.where(Om0_arr == conf_sig1[1])][0], color='r', linestyle='--')\n",
    "plt.vlines(conf_sig2[0],-1, delta_chisq[np.where(Om0_arr == conf_sig2[0])][0], color='g', linestyle='--', label='2σ interval')\n",
    "plt.vlines(conf_sig2[1],-1, delta_chisq[np.where(Om0_arr == conf_sig2[1])][0], color='g', linestyle='--')\n",
    "plt.vlines(conf_sig3[0],-1, delta_chisq[np.where(Om0_arr == conf_sig3[0])][0], color='b', linestyle='--', label='3σ interval')\n",
    "plt.vlines(conf_sig3[1],-1, delta_chisq[np.where(Om0_arr == conf_sig3[1])][0], color='b', linestyle='--')\n",
    "plt.xlabel('Ωm0')\n",
    "plt.ylabel(r'$\\Delta χ²$')\n",
    "plt.legend()"
   ]
  },
  {
   "cell_type": "code",
   "execution_count": null,
   "id": "4d427427",
   "metadata": {},
   "outputs": [],
   "source": []
  }
 ],
 "metadata": {
  "kernelspec": {
   "display_name": "venv",
   "language": "python",
   "name": "python3"
  },
  "language_info": {
   "codemirror_mode": {
    "name": "ipython",
    "version": 3
   },
   "file_extension": ".py",
   "mimetype": "text/x-python",
   "name": "python",
   "nbconvert_exporter": "python",
   "pygments_lexer": "ipython3",
   "version": "3.12.11"
  }
 },
 "nbformat": 4,
 "nbformat_minor": 5
}
